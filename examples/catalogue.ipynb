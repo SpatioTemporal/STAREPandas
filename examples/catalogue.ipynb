{
 "cells": [
  {
   "cell_type": "code",
   "execution_count": 1,
   "metadata": {},
   "outputs": [],
   "source": [
    "import starepandas\n",
    "import pandas\n",
    "import geopandas\n",
    "import matplotlib.pyplot as plt\n",
    "import sqlalchemy\n",
    "import shapely\n",
    "import numpy"
   ]
  },
  {
   "cell_type": "markdown",
   "metadata": {},
   "source": [
    "# Loading countries\n",
    "We load the countries of the world and create STARE index values representing their cover. "
   ]
  },
  {
   "cell_type": "code",
   "execution_count": 2,
   "metadata": {},
   "outputs": [
    {
     "name": "stdout",
     "output_type": "stream",
     "text": [
      "Index(['pop_est', 'continent', 'name', 'iso_a3', 'gdp_md_est', 'geometry'], dtype='object')\n"
     ]
    },
    {
     "data": {
      "text/html": [
       "<div>\n",
       "<style scoped>\n",
       "    .dataframe tbody tr th:only-of-type {\n",
       "        vertical-align: middle;\n",
       "    }\n",
       "\n",
       "    .dataframe tbody tr th {\n",
       "        vertical-align: top;\n",
       "    }\n",
       "\n",
       "    .dataframe thead th {\n",
       "        text-align: right;\n",
       "    }\n",
       "</style>\n",
       "<table border=\"1\" class=\"dataframe\">\n",
       "  <thead>\n",
       "    <tr style=\"text-align: right;\">\n",
       "      <th></th>\n",
       "      <th>pop_est</th>\n",
       "      <th>continent</th>\n",
       "      <th>name</th>\n",
       "      <th>iso_a3</th>\n",
       "      <th>gdp_md_est</th>\n",
       "      <th>geometry</th>\n",
       "      <th>stare</th>\n",
       "      <th>trixels</th>\n",
       "    </tr>\n",
       "  </thead>\n",
       "  <tbody>\n",
       "    <tr>\n",
       "      <th>3</th>\n",
       "      <td>35623680</td>\n",
       "      <td>North America</td>\n",
       "      <td>Canada</td>\n",
       "      <td>CAN</td>\n",
       "      <td>1674000.0</td>\n",
       "      <td>MULTIPOLYGON (((-122.84000 49.00000, -122.9742...</td>\n",
       "      <td>[3035426148847714308, 3062447746611937284, 306...</td>\n",
       "      <td>(POLYGON ((-75.36119395309578 57.6315877704803...</td>\n",
       "    </tr>\n",
       "    <tr>\n",
       "      <th>4</th>\n",
       "      <td>326625791</td>\n",
       "      <td>North America</td>\n",
       "      <td>United States of America</td>\n",
       "      <td>USA</td>\n",
       "      <td>18560000.0</td>\n",
       "      <td>MULTIPOLYGON (((-122.84000 49.00000, -120.0000...</td>\n",
       "      <td>[3332663724254167043, 3071454945866678276, 307...</td>\n",
       "      <td>(POLYGON ((-90.00000034377467 35.2643901689254...</td>\n",
       "    </tr>\n",
       "    <tr>\n",
       "      <th>16</th>\n",
       "      <td>10646714</td>\n",
       "      <td>North America</td>\n",
       "      <td>Haiti</td>\n",
       "      <td>HTI</td>\n",
       "      <td>19340.0</td>\n",
       "      <td>POLYGON ((-71.71236 19.71446, -71.62487 19.169...</td>\n",
       "      <td>[3100869080932941831, 3100904265305030663, 310...</td>\n",
       "      <td>(POLYGON ((-72.49080671672886 19.1339374296424...</td>\n",
       "    </tr>\n",
       "    <tr>\n",
       "      <th>17</th>\n",
       "      <td>10734247</td>\n",
       "      <td>North America</td>\n",
       "      <td>Dominican Rep.</td>\n",
       "      <td>DOM</td>\n",
       "      <td>161900.0</td>\n",
       "      <td>POLYGON ((-71.70830 18.04500, -71.68774 18.316...</td>\n",
       "      <td>[2506253192631681031, 2506323561375858695, 250...</td>\n",
       "      <td>(POLYGON ((-69.40758227230447 18.0684328436267...</td>\n",
       "    </tr>\n",
       "    <tr>\n",
       "      <th>19</th>\n",
       "      <td>329988</td>\n",
       "      <td>North America</td>\n",
       "      <td>Bahamas</td>\n",
       "      <td>BHS</td>\n",
       "      <td>9066.0</td>\n",
       "      <td>MULTIPOLYGON (((-78.98000 26.79000, -78.51000 ...</td>\n",
       "      <td>[3126096275720634375, 3128875841115652103, 313...</td>\n",
       "      <td>(POLYGON ((-77.359038727403 26.6312970536891, ...</td>\n",
       "    </tr>\n",
       "  </tbody>\n",
       "</table>\n",
       "</div>"
      ],
      "text/plain": [
       "      pop_est      continent                      name iso_a3  gdp_md_est  \\\n",
       "3    35623680  North America                    Canada    CAN   1674000.0   \n",
       "4   326625791  North America  United States of America    USA  18560000.0   \n",
       "16   10646714  North America                     Haiti    HTI     19340.0   \n",
       "17   10734247  North America            Dominican Rep.    DOM    161900.0   \n",
       "19     329988  North America                   Bahamas    BHS      9066.0   \n",
       "\n",
       "                                             geometry  \\\n",
       "3   MULTIPOLYGON (((-122.84000 49.00000, -122.9742...   \n",
       "4   MULTIPOLYGON (((-122.84000 49.00000, -120.0000...   \n",
       "16  POLYGON ((-71.71236 19.71446, -71.62487 19.169...   \n",
       "17  POLYGON ((-71.70830 18.04500, -71.68774 18.316...   \n",
       "19  MULTIPOLYGON (((-78.98000 26.79000, -78.51000 ...   \n",
       "\n",
       "                                                stare  \\\n",
       "3   [3035426148847714308, 3062447746611937284, 306...   \n",
       "4   [3332663724254167043, 3071454945866678276, 307...   \n",
       "16  [3100869080932941831, 3100904265305030663, 310...   \n",
       "17  [2506253192631681031, 2506323561375858695, 250...   \n",
       "19  [3126096275720634375, 3128875841115652103, 313...   \n",
       "\n",
       "                                              trixels  \n",
       "3   (POLYGON ((-75.36119395309578 57.6315877704803...  \n",
       "4   (POLYGON ((-90.00000034377467 35.2643901689254...  \n",
       "16  (POLYGON ((-72.49080671672886 19.1339374296424...  \n",
       "17  (POLYGON ((-69.40758227230447 18.0684328436267...  \n",
       "19  (POLYGON ((-77.359038727403 26.6312970536891, ...  "
      ]
     },
     "execution_count": 2,
     "metadata": {},
     "output_type": "execute_result"
    }
   ],
   "source": [
    "path = geopandas.datasets.get_path('naturalearth_lowres')\n",
    "world = geopandas.read_file(path)\n",
    "n_america = world[world.continent=='North America']\n",
    "\n",
    "stare = starepandas.stare_from_gdf(n_america, level=7, force_ccw=True)\n",
    "n_america = starepandas.STAREDataFrame(n_america, stare=stare)\n",
    "\n",
    "# The trixels are just for visualization\n",
    "n_america.set_trixels(inplace=True)\n",
    "n_america.head()"
   ]
  },
  {
   "cell_type": "code",
   "execution_count": 3,
   "metadata": {},
   "outputs": [
    {
     "data": {
      "text/plain": [
       "<AxesSubplot:>"
      ]
     },
     "execution_count": 3,
     "metadata": {},
     "output_type": "execute_result"
    },
    {
     "data": {
      "image/png": "[encoded data removed]",
      "text/plain": [
       "<Figure size 432x288 with 1 Axes>"
      ]
     },
     "metadata": {
      "needs_background": "light"
     },
     "output_type": "display_data"
    }
   ],
   "source": [
    "fig, ax = plt.subplots()\n",
    "ax.grid(True)\n",
    "\n",
    "n_america.plot(ax=ax, trixels=True, boundary=True, color='y', zorder=0)\n",
    "n_america.plot(ax=ax, trixels=False, facecolor=\"none\", edgecolor='blue', zorder=1)"
   ]
  },
  {
   "cell_type": "markdown",
   "metadata": {},
   "source": [
    "# We are creating an catalogue dataframe\n",
    "\n",
    "folder2catalogue() scans the path for granules, reads stare cover from the sidecar file as well as the timestamps from the metadata and creatse a catalogue dataframe"
   ]
  },
  {
   "cell_type": "code",
   "execution_count": 4,
   "metadata": {},
   "outputs": [],
   "source": [
    "import starepandas"
   ]
  },
  {
   "cell_type": "code",
   "execution_count": 5,
   "metadata": {},
   "outputs": [
    {
     "name": "stdout",
     "output_type": "stream",
     "text": [
      "Index(['begining', 'ending', 'geom', 'granule_name', 'sidecar_name',\n",
      "       'stare_cover'],\n",
      "      dtype='object')\n"
     ]
    },
    {
     "data": {
      "text/html": [
       "<div>\n",
       "<style scoped>\n",
       "    .dataframe tbody tr th:only-of-type {\n",
       "        vertical-align: middle;\n",
       "    }\n",
       "\n",
       "    .dataframe tbody tr th {\n",
       "        vertical-align: top;\n",
       "    }\n",
       "\n",
       "    .dataframe thead th {\n",
       "        text-align: right;\n",
       "    }\n",
       "</style>\n",
       "<table border=\"1\" class=\"dataframe\">\n",
       "  <thead>\n",
       "    <tr style=\"text-align: right;\">\n",
       "      <th></th>\n",
       "      <th>begining</th>\n",
       "      <th>ending</th>\n",
       "      <th>geom</th>\n",
       "      <th>granule_name</th>\n",
       "      <th>sidecar_name</th>\n",
       "      <th>stare_cover</th>\n",
       "    </tr>\n",
       "  </thead>\n",
       "  <tbody>\n",
       "    <tr>\n",
       "      <th>0</th>\n",
       "      <td>2019-12-02 00:00:00</td>\n",
       "      <td>2019-12-02 00:05:00</td>\n",
       "      <td>POLYGON ((-15.93400 53.20178, -15.93275 53.292...</td>\n",
       "      <td>/home/griessbaum/MOD09/MOD05_L2.A2019336.0000....</td>\n",
       "      <td>/home/griessbaum/MOD09/MOD05_L2.A2019336.0000....</td>\n",
       "      <td>[3614138700964823044, 3616390500778508292, 361...</td>\n",
       "    </tr>\n",
       "    <tr>\n",
       "      <th>1</th>\n",
       "      <td>2019-11-13 08:15:00</td>\n",
       "      <td>2019-11-13 08:20:00</td>\n",
       "      <td>POLYGON ((24.93397 13.98134, 24.93208 13.96333...</td>\n",
       "      <td>/home/griessbaum/MOD09/MOD09.A2019317.0815.006...</td>\n",
       "      <td>/home/griessbaum/MOD09/MOD09.A2019317.0815.006...</td>\n",
       "      <td>[4361736239108325380, 4366239838735695876, 437...</td>\n",
       "    </tr>\n",
       "    <tr>\n",
       "      <th>2</th>\n",
       "      <td>2020-09-10 13:20:00</td>\n",
       "      <td>2020-09-10 13:25:00</td>\n",
       "      <td>POLYGON ((-49.78107 29.28507, -49.78662 29.195...</td>\n",
       "      <td>/home/griessbaum/MOD09/MOD05_L2.A2020254.1320....</td>\n",
       "      <td>/home/griessbaum/MOD09/MOD05_L2.A2020254.1320....</td>\n",
       "      <td>[2544533789464330244, 2546785589278015492, 256...</td>\n",
       "    </tr>\n",
       "    <tr>\n",
       "      <th>3</th>\n",
       "      <td>2005-12-15 21:25:00</td>\n",
       "      <td>2005-12-15 21:30:00</td>\n",
       "      <td>POLYGON ((-171.02278 37.52311, -171.02644 37.4...</td>\n",
       "      <td>/home/griessbaum/MOD09/MOD05_L2.A2005349.2125....</td>\n",
       "      <td>/home/griessbaum/MOD09/MOD05_L2.A2005349.2125....</td>\n",
       "      <td>[1157425104234217476, 1173187702930014212, 118...</td>\n",
       "    </tr>\n",
       "  </tbody>\n",
       "</table>\n",
       "</div>"
      ],
      "text/plain": [
       "             begining              ending  \\\n",
       "0 2019-12-02 00:00:00 2019-12-02 00:05:00   \n",
       "1 2019-11-13 08:15:00 2019-11-13 08:20:00   \n",
       "2 2020-09-10 13:20:00 2020-09-10 13:25:00   \n",
       "3 2005-12-15 21:25:00 2005-12-15 21:30:00   \n",
       "\n",
       "                                                geom  \\\n",
       "0  POLYGON ((-15.93400 53.20178, -15.93275 53.292...   \n",
       "1  POLYGON ((24.93397 13.98134, 24.93208 13.96333...   \n",
       "2  POLYGON ((-49.78107 29.28507, -49.78662 29.195...   \n",
       "3  POLYGON ((-171.02278 37.52311, -171.02644 37.4...   \n",
       "\n",
       "                                        granule_name  \\\n",
       "0  /home/griessbaum/MOD09/MOD05_L2.A2019336.0000....   \n",
       "1  /home/griessbaum/MOD09/MOD09.A2019317.0815.006...   \n",
       "2  /home/griessbaum/MOD09/MOD05_L2.A2020254.1320....   \n",
       "3  /home/griessbaum/MOD09/MOD05_L2.A2005349.2125....   \n",
       "\n",
       "                                        sidecar_name  \\\n",
       "0  /home/griessbaum/MOD09/MOD05_L2.A2019336.0000....   \n",
       "1  /home/griessbaum/MOD09/MOD09.A2019317.0815.006...   \n",
       "2  /home/griessbaum/MOD09/MOD05_L2.A2020254.1320....   \n",
       "3  /home/griessbaum/MOD09/MOD05_L2.A2005349.2125....   \n",
       "\n",
       "                                         stare_cover  \n",
       "0  [3614138700964823044, 3616390500778508292, 361...  \n",
       "1  [4361736239108325380, 4366239838735695876, 437...  \n",
       "2  [2544533789464330244, 2546785589278015492, 256...  \n",
       "3  [1157425104234217476, 1173187702930014212, 118...  "
      ]
     },
     "execution_count": 5,
     "metadata": {},
     "output_type": "execute_result"
    }
   ],
   "source": [
    "folder = '/home/griessbaum/MOD09/'\n",
    "catalogue = starepandas.folder2catalogue(path=folder, \n",
    "                             granule_extension='hdf',\n",
    "                             add_sf=True)\n",
    "catalogue.head()"
   ]
  },
  {
   "cell_type": "markdown",
   "metadata": {},
   "source": [
    "# Now we use the catalog to find all granules that intersect our ROI"
   ]
  },
  {
   "cell_type": "markdown",
   "metadata": {},
   "source": [
    "## We can do this with geopandas SF based intersects method"
   ]
  },
  {
   "cell_type": "code",
   "execution_count": 6,
   "metadata": {},
   "outputs": [
    {
     "data": {
      "text/plain": [
       "0    /home/griessbaum/MOD09/MOD05_L2.A2019336.0000....\n",
       "Name: granule_name, dtype: object"
      ]
     },
     "execution_count": 6,
     "metadata": {},
     "output_type": "execute_result"
    }
   ],
   "source": [
    "roi_wkt = n_america[n_america.name=='Greenland'].geometry.iloc[0]\n",
    "\n",
    "cover_intersects = catalogue.intersects(roi_wkt)\n",
    "granule_subset = catalogue[cover_intersects].granule_name\n",
    "\n",
    "granule_subset.head()"
   ]
  },
  {
   "cell_type": "markdown",
   "metadata": {},
   "source": [
    "## We can do this with stare_intersects"
   ]
  },
  {
   "cell_type": "code",
   "execution_count": 7,
   "metadata": {},
   "outputs": [
    {
     "name": "stdout",
     "output_type": "stream",
     "text": [
      "there are 1 granules intersecting the ROI\n"
     ]
    },
    {
     "data": {
      "text/plain": [
       "0    /home/griessbaum/MOD09/MOD05_L2.A2019336.0000....\n",
       "Name: granule_name, dtype: object"
      ]
     },
     "execution_count": 7,
     "metadata": {},
     "output_type": "execute_result"
    }
   ],
   "source": [
    "roi_stare = n_america[n_america.name=='Greenland'].stare.iloc[0]\n",
    "\n",
    "cover_intersects = catalogue.stare_intersects(roi_stare)\n",
    "granule_subset = catalogue[cover_intersects].granule_name\n",
    "\n",
    "msg = 'there are {} granules intersecting the ROI'.format(len(granule_subset))\n",
    "print(msg)\n",
    "granule_subset.head()"
   ]
  },
  {
   "cell_type": "markdown",
   "metadata": {},
   "source": [
    "# Finally, we extract the data from the pre-selected granules that intersects with our ROI"
   ]
  },
  {
   "cell_type": "code",
   "execution_count": 8,
   "metadata": {},
   "outputs": [
    {
     "name": "stdout",
     "output_type": "stream",
     "text": [
      "/home/griessbaum/MOD09/MOD05_L2.A2019336.0000.061.2019336211522.hdf has 26756 intersecting points\n"
     ]
    }
   ],
   "source": [
    "df = pandas.DataFrame()\n",
    "for granule in granule_subset:\n",
    "    g = starepandas.read_mod05(granule, sidecar=True)\n",
    "    intersects = g.stare_intersects(roi_stare)\n",
    "    msg = '{granule} has {n} intersecting points'.format(granule=granule,\n",
    "                                                        n=sum(intersects))\n",
    "    print(msg)\n",
    "    df = df.append(g[intersects])"
   ]
  },
  {
   "cell_type": "code",
   "execution_count": 9,
   "metadata": {
    "scrolled": true
   },
   "outputs": [
    {
     "data": {
      "text/html": [
       "<div>\n",
       "<style scoped>\n",
       "    .dataframe tbody tr th:only-of-type {\n",
       "        vertical-align: middle;\n",
       "    }\n",
       "\n",
       "    .dataframe tbody tr th {\n",
       "        vertical-align: top;\n",
       "    }\n",
       "\n",
       "    .dataframe thead th {\n",
       "        text-align: right;\n",
       "    }\n",
       "</style>\n",
       "<table border=\"1\" class=\"dataframe\">\n",
       "  <thead>\n",
       "    <tr style=\"text-align: right;\">\n",
       "      <th></th>\n",
       "      <th>lat</th>\n",
       "      <th>lon</th>\n",
       "      <th>stare</th>\n",
       "      <th>Scan_Start_Time</th>\n",
       "      <th>Solar_Zenith</th>\n",
       "      <th>Solar_Azimuth</th>\n",
       "      <th>Sensor_Zenith</th>\n",
       "      <th>Sensor_Azimuth</th>\n",
       "      <th>Water_Vapor_Infrared</th>\n",
       "    </tr>\n",
       "  </thead>\n",
       "  <tbody>\n",
       "    <tr>\n",
       "      <th>55278</th>\n",
       "      <td>59.822590</td>\n",
       "      <td>-43.944996</td>\n",
       "      <td>3630376560299884459</td>\n",
       "      <td>8.493986e+08</td>\n",
       "      <td>13256</td>\n",
       "      <td>-5505</td>\n",
       "      <td>2864</td>\n",
       "      <td>6766</td>\n",
       "      <td>-9999</td>\n",
       "    </tr>\n",
       "    <tr>\n",
       "      <th>55279</th>\n",
       "      <td>59.800552</td>\n",
       "      <td>-44.052574</td>\n",
       "      <td>3630376364319331947</td>\n",
       "      <td>8.493986e+08</td>\n",
       "      <td>13253</td>\n",
       "      <td>-5518</td>\n",
       "      <td>2910</td>\n",
       "      <td>6757</td>\n",
       "      <td>161</td>\n",
       "    </tr>\n",
       "    <tr>\n",
       "      <th>55280</th>\n",
       "      <td>59.778336</td>\n",
       "      <td>-44.160446</td>\n",
       "      <td>3630446998470491531</td>\n",
       "      <td>8.493986e+08</td>\n",
       "      <td>13249</td>\n",
       "      <td>-5532</td>\n",
       "      <td>2957</td>\n",
       "      <td>6748</td>\n",
       "      <td>166</td>\n",
       "    </tr>\n",
       "    <tr>\n",
       "      <th>55546</th>\n",
       "      <td>59.912483</td>\n",
       "      <td>-43.770641</td>\n",
       "      <td>3630379610335789163</td>\n",
       "      <td>8.493986e+08</td>\n",
       "      <td>13258</td>\n",
       "      <td>-5478</td>\n",
       "      <td>2771</td>\n",
       "      <td>6877</td>\n",
       "      <td>395</td>\n",
       "    </tr>\n",
       "    <tr>\n",
       "      <th>55547</th>\n",
       "      <td>59.891968</td>\n",
       "      <td>-43.872753</td>\n",
       "      <td>3630377324249826827</td>\n",
       "      <td>8.493986e+08</td>\n",
       "      <td>13255</td>\n",
       "      <td>-5491</td>\n",
       "      <td>2817</td>\n",
       "      <td>6867</td>\n",
       "      <td>-9999</td>\n",
       "    </tr>\n",
       "  </tbody>\n",
       "</table>\n",
       "</div>"
      ],
      "text/plain": [
       "             lat        lon                stare  Scan_Start_Time  \\\n",
       "55278  59.822590 -43.944996  3630376560299884459     8.493986e+08   \n",
       "55279  59.800552 -44.052574  3630376364319331947     8.493986e+08   \n",
       "55280  59.778336 -44.160446  3630446998470491531     8.493986e+08   \n",
       "55546  59.912483 -43.770641  3630379610335789163     8.493986e+08   \n",
       "55547  59.891968 -43.872753  3630377324249826827     8.493986e+08   \n",
       "\n",
       "       Solar_Zenith  Solar_Azimuth  Sensor_Zenith  Sensor_Azimuth  \\\n",
       "55278         13256          -5505           2864            6766   \n",
       "55279         13253          -5518           2910            6757   \n",
       "55280         13249          -5532           2957            6748   \n",
       "55546         13258          -5478           2771            6877   \n",
       "55547         13255          -5491           2817            6867   \n",
       "\n",
       "       Water_Vapor_Infrared  \n",
       "55278                 -9999  \n",
       "55279                   161  \n",
       "55280                   166  \n",
       "55546                   395  \n",
       "55547                 -9999  "
      ]
     },
     "execution_count": 9,
     "metadata": {},
     "output_type": "execute_result"
    }
   ],
   "source": [
    "df.head()"
   ]
  },
  {
   "cell_type": "markdown",
   "metadata": {},
   "source": [
    "# Write to SQL \n",
    "We can write the catalogue dataframe to an sql (e.g. sqlite) database. \n",
    "From here, we could use STARELite to query the catalogue, or load it back into a STAREDataframe if we need to"
   ]
  },
  {
   "cell_type": "code",
   "execution_count": 10,
   "metadata": {},
   "outputs": [],
   "source": [
    "db_path = 'data/catalogue.sqlite' \n",
    "uri = 'sqlite:///{db_path}'.format(db_path=db_path)\n",
    "engine = sqlalchemy.create_engine(uri)\n",
    "\n",
    "catalogue_ewkb = geopandas.io.sql._convert_to_ewkb(catalogue, 'geom', 4326)\n",
    "catalogue_ewkb.to_sql(name='catalogue', con=engine, if_exists='replace', index=False)"
   ]
  },
  {
   "cell_type": "markdown",
   "metadata": {},
   "source": [
    "## Load from SQL"
   ]
  },
  {
   "cell_type": "code",
   "execution_count": 11,
   "metadata": {},
   "outputs": [],
   "source": [
    "db_path = 'data/catalogue.sqlite' \n",
    "uri = 'sqlite:///{db_path}'.format(db_path=db_path)\n",
    "engine = sqlalchemy.create_engine(uri)"
   ]
  },
  {
   "cell_type": "code",
   "execution_count": 22,
   "metadata": {},
   "outputs": [
    {
     "name": "stdout",
     "output_type": "stream",
     "text": [
      "Index(['begining', 'ending', 'geom', 'granule_name', 'sidecar_name',\n",
      "       'stare_cover'],\n",
      "      dtype='object')\n"
     ]
    }
   ],
   "source": [
    "cover_intersects = pandas.read_sql(sql='catalogue', con=engine)\n",
    "\n",
    "# Geometry and STARE are stored in blobs, so we need to deserialize\n",
    "cover_intersects.stare_cover = cover_intersects.stare_cover.apply(func=numpy.frombuffer, args=('int64',))\n",
    "cover_intersects.geom = cover_intersects.geom.apply(shapely.wkb.loads, args=(True,))\n",
    "\n",
    "# We convert the conventional DF to a STAREDataFrame and set the stare column\n",
    "cover_intersects = starepandas.STAREDataFrame(cover_intersects, stare='stare_cover')\n"
   ]
  }
 ],
 "metadata": {
  "kernelspec": {
   "display_name": "Python 3",
   "language": "python",
   "name": "python3"
  },
  "language_info": {
   "codemirror_mode": {
    "name": "ipython",
    "version": 3
   },
   "file_extension": ".py",
   "mimetype": "text/x-python",
   "name": "python",
   "nbconvert_exporter": "python",
   "pygments_lexer": "ipython3",
   "version": "3.8.5"
  }
 },
 "nbformat": 4,
 "nbformat_minor": 4
}
