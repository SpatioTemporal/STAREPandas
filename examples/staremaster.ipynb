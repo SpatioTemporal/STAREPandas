{
 "cells": [
  {
   "cell_type": "code",
   "execution_count": 13,
   "metadata": {},
   "outputs": [],
   "source": [
    "import sys\n",
    "sys.path.insert(0, '/home/griessbaum/Dropbox/UCSB/STARE_Project/STAREMaster_py/') \n",
    "import staremaster\n",
    "import starepandas\n",
    "import pystare\n",
    "import numpy\n",
    "import glob\n",
    "import geopandas\n",
    "import netCDF4\n",
    "import matplotlib.pyplot as plt"
   ]
  },
  {
   "cell_type": "markdown",
   "metadata": {},
   "source": [
    "# Plotting some"
   ]
  },
  {
   "cell_type": "code",
   "execution_count": 2,
   "metadata": {
    "scrolled": false
   },
   "outputs": [
    {
     "data": {
      "text/html": [
       "<div>\n",
       "<style scoped>\n",
       "    .dataframe tbody tr th:only-of-type {\n",
       "        vertical-align: middle;\n",
       "    }\n",
       "\n",
       "    .dataframe tbody tr th {\n",
       "        vertical-align: top;\n",
       "    }\n",
       "\n",
       "    .dataframe thead th {\n",
       "        text-align: right;\n",
       "    }\n",
       "</style>\n",
       "<table border=\"1\" class=\"dataframe\">\n",
       "  <thead>\n",
       "    <tr style=\"text-align: right;\">\n",
       "      <th></th>\n",
       "      <th>lat</th>\n",
       "      <th>lon</th>\n",
       "      <th>stare</th>\n",
       "      <th>Scan_Start_Time</th>\n",
       "      <th>Solar_Zenith</th>\n",
       "      <th>Solar_Azimuth</th>\n",
       "      <th>Sensor_Zenith</th>\n",
       "      <th>Sensor_Azimuth</th>\n",
       "      <th>Water_Vapor_Infrared</th>\n",
       "      <th>trixels</th>\n",
       "    </tr>\n",
       "  </thead>\n",
       "  <tbody>\n",
       "    <tr>\n",
       "      <th>0</th>\n",
       "      <td>37.523113</td>\n",
       "      <td>-171.022781</td>\n",
       "      <td>3461703427396677225</td>\n",
       "      <td>4.088355e+08</td>\n",
       "      <td>6652</td>\n",
       "      <td>15134</td>\n",
       "      <td>6528</td>\n",
       "      <td>9284</td>\n",
       "      <td>-9999</td>\n",
       "      <td>POLYGON ((-171.2413683751765 37.4767503314676,...</td>\n",
       "    </tr>\n",
       "    <tr>\n",
       "      <th>1</th>\n",
       "      <td>37.512848</td>\n",
       "      <td>-170.757797</td>\n",
       "      <td>3461638512807389609</td>\n",
       "      <td>4.088355e+08</td>\n",
       "      <td>6641</td>\n",
       "      <td>15158</td>\n",
       "      <td>6466</td>\n",
       "      <td>9300</td>\n",
       "      <td>-9999</td>\n",
       "      <td>POLYGON ((-170.62610495806 37.56324274527477, ...</td>\n",
       "    </tr>\n",
       "    <tr>\n",
       "      <th>2</th>\n",
       "      <td>37.502403</td>\n",
       "      <td>-170.502655</td>\n",
       "      <td>3461626395679801289</td>\n",
       "      <td>4.088355e+08</td>\n",
       "      <td>6631</td>\n",
       "      <td>15181</td>\n",
       "      <td>6405</td>\n",
       "      <td>9316</td>\n",
       "      <td>-9999</td>\n",
       "      <td>POLYGON ((-170.62610495806 37.56324274527477, ...</td>\n",
       "    </tr>\n",
       "    <tr>\n",
       "      <th>3</th>\n",
       "      <td>37.491814</td>\n",
       "      <td>-170.256668</td>\n",
       "      <td>3461630791091330921</td>\n",
       "      <td>4.088355e+08</td>\n",
       "      <td>6621</td>\n",
       "      <td>15203</td>\n",
       "      <td>6345</td>\n",
       "      <td>9331</td>\n",
       "      <td>-9999</td>\n",
       "      <td>POLYGON ((-170.4447238835748 37.46077035941144...</td>\n",
       "    </tr>\n",
       "    <tr>\n",
       "      <th>4</th>\n",
       "      <td>37.481102</td>\n",
       "      <td>-170.019226</td>\n",
       "      <td>3462097893175897033</td>\n",
       "      <td>4.088355e+08</td>\n",
       "      <td>6611</td>\n",
       "      <td>15225</td>\n",
       "      <td>6286</td>\n",
       "      <td>9346</td>\n",
       "      <td>-9999</td>\n",
       "      <td>POLYGON ((-169.9562740351446 37.39907469363392...</td>\n",
       "    </tr>\n",
       "  </tbody>\n",
       "</table>\n",
       "</div>"
      ],
      "text/plain": [
       "         lat         lon                stare  Scan_Start_Time  Solar_Zenith  \\\n",
       "0  37.523113 -171.022781  3461703427396677225     4.088355e+08          6652   \n",
       "1  37.512848 -170.757797  3461638512807389609     4.088355e+08          6641   \n",
       "2  37.502403 -170.502655  3461626395679801289     4.088355e+08          6631   \n",
       "3  37.491814 -170.256668  3461630791091330921     4.088355e+08          6621   \n",
       "4  37.481102 -170.019226  3462097893175897033     4.088355e+08          6611   \n",
       "\n",
       "   Solar_Azimuth  Sensor_Zenith  Sensor_Azimuth  Water_Vapor_Infrared  \\\n",
       "0          15134           6528            9284                 -9999   \n",
       "1          15158           6466            9300                 -9999   \n",
       "2          15181           6405            9316                 -9999   \n",
       "3          15203           6345            9331                 -9999   \n",
       "4          15225           6286            9346                 -9999   \n",
       "\n",
       "                                             trixels  \n",
       "0  POLYGON ((-171.2413683751765 37.4767503314676,...  \n",
       "1  POLYGON ((-170.62610495806 37.56324274527477, ...  \n",
       "2  POLYGON ((-170.62610495806 37.56324274527477, ...  \n",
       "3  POLYGON ((-170.4447238835748 37.46077035941144...  \n",
       "4  POLYGON ((-169.9562740351446 37.39907469363392...  "
      ]
     },
     "execution_count": 2,
     "metadata": {},
     "output_type": "execute_result"
    }
   ],
   "source": [
    "path = '/home/griessbaum/MOD09/MOD05_L2.A2005349.2125.061.2017294065400.hdf'\n",
    "sdf = starepandas.read_granule(path, sidecar=True)\n",
    "sdf.set_trixels(inplace=True)\n",
    "sdf.head()"
   ]
  },
  {
   "cell_type": "code",
   "execution_count": 3,
   "metadata": {},
   "outputs": [
    {
     "data": {
      "text/plain": [
       "<AxesSubplot:>"
      ]
     },
     "execution_count": 3,
     "metadata": {},
     "output_type": "execute_result"
    },
    {
     "data": {
      "image/png": "[encoded data removed]",
      "text/plain": [
       "<Figure size 432x288 with 1 Axes>"
      ]
     },
     "metadata": {
      "needs_background": "light"
     },
     "output_type": "display_data"
    }
   ],
   "source": [
    "sdf.plot(trixels=True)"
   ]
  },
  {
   "cell_type": "markdown",
   "metadata": {},
   "source": [
    "# Cover"
   ]
  },
  {
   "cell_type": "code",
   "execution_count": 4,
   "metadata": {},
   "outputs": [
    {
     "data": {
      "text/plain": [
       "masked_array(data=[1157425104234217476, 1173187702930014212,\n",
       "                   1182194902184755204, ..., 3467756319912493065,\n",
       "                   3467758518935748617, 3467760717959004169],\n",
       "             mask=False,\n",
       "       fill_value=999999,\n",
       "            dtype=uint64)"
      ]
     },
     "execution_count": 4,
     "metadata": {},
     "output_type": "execute_result"
    }
   ],
   "source": [
    "path = '/home/griessbaum/MOD09/MOD05_L2.A2005349.2125.061.2017294065400.hdf'\n",
    "granule = starepandas.io.file.Mod05(path)\n",
    "granule.read_sidecar_cover()\n",
    "granule.stare_cover"
   ]
  },
  {
   "cell_type": "markdown",
   "metadata": {},
   "source": [
    "# Archive"
   ]
  },
  {
   "cell_type": "code",
   "execution_count": 10,
   "metadata": {},
   "outputs": [
    {
     "data": {
      "text/html": [
       "<div>\n",
       "<style scoped>\n",
       "    .dataframe tbody tr th:only-of-type {\n",
       "        vertical-align: middle;\n",
       "    }\n",
       "\n",
       "    .dataframe tbody tr th {\n",
       "        vertical-align: top;\n",
       "    }\n",
       "\n",
       "    .dataframe thead th {\n",
       "        text-align: right;\n",
       "    }\n",
       "</style>\n",
       "<table border=\"1\" class=\"dataframe\">\n",
       "  <thead>\n",
       "    <tr style=\"text-align: right;\">\n",
       "      <th></th>\n",
       "      <th>begining</th>\n",
       "      <th>ending</th>\n",
       "      <th>geom</th>\n",
       "      <th>granule_name</th>\n",
       "      <th>sidecar_name</th>\n",
       "      <th>stare_cover</th>\n",
       "      <th>trixels</th>\n",
       "    </tr>\n",
       "  </thead>\n",
       "  <tbody>\n",
       "    <tr>\n",
       "      <th>0</th>\n",
       "      <td>2019-12-02 00:00:00</td>\n",
       "      <td>2019-12-02 00:05:00</td>\n",
       "      <td>POLYGON ((-15.93400 53.20178, -15.93275 53.292...</td>\n",
       "      <td>/home/griessbaum/MOD09/MOD05_L2.A2019336.0000....</td>\n",
       "      <td>/home/griessbaum/MOD09/MOD05_L2.A2019336.0000....</td>\n",
       "      <td>[3614138700964823044, 3616390500778508292, 361...</td>\n",
       "      <td>(POLYGON ((-45 61.3249506244446, -37.692955094...</td>\n",
       "    </tr>\n",
       "    <tr>\n",
       "      <th>1</th>\n",
       "      <td>2019-11-13 08:15:00</td>\n",
       "      <td>2019-11-13 08:20:00</td>\n",
       "      <td>POLYGON ((24.93397 13.98134, 24.93208 13.96333...</td>\n",
       "      <td>/home/griessbaum/MOD09/MOD09.A2019317.0815.006...</td>\n",
       "      <td>/home/griessbaum/MOD09/MOD09.A2019317.0815.006...</td>\n",
       "      <td>[4361736239108325380, 4366239838735695876, 437...</td>\n",
       "      <td>(POLYGON ((30.20648377143651 2.508455097115992...</td>\n",
       "    </tr>\n",
       "    <tr>\n",
       "      <th>2</th>\n",
       "      <td>2020-09-10 13:20:00</td>\n",
       "      <td>2020-09-10 13:25:00</td>\n",
       "      <td>POLYGON ((-49.78107 29.28507, -49.78662 29.195...</td>\n",
       "      <td>/home/griessbaum/MOD09/MOD05_L2.A2020254.1320....</td>\n",
       "      <td>/home/griessbaum/MOD09/MOD05_L2.A2020254.1320....</td>\n",
       "      <td>[2544533789464330244, 2546785589278015492, 256...</td>\n",
       "      <td>(POLYGON ((-36.58975467874757 18.8335842249605...</td>\n",
       "    </tr>\n",
       "    <tr>\n",
       "      <th>3</th>\n",
       "      <td>2005-12-15 21:25:00</td>\n",
       "      <td>2005-12-15 21:30:00</td>\n",
       "      <td>POLYGON ((-171.02278 37.52311, -171.02644 37.4...</td>\n",
       "      <td>/home/griessbaum/MOD09/MOD05_L2.A2005349.2125....</td>\n",
       "      <td>/home/griessbaum/MOD09/MOD05_L2.A2005349.2125....</td>\n",
       "      <td>[1157425104234217476, 1173187702930014212, 118...</td>\n",
       "      <td>(POLYGON ((-160.2895002531361 23.1317940109882...</td>\n",
       "    </tr>\n",
       "  </tbody>\n",
       "</table>\n",
       "</div>"
      ],
      "text/plain": [
       "             begining              ending  \\\n",
       "0 2019-12-02 00:00:00 2019-12-02 00:05:00   \n",
       "1 2019-11-13 08:15:00 2019-11-13 08:20:00   \n",
       "2 2020-09-10 13:20:00 2020-09-10 13:25:00   \n",
       "3 2005-12-15 21:25:00 2005-12-15 21:30:00   \n",
       "\n",
       "                                                geom  \\\n",
       "0  POLYGON ((-15.93400 53.20178, -15.93275 53.292...   \n",
       "1  POLYGON ((24.93397 13.98134, 24.93208 13.96333...   \n",
       "2  POLYGON ((-49.78107 29.28507, -49.78662 29.195...   \n",
       "3  POLYGON ((-171.02278 37.52311, -171.02644 37.4...   \n",
       "\n",
       "                                        granule_name  \\\n",
       "0  /home/griessbaum/MOD09/MOD05_L2.A2019336.0000....   \n",
       "1  /home/griessbaum/MOD09/MOD09.A2019317.0815.006...   \n",
       "2  /home/griessbaum/MOD09/MOD05_L2.A2020254.1320....   \n",
       "3  /home/griessbaum/MOD09/MOD05_L2.A2005349.2125....   \n",
       "\n",
       "                                        sidecar_name  \\\n",
       "0  /home/griessbaum/MOD09/MOD05_L2.A2019336.0000....   \n",
       "1  /home/griessbaum/MOD09/MOD09.A2019317.0815.006...   \n",
       "2  /home/griessbaum/MOD09/MOD05_L2.A2020254.1320....   \n",
       "3  /home/griessbaum/MOD09/MOD05_L2.A2005349.2125....   \n",
       "\n",
       "                                         stare_cover  \\\n",
       "0  [3614138700964823044, 3616390500778508292, 361...   \n",
       "1  [4361736239108325380, 4366239838735695876, 437...   \n",
       "2  [2544533789464330244, 2546785589278015492, 256...   \n",
       "3  [1157425104234217476, 1173187702930014212, 118...   \n",
       "\n",
       "                                             trixels  \n",
       "0  (POLYGON ((-45 61.3249506244446, -37.692955094...  \n",
       "1  (POLYGON ((30.20648377143651 2.508455097115992...  \n",
       "2  (POLYGON ((-36.58975467874757 18.8335842249605...  \n",
       "3  (POLYGON ((-160.2895002531361 23.1317940109882...  "
      ]
     },
     "execution_count": 10,
     "metadata": {},
     "output_type": "execute_result"
    }
   ],
   "source": [
    "path = '/home/griessbaum/MOD09/'\n",
    "catalogue = starepandas.folder2catalogue(path=path, \n",
    "                                         granule_extension='hdf',\n",
    "                                         add_sf=True)\n",
    "catalogue.set_trixels(inplace=True)\n",
    "catalogue"
   ]
  },
  {
   "cell_type": "code",
   "execution_count": 11,
   "metadata": {},
   "outputs": [],
   "source": [
    "path = geopandas.datasets.get_path('naturalearth_lowres')\n",
    "world = geopandas.read_file(path)\n",
    "n_america = world[world.continent=='North America']"
   ]
  },
  {
   "cell_type": "code",
   "execution_count": 18,
   "metadata": {},
   "outputs": [
    {
     "data": {
      "text/plain": [
       "<AxesSubplot:>"
      ]
     },
     "execution_count": 18,
     "metadata": {},
     "output_type": "execute_result"
    },
    {
     "data": {
      "image/png": "[encoded data removed]",
      "text/plain": [
       "<Figure size 432x288 with 1 Axes>"
      ]
     },
     "metadata": {
      "needs_background": "light"
     },
     "output_type": "display_data"
    }
   ],
   "source": [
    "fig, ax = plt.subplots()\n",
    "ax.grid(True)\n",
    "\n",
    "catalogue.plot(trixels=True, ax=ax)\n",
    "n_america.plot(ax=ax, color='green')"
   ]
  },
  {
   "cell_type": "markdown",
   "metadata": {},
   "source": [
    "# Mod09"
   ]
  },
  {
   "cell_type": "code",
   "execution_count": 5,
   "metadata": {},
   "outputs": [],
   "source": [
    "file_path = '/home/griessbaum/MOD09/MOD09.A2019317.0815.006.2019319020759.hdf'\n",
    "granule = staremaster.products.MOD09(file_path)"
   ]
  },
  {
   "cell_type": "code",
   "execution_count": 6,
   "metadata": {},
   "outputs": [
    {
     "data": {
      "text/plain": [
       "[21.2924408084265, 42.1486370419965, 46.0745301084718, 24.8210112028667]"
      ]
     },
     "execution_count": 6,
     "metadata": {},
     "output_type": "execute_result"
    }
   ],
   "source": [
    "core_metadata = granule.get_metadata_group('CoreMetadata')    \n",
    "g_points = core_metadata['INVENTORYMETADATA']['SPATIALDOMAINCONTAINER']['HORIZONTALSPATIALDOMAINCONTAINER']['GPOLYGON']['GPOLYGONCONTAINER']['GRINGPOINT']        \n",
    "lats = g_points['GRINGPOINTLATITUDE']['VALUE']\n",
    "lons = g_points['GRINGPOINTLONGITUDE']['VALUE']\n",
    "\n",
    "lats = list(map(float,lats.strip('()').split(', ')))[::-1]\n",
    "lons = list(map(float, lons.strip('()').split(', ')))[::-1]\n",
    "lons"
   ]
  },
  {
   "cell_type": "code",
   "execution_count": 7,
   "metadata": {},
   "outputs": [],
   "source": [
    "sids = pystare.to_nonconvex_hull_range_from_latlon(lats, lons, 8)"
   ]
  },
  {
   "cell_type": "code",
   "execution_count": 8,
   "metadata": {},
   "outputs": [],
   "source": [
    "sdf = starepandas.STAREDataFrame(stare=sids)\n",
    "sdf.set_trixels(inplace=True)"
   ]
  },
  {
   "cell_type": "code",
   "execution_count": 9,
   "metadata": {},
   "outputs": [
    {
     "data": {
      "text/plain": [
       "<AxesSubplot:>"
      ]
     },
     "execution_count": 9,
     "metadata": {},
     "output_type": "execute_result"
    },
    {
     "data": {
      "image/png": "[encoded data removed]",
      "text/plain": [
       "<Figure size 432x288 with 1 Axes>"
      ]
     },
     "metadata": {
      "needs_background": "light"
     },
     "output_type": "display_data"
    }
   ],
   "source": [
    "sdf.plot(trixels=True)"
   ]
  },
  {
   "cell_type": "markdown",
   "metadata": {},
   "source": [
    "# VNP03"
   ]
  },
  {
   "cell_type": "code",
   "execution_count": 13,
   "metadata": {},
   "outputs": [],
   "source": [
    "file_path = '/home/griessbaum/MOD09/VNP03DNB.A2012092.1642.001.2017285224354.nc'\n",
    "granule = staremaster.products.VNP03DNB(file_path)"
   ]
  },
  {
   "cell_type": "code",
   "execution_count": 15,
   "metadata": {},
   "outputs": [],
   "source": [
    "chunk_size = 500\n",
    "workers = 4\n",
    "lat_x = xarray.DataArray(granule.lats, dims=['x', 'y']).chunk({'x': chunk_size})\n",
    "lon_x = xarray.DataArray(granule.lons, dims=['x', 'y']).chunk({'x': chunk_size})\n",
    "with dask.distributed.Client(n_workers=workers) as client:            \n",
    "            sids = xarray.apply_ufunc(pystare.from_latlon2D,\n",
    "                                      lat_x,\n",
    "                                      lon_x,\n",
    "                                      dask='parallelized',\n",
    "                                      kwargs={'adapt_resolution': True},\n",
    "                                      output_dtypes=[numpy.int64])\n",
    "            sids = numpy.array(sids)"
   ]
  },
  {
   "cell_type": "code",
   "execution_count": 26,
   "metadata": {},
   "outputs": [
    {
     "data": {
      "text/plain": [
       "15"
      ]
     },
     "execution_count": 26,
     "metadata": {},
     "output_type": "execute_result"
    }
   ],
   "source": [
    "cover_res = int(pystare.spatial_resolution(sids).max())\n",
    "cover_res"
   ]
  },
  {
   "cell_type": "code",
   "execution_count": 27,
   "metadata": {},
   "outputs": [
    {
     "data": {
      "text/plain": [
       "array([2576058986855923715, 2497245993376940036, 2499497793190625284, ...,\n",
       "       3144003468625182735, 3144003469162053647, 3144003469698924559])"
      ]
     },
     "execution_count": 27,
     "metadata": {},
     "output_type": "execute_result"
    }
   ],
   "source": [
    "lats_cover = granule.gring_lats[::-1]\n",
    "lons_cover = granule.gring_lons[::-1]\n",
    "sids_cover = pystare.to_nonconvex_hull_range_from_latlon(lats, lons, cover_res)\n",
    "sids_cover"
   ]
  },
  {
   "cell_type": "code",
   "execution_count": 28,
   "metadata": {},
   "outputs": [
    {
     "data": {
      "text/plain": [
       "136080"
      ]
     },
     "execution_count": 28,
     "metadata": {},
     "output_type": "execute_result"
    }
   ],
   "source": [
    "sids_cover.size"
   ]
  },
  {
   "cell_type": "code",
   "execution_count": null,
   "metadata": {},
   "outputs": [],
   "source": []
  }
 ],
 "metadata": {
  "kernelspec": {
   "display_name": "Python 3",
   "language": "python",
   "name": "python3"
  },
  "language_info": {
   "codemirror_mode": {
    "name": "ipython",
    "version": 3
   },
   "file_extension": ".py",
   "mimetype": "text/x-python",
   "name": "python",
   "nbconvert_exporter": "python",
   "pygments_lexer": "ipython3",
   "version": "3.8.5"
  }
 },
 "nbformat": 4,
 "nbformat_minor": 4
}
