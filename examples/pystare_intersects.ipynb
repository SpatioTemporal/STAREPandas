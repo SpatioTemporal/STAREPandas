{
 "cells": [
  {
   "cell_type": "code",
   "execution_count": 1,
   "metadata": {},
   "outputs": [],
   "source": [
    "import pystare\n",
    "import geopandas\n",
    "import starepandas\n",
    "import datetime"
   ]
  },
  {
   "cell_type": "code",
   "execution_count": 2,
   "metadata": {},
   "outputs": [],
   "source": [
    "# Load Country\n",
    "countries = geopandas.read_file(geopandas.datasets.get_path('naturalearth_lowres'))\n",
    "brazil = countries[countries.name=='Brazil']\n",
    "stare = starepandas.stare_from_gdf(brazil, level=9, force_ccw=True)\n",
    "brazil = starepandas.STAREDataFrame(brazil, stare=stare)\n",
    "\n",
    "# Load Granule\n",
    "fname = 'data/MYD05_L2.A2020060.1635.061.2020061153519.hdf'\n",
    "modis = starepandas.read_granule(fname)\n",
    "geom = geopandas.points_from_xy(modis.lon, modis.lat, crs='EPSG:4326')\n",
    "modis.set_geometry(geom, inplace=True)"
   ]
  },
  {
   "cell_type": "code",
   "execution_count": 3,
   "metadata": {},
   "outputs": [
    {
     "name": "stdout",
     "output_type": "stream",
     "text": [
      "0:00:11.553055\n"
     ]
    }
   ],
   "source": [
    "# STARE based intersects\n",
    "sids_brazil = brazil.stare.iloc[0]\n",
    "sids_modis = list(modis.stare)\n",
    "\n",
    "start = datetime.datetime.now()\n",
    "intersects_stare = pystare.intersects(sids_brazil, sids_modis)\n",
    "print(datetime.datetime.now() - start)"
   ]
  },
  {
   "cell_type": "code",
   "execution_count": 4,
   "metadata": {},
   "outputs": [
    {
     "name": "stdout",
     "output_type": "stream",
     "text": [
      "0:00:29.999030\n"
     ]
    }
   ],
   "source": [
    "# Conventional shapely based instersects test.\n",
    "\n",
    "# pygeos integration is still fragile, \n",
    "# but may speed up things even further\n",
    "geopandas.options.use_pygeos = False\n",
    "\n",
    "start = datetime.datetime.now()\n",
    "intersects = modis.intersects(brazil.geometry.iloc[0])\n",
    "print(datetime.datetime.now() - start)"
   ]
  },
  {
   "cell_type": "code",
   "execution_count": null,
   "metadata": {},
   "outputs": [],
   "source": []
  }
 ],
 "metadata": {
  "kernelspec": {
   "display_name": "Python 3",
   "language": "python",
   "name": "python3"
  },
  "language_info": {
   "codemirror_mode": {
    "name": "ipython",
    "version": 3
   },
   "file_extension": ".py",
   "mimetype": "text/x-python",
   "name": "python",
   "nbconvert_exporter": "python",
   "pygments_lexer": "ipython3",
   "version": "3.8.5"
  }
 },
 "nbformat": 4,
 "nbformat_minor": 4
}
