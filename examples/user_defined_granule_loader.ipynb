{
 "cells": [
  {
   "cell_type": "markdown",
   "id": "215c6c96-6dde-4e63-b400-42e1733758b8",
   "metadata": {},
   "source": [
    "# User defined Loader"
   ]
  },
  {
   "cell_type": "code",
   "execution_count": 32,
   "id": "spatial-tonight",
   "metadata": {},
   "outputs": [],
   "source": [
    "import pystare\n",
    "import starepandas\n",
    "\n",
    "import geopandas\n",
    "import numpy\n",
    "\n",
    "import cartopy\n",
    "import cartopy.crs as ccrs\n",
    "\n",
    "import matplotlib as mpl\n",
    "import matplotlib.pyplot as plt"
   ]
  },
  {
   "cell_type": "code",
   "execution_count": 33,
   "id": "roman-recording",
   "metadata": {},
   "outputs": [],
   "source": [
    "DEFAULT_DPI = mpl.rcParamsDefault['figure.dpi']\n",
    "mpl.rcParams['figure.dpi'] = 1.5 * DEFAULT_DPI\n",
    "mpl.rcParams['legend.fontsize'] = 6"
   ]
  },
  {
   "cell_type": "code",
   "execution_count": 34,
   "id": "precious-newspaper",
   "metadata": {},
   "outputs": [
    {
     "data": {
      "text/plain": [
       "{'MOD09GA|MYD09GA': starepandas.io.granules.modis.Mod09GA,\n",
       " 'MOD05|MYD05': starepandas.io.granules.modis.Mod05,\n",
       " 'MOD03|MYD03': starepandas.io.granules.modis.Mod03,\n",
       " 'MOD09|MYD09': starepandas.io.granules.modis.Mod09,\n",
       " 'VNP02DNB|VJ102DNB': starepandas.io.granules.viirsl2.VNP02DNB,\n",
       " 'VNP03DNB|VJ103DNB': starepandas.io.granules.viirsl2.VNP03DNB,\n",
       " 'VNP03MOD|VJ103MOD': starepandas.io.granules.viirsl2.VNP03MOD,\n",
       " 'CLDMSKL2VIIRS': starepandas.io.granules.viirsl2.CLDMSKL2VIIRS,\n",
       " 'SSMIS': starepandas.io.granules.ssmis.SSMIS,\n",
       " 'ATMS': starepandas.io.granules.atms.ATMS,\n",
       " 'MODXX': __main__.ModXX,\n",
       " 'VNP02IMG': __main__.VNP02IMG,\n",
       " 'VNP03IMG': __main__.VNP03IMG}"
      ]
     },
     "execution_count": 34,
     "metadata": {},
     "output_type": "execute_result"
    }
   ],
   "source": [
    "import starepandas.io.granules.modis\n",
    "\n",
    "class ModXX(starepandas.io.granules.modis.Modis):\n",
    "\n",
    "    def __init__(self, file_path, sidecar_path=None):\n",
    "        super(ModXX, self).__init__(file_path, sidecar_path)\n",
    "        self.nom_res = '5km'\n",
    "\n",
    "    def read_data(self):\n",
    "        dataset_names = ['Scan_Start_Time', 'Solar_Zenith', 'Solar_Azimuth',\n",
    "                         'Sensor_Zenith', 'Sensor_Azimuth', 'Water_Vapor_Infrared']\n",
    "\n",
    "        dataset_names2 = ['Cloud_Mask_QA', 'Water_Vapor_Near_Infrared',\n",
    "                          'Water_Vaport_Corretion_Factors', 'Quality_Assurance_Near_Infrared', 'Quality_Assurance_Infrared']\n",
    "        for dataset_name in dataset_names:\n",
    "            self.data[dataset_name] = self.hdf.select(dataset_name).get()\n",
    "            \n",
    "starepandas.io.granules.granule_factory_library['MODXX']=ModXX\n",
    "\n",
    "starepandas.io.granules.granule_factory_library"
   ]
  },
  {
   "cell_type": "code",
   "execution_count": 35,
   "id": "transparent-boston",
   "metadata": {},
   "outputs": [],
   "source": [
    "mod=None"
   ]
  },
  {
   "cell_type": "code",
   "execution_count": 36,
   "id": "worldwide-calcium",
   "metadata": {},
   "outputs": [],
   "source": [
    "granule_name=\"s3://eis-dh-fire/mod14/raw/MOD14.A2020214.0520.061.2020340090643.hdf\""
   ]
  },
  {
   "cell_type": "code",
   "execution_count": 37,
   "id": "antique-cancer",
   "metadata": {},
   "outputs": [],
   "source": [
    "granule_name=\"../starepandas//datasets/MODXX.hdf\""
   ]
  },
  {
   "cell_type": "code",
   "execution_count": 38,
   "id": "anonymous-price",
   "metadata": {},
   "outputs": [],
   "source": [
    "mod = starepandas.read_granule(granule_name, sidecar=False, latlon=False, add_stare=True)"
   ]
  },
  {
   "cell_type": "code",
   "execution_count": 39,
   "id": "minimal-hepatitis",
   "metadata": {},
   "outputs": [],
   "source": [
    "mod = starepandas.read_granule(granule_name, sidecar=True, latlon=True)"
   ]
  },
  {
   "cell_type": "code",
   "execution_count": 40,
   "id": "attractive-electricity",
   "metadata": {},
   "outputs": [],
   "source": [
    "mod['stare_hex']=mod['sids'].apply(hex)"
   ]
  },
  {
   "cell_type": "code",
   "execution_count": 41,
   "id": "viral-windows",
   "metadata": {},
   "outputs": [],
   "source": [
    "mod['wiv0']=mod['Water_Vapor_Infrared'].apply(lambda x: min(0,x))"
   ]
  },
  {
   "cell_type": "code",
   "execution_count": 42,
   "id": "incomplete-greeting",
   "metadata": {},
   "outputs": [],
   "source": [
    "mod['pod']=mod['sids'].apply(lambda sid: pystare.spatial_clear_to_resolution(pystare.spatial_coerce_resolution(sid,7)))"
   ]
  },
  {
   "cell_type": "code",
   "execution_count": 43,
   "id": "chief-container",
   "metadata": {},
   "outputs": [],
   "source": [
    "mod['pod_hex']=mod['pod'].apply(lambda sid: hex(sid))"
   ]
  },
  {
   "cell_type": "code",
   "execution_count": 44,
   "id": "exempt-article",
   "metadata": {},
   "outputs": [
    {
     "data": {
      "text/html": [
       "<div>\n",
       "<style scoped>\n",
       "    .dataframe tbody tr th:only-of-type {\n",
       "        vertical-align: middle;\n",
       "    }\n",
       "\n",
       "    .dataframe tbody tr th {\n",
       "        vertical-align: top;\n",
       "    }\n",
       "\n",
       "    .dataframe thead th {\n",
       "        text-align: right;\n",
       "    }\n",
       "</style>\n",
       "<table border=\"1\" class=\"dataframe\">\n",
       "  <thead>\n",
       "    <tr style=\"text-align: right;\">\n",
       "      <th></th>\n",
       "      <th>lat</th>\n",
       "      <th>lon</th>\n",
       "      <th>sids</th>\n",
       "      <th>Scan_Start_Time</th>\n",
       "      <th>Solar_Zenith</th>\n",
       "      <th>Solar_Azimuth</th>\n",
       "      <th>Sensor_Zenith</th>\n",
       "      <th>Sensor_Azimuth</th>\n",
       "      <th>Water_Vapor_Infrared</th>\n",
       "      <th>stare_hex</th>\n",
       "      <th>wiv0</th>\n",
       "      <th>pod</th>\n",
       "      <th>pod_hex</th>\n",
       "    </tr>\n",
       "  </thead>\n",
       "  <tbody>\n",
       "    <tr>\n",
       "      <th>0</th>\n",
       "      <td>53.201778</td>\n",
       "      <td>-15.933996</td>\n",
       "      <td>4298473764500464809</td>\n",
       "      <td>8.493984e+08</td>\n",
       "      <td>14709</td>\n",
       "      <td>-2296</td>\n",
       "      <td>6534</td>\n",
       "      <td>-8952</td>\n",
       "      <td>-9999</td>\n",
       "      <td>0x3ba73f1d5162e4a9</td>\n",
       "      <td>-9999</td>\n",
       "      <td>4298439553720516615</td>\n",
       "      <td>0x3ba7200000000007</td>\n",
       "    </tr>\n",
       "    <tr>\n",
       "      <th>1</th>\n",
       "      <td>53.203171</td>\n",
       "      <td>-16.288101</td>\n",
       "      <td>4298458168380511209</td>\n",
       "      <td>8.493984e+08</td>\n",
       "      <td>14700</td>\n",
       "      <td>-2354</td>\n",
       "      <td>6472</td>\n",
       "      <td>-8980</td>\n",
       "      <td>-9999</td>\n",
       "      <td>0x3ba730ee103253e9</td>\n",
       "      <td>-9999</td>\n",
       "      <td>4298439553720516615</td>\n",
       "      <td>0x3ba7200000000007</td>\n",
       "    </tr>\n",
       "    <tr>\n",
       "      <th>2</th>\n",
       "      <td>53.203518</td>\n",
       "      <td>-16.629105</td>\n",
       "      <td>4297394569014717897</td>\n",
       "      <td>8.493984e+08</td>\n",
       "      <td>14692</td>\n",
       "      <td>-2410</td>\n",
       "      <td>6411</td>\n",
       "      <td>-9008</td>\n",
       "      <td>-9999</td>\n",
       "      <td>0x3ba3699789d0adc9</td>\n",
       "      <td>-9999</td>\n",
       "      <td>4297384022557851655</td>\n",
       "      <td>0x3ba3600000000007</td>\n",
       "    </tr>\n",
       "    <tr>\n",
       "      <th>3</th>\n",
       "      <td>53.202934</td>\n",
       "      <td>-16.957928</td>\n",
       "      <td>4297300698872999369</td>\n",
       "      <td>8.493984e+08</td>\n",
       "      <td>14684</td>\n",
       "      <td>-2464</td>\n",
       "      <td>6351</td>\n",
       "      <td>-9034</td>\n",
       "      <td>-9999</td>\n",
       "      <td>0x3ba31437b15cedc9</td>\n",
       "      <td>-9999</td>\n",
       "      <td>4297278469441585159</td>\n",
       "      <td>0x3ba3000000000007</td>\n",
       "    </tr>\n",
       "    <tr>\n",
       "      <th>4</th>\n",
       "      <td>53.201508</td>\n",
       "      <td>-17.275316</td>\n",
       "      <td>4297290857922121161</td>\n",
       "      <td>8.493984e+08</td>\n",
       "      <td>14676</td>\n",
       "      <td>-2516</td>\n",
       "      <td>6291</td>\n",
       "      <td>-9059</td>\n",
       "      <td>-9999</td>\n",
       "      <td>0x3ba30b446afb4dc9</td>\n",
       "      <td>-9999</td>\n",
       "      <td>4297278469441585159</td>\n",
       "      <td>0x3ba3000000000007</td>\n",
       "    </tr>\n",
       "    <tr>\n",
       "      <th>...</th>\n",
       "      <td>...</td>\n",
       "      <td>...</td>\n",
       "      <td>...</td>\n",
       "      <td>...</td>\n",
       "      <td>...</td>\n",
       "      <td>...</td>\n",
       "      <td>...</td>\n",
       "      <td>...</td>\n",
       "      <td>...</td>\n",
       "      <td>...</td>\n",
       "      <td>...</td>\n",
       "      <td>...</td>\n",
       "      <td>...</td>\n",
       "    </tr>\n",
       "    <tr>\n",
       "      <th>109615</th>\n",
       "      <td>64.084297</td>\n",
       "      <td>-66.281410</td>\n",
       "      <td>3727686638370615689</td>\n",
       "      <td>8.493987e+08</td>\n",
       "      <td>12157</td>\n",
       "      <td>-7468</td>\n",
       "      <td>6223</td>\n",
       "      <td>4800</td>\n",
       "      <td>-9999</td>\n",
       "      <td>0x33bb673f5a0cf189</td>\n",
       "      <td>-9999</td>\n",
       "      <td>3727678669695483911</td>\n",
       "      <td>0x33bb600000000007</td>\n",
       "    </tr>\n",
       "    <tr>\n",
       "      <th>109616</th>\n",
       "      <td>63.960953</td>\n",
       "      <td>-66.591354</td>\n",
       "      <td>3727661374545790857</td>\n",
       "      <td>8.493987e+08</td>\n",
       "      <td>12147</td>\n",
       "      <td>-7505</td>\n",
       "      <td>6282</td>\n",
       "      <td>4772</td>\n",
       "      <td>-9999</td>\n",
       "      <td>0x33bb504528bf0789</td>\n",
       "      <td>-9999</td>\n",
       "      <td>3727643485323395079</td>\n",
       "      <td>0x33bb400000000007</td>\n",
       "    </tr>\n",
       "    <tr>\n",
       "      <th>109617</th>\n",
       "      <td>63.831799</td>\n",
       "      <td>-66.911255</td>\n",
       "      <td>3727838256925064969</td>\n",
       "      <td>8.493987e+08</td>\n",
       "      <td>12137</td>\n",
       "      <td>-7544</td>\n",
       "      <td>6342</td>\n",
       "      <td>4743</td>\n",
       "      <td>-9999</td>\n",
       "      <td>0x33bbf124cc213f09</td>\n",
       "      <td>-9999</td>\n",
       "      <td>3727819407183839239</td>\n",
       "      <td>0x33bbe00000000007</td>\n",
       "    </tr>\n",
       "    <tr>\n",
       "      <th>109618</th>\n",
       "      <td>63.698635</td>\n",
       "      <td>-67.236229</td>\n",
       "      <td>3727843063731949801</td>\n",
       "      <td>8.493987e+08</td>\n",
       "      <td>12126</td>\n",
       "      <td>-7583</td>\n",
       "      <td>6402</td>\n",
       "      <td>4714</td>\n",
       "      <td>-9999</td>\n",
       "      <td>0x33bbf583f82590e9</td>\n",
       "      <td>-9999</td>\n",
       "      <td>3727819407183839239</td>\n",
       "      <td>0x33bbe00000000007</td>\n",
       "    </tr>\n",
       "    <tr>\n",
       "      <th>109619</th>\n",
       "      <td>63.551617</td>\n",
       "      <td>-67.589508</td>\n",
       "      <td>3727853163225616425</td>\n",
       "      <td>8.493987e+08</td>\n",
       "      <td>12115</td>\n",
       "      <td>-7625</td>\n",
       "      <td>6464</td>\n",
       "      <td>4682</td>\n",
       "      <td>-9999</td>\n",
       "      <td>0x33bbfeb370e11029</td>\n",
       "      <td>-9999</td>\n",
       "      <td>3727819407183839239</td>\n",
       "      <td>0x33bbe00000000007</td>\n",
       "    </tr>\n",
       "  </tbody>\n",
       "</table>\n",
       "<p>109620 rows × 13 columns</p>\n",
       "</div>"
      ],
      "text/plain": [
       "              lat        lon                 sids  Scan_Start_Time  \\\n",
       "0       53.201778 -15.933996  4298473764500464809     8.493984e+08   \n",
       "1       53.203171 -16.288101  4298458168380511209     8.493984e+08   \n",
       "2       53.203518 -16.629105  4297394569014717897     8.493984e+08   \n",
       "3       53.202934 -16.957928  4297300698872999369     8.493984e+08   \n",
       "4       53.201508 -17.275316  4297290857922121161     8.493984e+08   \n",
       "...           ...        ...                  ...              ...   \n",
       "109615  64.084297 -66.281410  3727686638370615689     8.493987e+08   \n",
       "109616  63.960953 -66.591354  3727661374545790857     8.493987e+08   \n",
       "109617  63.831799 -66.911255  3727838256925064969     8.493987e+08   \n",
       "109618  63.698635 -67.236229  3727843063731949801     8.493987e+08   \n",
       "109619  63.551617 -67.589508  3727853163225616425     8.493987e+08   \n",
       "\n",
       "        Solar_Zenith  Solar_Azimuth  Sensor_Zenith  Sensor_Azimuth  \\\n",
       "0              14709          -2296           6534           -8952   \n",
       "1              14700          -2354           6472           -8980   \n",
       "2              14692          -2410           6411           -9008   \n",
       "3              14684          -2464           6351           -9034   \n",
       "4              14676          -2516           6291           -9059   \n",
       "...              ...            ...            ...             ...   \n",
       "109615         12157          -7468           6223            4800   \n",
       "109616         12147          -7505           6282            4772   \n",
       "109617         12137          -7544           6342            4743   \n",
       "109618         12126          -7583           6402            4714   \n",
       "109619         12115          -7625           6464            4682   \n",
       "\n",
       "        Water_Vapor_Infrared           stare_hex  wiv0                  pod  \\\n",
       "0                      -9999  0x3ba73f1d5162e4a9 -9999  4298439553720516615   \n",
       "1                      -9999  0x3ba730ee103253e9 -9999  4298439553720516615   \n",
       "2                      -9999  0x3ba3699789d0adc9 -9999  4297384022557851655   \n",
       "3                      -9999  0x3ba31437b15cedc9 -9999  4297278469441585159   \n",
       "4                      -9999  0x3ba30b446afb4dc9 -9999  4297278469441585159   \n",
       "...                      ...                 ...   ...                  ...   \n",
       "109615                 -9999  0x33bb673f5a0cf189 -9999  3727678669695483911   \n",
       "109616                 -9999  0x33bb504528bf0789 -9999  3727643485323395079   \n",
       "109617                 -9999  0x33bbf124cc213f09 -9999  3727819407183839239   \n",
       "109618                 -9999  0x33bbf583f82590e9 -9999  3727819407183839239   \n",
       "109619                 -9999  0x33bbfeb370e11029 -9999  3727819407183839239   \n",
       "\n",
       "                   pod_hex  \n",
       "0       0x3ba7200000000007  \n",
       "1       0x3ba7200000000007  \n",
       "2       0x3ba3600000000007  \n",
       "3       0x3ba3000000000007  \n",
       "4       0x3ba3000000000007  \n",
       "...                    ...  \n",
       "109615  0x33bb600000000007  \n",
       "109616  0x33bb400000000007  \n",
       "109617  0x33bbe00000000007  \n",
       "109618  0x33bbe00000000007  \n",
       "109619  0x33bbe00000000007  \n",
       "\n",
       "[109620 rows x 13 columns]"
      ]
     },
     "execution_count": 44,
     "metadata": {},
     "output_type": "execute_result"
    }
   ],
   "source": [
    "mod"
   ]
  },
  {
   "cell_type": "code",
   "execution_count": 45,
   "id": "social-dynamics",
   "metadata": {},
   "outputs": [],
   "source": [
    "granule_name=\"../starepandas/datasets/MOD05_L2.A2019336.0000.061.2019336211522.hdf\""
   ]
  },
  {
   "cell_type": "code",
   "execution_count": 46,
   "id": "square-dodge",
   "metadata": {},
   "outputs": [],
   "source": [
    "mod = starepandas.read_granule(granule_name, sidecar=True, latlon=True)"
   ]
  },
  {
   "cell_type": "code",
   "execution_count": 47,
   "id": "invalid-energy",
   "metadata": {},
   "outputs": [
    {
     "data": {
      "image/png": "[encoded data removed]",
      "text/plain": [
       "<Figure size 900x600 with 1 Axes>"
      ]
     },
     "metadata": {
      "needs_background": "light"
     },
     "output_type": "display_data"
    }
   ],
   "source": [
    "ax = plt.axes(projection=ccrs.PlateCarree(),transform=ccrs.Geodetic())\n",
    "mod.set_trixels(mod.make_trixels(), inplace=True)\n",
    "mod.plot(ax=ax, trixels=True\n",
    "         ,boundary=False, column='Water_Vapor_Infrared', linewidth=0.2\n",
    "         ,transform=ccrs.Geodetic()\n",
    "         ,cmap='rainbow')\n",
    "\n",
    "del ax"
   ]
  },
  {
   "cell_type": "code",
   "execution_count": 48,
   "id": "according-grammar",
   "metadata": {},
   "outputs": [
    {
     "data": {
      "image/png": "[encoded data removed]",
      "text/plain": [
       "<Figure size 900x600 with 1 Axes>"
      ]
     },
     "metadata": {
      "needs_background": "light"
     },
     "output_type": "display_data"
    }
   ],
   "source": [
    "ax = plt.axes(projection=ccrs.Mollweide(),transform=ccrs.Geodetic())\n",
    "if False:\n",
    "    mod.set_trixels(mod.make_trixels(), inplace=True)\n",
    "    mod.plot(ax=ax, trixels=True\n",
    "             ,boundary=False, column='wiv0', linewidth=0.2\n",
    "             ,transform=ccrs.Geodetic()\n",
    "             ,cmap='rainbow')\n",
    "ax.set_global()\n",
    "ax.coastlines()\n",
    "del ax"
   ]
  },
  {
   "cell_type": "code",
   "execution_count": 49,
   "id": "resident-optimum",
   "metadata": {},
   "outputs": [
    {
     "data": {
      "text/plain": [
       "{'MOD09GA|MYD09GA': starepandas.io.granules.modis.Mod09GA,\n",
       " 'MOD05|MYD05': starepandas.io.granules.modis.Mod05,\n",
       " 'MOD03|MYD03': starepandas.io.granules.modis.Mod03,\n",
       " 'MOD09|MYD09': starepandas.io.granules.modis.Mod09,\n",
       " 'VNP02DNB|VJ102DNB': starepandas.io.granules.viirsl2.VNP02DNB,\n",
       " 'VNP03DNB|VJ103DNB': starepandas.io.granules.viirsl2.VNP03DNB,\n",
       " 'VNP03MOD|VJ103MOD': starepandas.io.granules.viirsl2.VNP03MOD,\n",
       " 'CLDMSKL2VIIRS': starepandas.io.granules.viirsl2.CLDMSKL2VIIRS,\n",
       " 'SSMIS': starepandas.io.granules.ssmis.SSMIS,\n",
       " 'ATMS': starepandas.io.granules.atms.ATMS,\n",
       " 'MODXX': __main__.ModXX,\n",
       " 'VNP02IMG': __main__.VNP02IMG,\n",
       " 'VNP03IMG': __main__.VNP03IMG}"
      ]
     },
     "execution_count": 49,
     "metadata": {},
     "output_type": "execute_result"
    }
   ],
   "source": [
    "from starepandas.io.granules.viirsl2 import VIIRSL2\n",
    "\n",
    "class VNP03IMG(VIIRSL2):\n",
    "\n",
    "    def __init__(self, file_path, sidecar_path=None):\n",
    "        super(VNP03IMG,self).__init__(file_path, sidecar_path)\n",
    "\n",
    "    def read_data(self):\n",
    "        \"\"\"                                                                                                                                                                    \n",
    "        reads the data from a VNP03IMG granule into the self.data dictionary.                                                                                                  \n",
    "        Two variables are read:                                                                                                                                              \n",
    "                                                                                                                                                                               \n",
    "        a) land_water_mask                                                                                                                                                     \n",
    "        1: Shallow_Ocean 2: Land 3: Coastline 4: Shallow_Inland 5: Ephemeral 6: Deep_Inland 7: Continental 8: Deep_Ocean                                                       \n",
    "        b) quality_flag                                                                                                                                                        \n",
    "        1: Input_invalid 2: Pointing_bad 3: Terrain_bad                                                                                                                        \n",
    "        :return:                                                                                                                                                               \n",
    "        \"\"\"\n",
    "\n",
    "        group = self.netcdf.groups['geolocation_data']\n",
    "        self.data['land_water_mask'] = group['land_water_mask'][:].data\n",
    "        self.data['quality_flag'] = group['quality_flag'][:].data\n",
    "\n",
    "\n",
    "class VNP02IMG(VIIRSL2):\n",
    "\n",
    "    def __init__(self, file_path, sidecar_path=None):\n",
    "        super(VNP02IMG, self).__init__(file_path, sidecar_path)\n",
    "        self.companion_prefix = 'VNP03IMG'\n",
    "\n",
    "    def read_data(self):\n",
    "        for band in ['I04','I05']:\n",
    "            IMG = self.netcdf.groups['observation_data'][band][:].data\n",
    "            quality_flags = self.netcdf.groups['observation_data'][band+'_quality_flags'][:].data\n",
    "            \n",
    "            # TODO Do we need to allocate these first?\n",
    "            #\n",
    "            self.data[band+'_observations']  = IMG\n",
    "            self.data[band+'_quality_flags'] = quality_flags\n",
    "\n",
    "    def latlon(self):\n",
    "        pass\n",
    "\n",
    "    def read_sidecar_cover(self, sidecar_path=None):\n",
    "        pass\n",
    "\n",
    "    def read_sidecar_index(self, sidecar_path=None):\n",
    "        pass\n",
    "\n",
    "starepandas.io.granules.granule_factory_library['VNP02IMG']=VNP02IMG\n",
    "starepandas.io.granules.granule_factory_library['VNP03IMG']=VNP03IMG\n",
    "\n",
    "starepandas.io.granules.granule_factory_library"
   ]
  },
  {
   "cell_type": "code",
   "execution_count": 50,
   "id": "greenhouse-pharmacology",
   "metadata": {},
   "outputs": [],
   "source": [
    "granule_name=\"../starepandas/datasets/VNP03DNB.A2020219.0742.001.2020219124651.nc\""
   ]
  },
  {
   "cell_type": "code",
   "execution_count": 51,
   "id": "found-hormone",
   "metadata": {},
   "outputs": [
    {
     "name": "stdout",
     "output_type": "stream",
     "text": [
      "env: OMP_NUM_THREADS=8\n"
     ]
    },
    {
     "data": {
      "text/plain": [
       "'8'"
      ]
     },
     "execution_count": 51,
     "metadata": {},
     "output_type": "execute_result"
    }
   ],
   "source": [
    "%env OMP_NUM_THREADS=8\n",
    "%env OMP_NUM_THREADS"
   ]
  },
  {
   "cell_type": "code",
   "execution_count": 63,
   "id": "trained-lotus",
   "metadata": {},
   "outputs": [],
   "source": [
    "vnp = starepandas.read_granule(granule_name, sidecar=True, latlon=True, add_stare=False)"
   ]
  },
  {
   "cell_type": "code",
   "execution_count": 56,
   "id": "structural-encounter",
   "metadata": {},
   "outputs": [
    {
     "name": "stdout",
     "output_type": "stream",
     "text": [
      "env: OMP_NUM_THREADS=4\n",
      "CPU times: user 2.25 s, sys: 1.04 s, total: 3.29 s\n",
      "Wall time: 3.37 s\n"
     ]
    }
   ],
   "source": [
    "%env OMP_NUM_THREADS=4\n",
    "vnp=None\n",
    "del vnp\n",
    "%time vnp = starepandas.read_granule(granule_name, sidecar=False, latlon=True, add_sids=True)"
   ]
  },
  {
   "cell_type": "code",
   "execution_count": 57,
   "id": "played-latex",
   "metadata": {},
   "outputs": [
    {
     "name": "stdout",
     "output_type": "stream",
     "text": [
      "env: OMP_NUM_THREADS=3\n",
      "CPU times: user 2.24 s, sys: 956 ms, total: 3.19 s\n",
      "Wall time: 3.28 s\n"
     ]
    }
   ],
   "source": [
    "%env OMP_NUM_THREADS=3\n",
    "del vnp\n",
    "%time vnp = starepandas.read_granule(granule_name, sidecar=False, latlon=True, add_sids=True)"
   ]
  },
  {
   "cell_type": "code",
   "execution_count": 58,
   "id": "awful-tanzania",
   "metadata": {},
   "outputs": [
    {
     "name": "stdout",
     "output_type": "stream",
     "text": [
      "env: OMP_NUM_THREADS=2\n",
      "CPU times: user 2.38 s, sys: 866 ms, total: 3.24 s\n",
      "Wall time: 3.29 s\n"
     ]
    }
   ],
   "source": [
    "%env OMP_NUM_THREADS=2\n",
    "del vnp\n",
    "%time vnp = starepandas.read_granule(granule_name, sidecar=False, latlon=True, add_sids=True)"
   ]
  },
  {
   "cell_type": "code",
   "execution_count": 59,
   "id": "interested-internship",
   "metadata": {},
   "outputs": [
    {
     "name": "stdout",
     "output_type": "stream",
     "text": [
      "env: OMP_NUM_THREADS=1\n",
      "CPU times: user 2.32 s, sys: 1.07 s, total: 3.39 s\n",
      "Wall time: 3.49 s\n"
     ]
    }
   ],
   "source": [
    "%env OMP_NUM_THREADS=1\n",
    "del vnp\n",
    "%time vnp = starepandas.read_granule(granule_name, sidecar=False, latlon=True, add_sids=True)"
   ]
  },
  {
   "cell_type": "code",
   "execution_count": 61,
   "id": "suited-adelaide",
   "metadata": {},
   "outputs": [
    {
     "data": {
      "text/html": [
       "<div>\n",
       "<style scoped>\n",
       "    .dataframe tbody tr th:only-of-type {\n",
       "        vertical-align: middle;\n",
       "    }\n",
       "\n",
       "    .dataframe tbody tr th {\n",
       "        vertical-align: top;\n",
       "    }\n",
       "\n",
       "    .dataframe thead th {\n",
       "        text-align: right;\n",
       "    }\n",
       "</style>\n",
       "<table border=\"1\" class=\"dataframe\">\n",
       "  <thead>\n",
       "    <tr style=\"text-align: right;\">\n",
       "      <th></th>\n",
       "      <th>lat</th>\n",
       "      <th>lon</th>\n",
       "      <th>moon_illumination_fraction</th>\n",
       "      <th>land_water_mask</th>\n",
       "      <th>quality_flag</th>\n",
       "    </tr>\n",
       "  </thead>\n",
       "  <tbody>\n",
       "    <tr>\n",
       "      <th>0</th>\n",
       "      <td>41.689438</td>\n",
       "      <td>-105.052818</td>\n",
       "      <td>92.779999</td>\n",
       "      <td>1</td>\n",
       "      <td>0</td>\n",
       "    </tr>\n",
       "    <tr>\n",
       "      <th>1</th>\n",
       "      <td>41.689484</td>\n",
       "      <td>-105.043861</td>\n",
       "      <td>92.779999</td>\n",
       "      <td>1</td>\n",
       "      <td>0</td>\n",
       "    </tr>\n",
       "    <tr>\n",
       "      <th>2</th>\n",
       "      <td>41.689533</td>\n",
       "      <td>-105.034653</td>\n",
       "      <td>92.779999</td>\n",
       "      <td>1</td>\n",
       "      <td>0</td>\n",
       "    </tr>\n",
       "    <tr>\n",
       "      <th>3</th>\n",
       "      <td>41.689575</td>\n",
       "      <td>-105.025375</td>\n",
       "      <td>92.779999</td>\n",
       "      <td>1</td>\n",
       "      <td>0</td>\n",
       "    </tr>\n",
       "    <tr>\n",
       "      <th>4</th>\n",
       "      <td>41.689621</td>\n",
       "      <td>-105.016068</td>\n",
       "      <td>92.779999</td>\n",
       "      <td>1</td>\n",
       "      <td>0</td>\n",
       "    </tr>\n",
       "    <tr>\n",
       "      <th>...</th>\n",
       "      <td>...</td>\n",
       "      <td>...</td>\n",
       "      <td>...</td>\n",
       "      <td>...</td>\n",
       "      <td>...</td>\n",
       "    </tr>\n",
       "    <tr>\n",
       "      <th>13134843</th>\n",
       "      <td>16.577330</td>\n",
       "      <td>-78.576134</td>\n",
       "      <td>92.879997</td>\n",
       "      <td>7</td>\n",
       "      <td>0</td>\n",
       "    </tr>\n",
       "    <tr>\n",
       "      <th>13134844</th>\n",
       "      <td>16.575632</td>\n",
       "      <td>-78.569000</td>\n",
       "      <td>92.879997</td>\n",
       "      <td>7</td>\n",
       "      <td>0</td>\n",
       "    </tr>\n",
       "    <tr>\n",
       "      <th>13134845</th>\n",
       "      <td>16.573931</td>\n",
       "      <td>-78.561844</td>\n",
       "      <td>92.879997</td>\n",
       "      <td>7</td>\n",
       "      <td>0</td>\n",
       "    </tr>\n",
       "    <tr>\n",
       "      <th>13134846</th>\n",
       "      <td>16.572226</td>\n",
       "      <td>-78.554688</td>\n",
       "      <td>92.879997</td>\n",
       "      <td>7</td>\n",
       "      <td>0</td>\n",
       "    </tr>\n",
       "    <tr>\n",
       "      <th>13134847</th>\n",
       "      <td>16.570518</td>\n",
       "      <td>-78.547523</td>\n",
       "      <td>92.879997</td>\n",
       "      <td>7</td>\n",
       "      <td>0</td>\n",
       "    </tr>\n",
       "  </tbody>\n",
       "</table>\n",
       "<p>13134848 rows × 5 columns</p>\n",
       "</div>"
      ],
      "text/plain": [
       "                lat         lon  moon_illumination_fraction  land_water_mask  \\\n",
       "0         41.689438 -105.052818                   92.779999                1   \n",
       "1         41.689484 -105.043861                   92.779999                1   \n",
       "2         41.689533 -105.034653                   92.779999                1   \n",
       "3         41.689575 -105.025375                   92.779999                1   \n",
       "4         41.689621 -105.016068                   92.779999                1   \n",
       "...             ...         ...                         ...              ...   \n",
       "13134843  16.577330  -78.576134                   92.879997                7   \n",
       "13134844  16.575632  -78.569000                   92.879997                7   \n",
       "13134845  16.573931  -78.561844                   92.879997                7   \n",
       "13134846  16.572226  -78.554688                   92.879997                7   \n",
       "13134847  16.570518  -78.547523                   92.879997                7   \n",
       "\n",
       "          quality_flag  \n",
       "0                    0  \n",
       "1                    0  \n",
       "2                    0  \n",
       "3                    0  \n",
       "4                    0  \n",
       "...                ...  \n",
       "13134843             0  \n",
       "13134844             0  \n",
       "13134845             0  \n",
       "13134846             0  \n",
       "13134847             0  \n",
       "\n",
       "[13134848 rows x 5 columns]"
      ]
     },
     "execution_count": 61,
     "metadata": {},
     "output_type": "execute_result"
    }
   ],
   "source": [
    "vnp"
   ]
  },
  {
   "cell_type": "code",
   "execution_count": 62,
   "id": "environmental-application",
   "metadata": {},
   "outputs": [
    {
     "ename": "KeyError",
     "evalue": "'sids'",
     "output_type": "error",
     "traceback": [
      "\u001b[0;31m---------------------------------------------------------------------------\u001b[0m",
      "\u001b[0;31mKeyError\u001b[0m                                  Traceback (most recent call last)",
      "File \u001b[0;32m~/.virtualenvs/starepandas/lib/python3.10/site-packages/pandas/core/indexes/base.py:3621\u001b[0m, in \u001b[0;36mIndex.get_loc\u001b[0;34m(self, key, method, tolerance)\u001b[0m\n\u001b[1;32m   3620\u001b[0m \u001b[38;5;28;01mtry\u001b[39;00m:\n\u001b[0;32m-> 3621\u001b[0m     \u001b[38;5;28;01mreturn\u001b[39;00m \u001b[38;5;28;43mself\u001b[39;49m\u001b[38;5;241;43m.\u001b[39;49m\u001b[43m_engine\u001b[49m\u001b[38;5;241;43m.\u001b[39;49m\u001b[43mget_loc\u001b[49m\u001b[43m(\u001b[49m\u001b[43mcasted_key\u001b[49m\u001b[43m)\u001b[49m\n\u001b[1;32m   3622\u001b[0m \u001b[38;5;28;01mexcept\u001b[39;00m \u001b[38;5;167;01mKeyError\u001b[39;00m \u001b[38;5;28;01mas\u001b[39;00m err:\n",
      "File \u001b[0;32m~/.virtualenvs/starepandas/lib/python3.10/site-packages/pandas/_libs/index.pyx:136\u001b[0m, in \u001b[0;36mpandas._libs.index.IndexEngine.get_loc\u001b[0;34m()\u001b[0m\n",
      "File \u001b[0;32m~/.virtualenvs/starepandas/lib/python3.10/site-packages/pandas/_libs/index.pyx:163\u001b[0m, in \u001b[0;36mpandas._libs.index.IndexEngine.get_loc\u001b[0;34m()\u001b[0m\n",
      "File \u001b[0;32mpandas/_libs/hashtable_class_helper.pxi:5198\u001b[0m, in \u001b[0;36mpandas._libs.hashtable.PyObjectHashTable.get_item\u001b[0;34m()\u001b[0m\n",
      "File \u001b[0;32mpandas/_libs/hashtable_class_helper.pxi:5206\u001b[0m, in \u001b[0;36mpandas._libs.hashtable.PyObjectHashTable.get_item\u001b[0;34m()\u001b[0m\n",
      "\u001b[0;31mKeyError\u001b[0m: 'sids'",
      "\nThe above exception was the direct cause of the following exception:\n",
      "\u001b[0;31mKeyError\u001b[0m                                  Traceback (most recent call last)",
      "Input \u001b[0;32mIn [62]\u001b[0m, in \u001b[0;36m<cell line: 1>\u001b[0;34m()\u001b[0m\n\u001b[0;32m----> 1\u001b[0m vnp[\u001b[38;5;124m'\u001b[39m\u001b[38;5;124mstare_hex\u001b[39m\u001b[38;5;124m'\u001b[39m]\u001b[38;5;241m=\u001b[39m\u001b[43mvnp\u001b[49m\u001b[43m[\u001b[49m\u001b[38;5;124;43m'\u001b[39;49m\u001b[38;5;124;43msids\u001b[39;49m\u001b[38;5;124;43m'\u001b[39;49m\u001b[43m]\u001b[49m\u001b[38;5;241m.\u001b[39mapply(\u001b[38;5;28mhex\u001b[39m)\n",
      "File \u001b[0;32m~/Dropbox/UCSB/STARE_Project/STAREPandas/starepandas/staredataframe.py:87\u001b[0m, in \u001b[0;36mSTAREDataFrame.__getitem__\u001b[0;34m(self, key)\u001b[0m\n\u001b[1;32m     85\u001b[0m \u001b[38;5;28;01mdef\u001b[39;00m \u001b[38;5;21m__getitem__\u001b[39m(\u001b[38;5;28mself\u001b[39m, key):\n\u001b[0;32m---> 87\u001b[0m     result \u001b[38;5;241m=\u001b[39m \u001b[38;5;28;43msuper\u001b[39;49m\u001b[43m(\u001b[49m\u001b[43mSTAREDataFrame\u001b[49m\u001b[43m,\u001b[49m\u001b[43m \u001b[49m\u001b[38;5;28;43mself\u001b[39;49m\u001b[43m)\u001b[49m\u001b[38;5;241;43m.\u001b[39;49m\u001b[38;5;21;43m__getitem__\u001b[39;49m\u001b[43m(\u001b[49m\u001b[43mkey\u001b[49m\u001b[43m)\u001b[49m\n\u001b[1;32m     88\u001b[0m     sid_col \u001b[38;5;241m=\u001b[39m \u001b[38;5;28mself\u001b[39m\u001b[38;5;241m.\u001b[39m_sid_column_name\n\u001b[1;32m     90\u001b[0m     \u001b[38;5;28;01mif\u001b[39;00m \u001b[38;5;28misinstance\u001b[39m(result, (geopandas\u001b[38;5;241m.\u001b[39mGeoDataFrame, pandas\u001b[38;5;241m.\u001b[39mDataFrame, starepandas\u001b[38;5;241m.\u001b[39mSTAREDataFrame)):\n",
      "File \u001b[0;32m~/.virtualenvs/starepandas/lib/python3.10/site-packages/geopandas/geodataframe.py:1327\u001b[0m, in \u001b[0;36mGeoDataFrame.__getitem__\u001b[0;34m(self, key)\u001b[0m\n\u001b[1;32m   1321\u001b[0m \u001b[38;5;28;01mdef\u001b[39;00m \u001b[38;5;21m__getitem__\u001b[39m(\u001b[38;5;28mself\u001b[39m, key):\n\u001b[1;32m   1322\u001b[0m     \u001b[38;5;124;03m\"\"\"\u001b[39;00m\n\u001b[1;32m   1323\u001b[0m \u001b[38;5;124;03m    If the result is a column containing only 'geometry', return a\u001b[39;00m\n\u001b[1;32m   1324\u001b[0m \u001b[38;5;124;03m    GeoSeries. If it's a DataFrame with a 'geometry' column, return a\u001b[39;00m\n\u001b[1;32m   1325\u001b[0m \u001b[38;5;124;03m    GeoDataFrame.\u001b[39;00m\n\u001b[1;32m   1326\u001b[0m \u001b[38;5;124;03m    \"\"\"\u001b[39;00m\n\u001b[0;32m-> 1327\u001b[0m     result \u001b[38;5;241m=\u001b[39m \u001b[38;5;28;43msuper\u001b[39;49m\u001b[43m(\u001b[49m\u001b[43m)\u001b[49m\u001b[38;5;241;43m.\u001b[39;49m\u001b[38;5;21;43m__getitem__\u001b[39;49m\u001b[43m(\u001b[49m\u001b[43mkey\u001b[49m\u001b[43m)\u001b[49m\n\u001b[1;32m   1328\u001b[0m     geo_col \u001b[38;5;241m=\u001b[39m \u001b[38;5;28mself\u001b[39m\u001b[38;5;241m.\u001b[39m_geometry_column_name\n\u001b[1;32m   1329\u001b[0m     \u001b[38;5;28;01mif\u001b[39;00m \u001b[38;5;28misinstance\u001b[39m(result, Series) \u001b[38;5;129;01mand\u001b[39;00m \u001b[38;5;28misinstance\u001b[39m(result\u001b[38;5;241m.\u001b[39mdtype, GeometryDtype):\n",
      "File \u001b[0;32m~/.virtualenvs/starepandas/lib/python3.10/site-packages/pandas/core/frame.py:3505\u001b[0m, in \u001b[0;36mDataFrame.__getitem__\u001b[0;34m(self, key)\u001b[0m\n\u001b[1;32m   3503\u001b[0m \u001b[38;5;28;01mif\u001b[39;00m \u001b[38;5;28mself\u001b[39m\u001b[38;5;241m.\u001b[39mcolumns\u001b[38;5;241m.\u001b[39mnlevels \u001b[38;5;241m>\u001b[39m \u001b[38;5;241m1\u001b[39m:\n\u001b[1;32m   3504\u001b[0m     \u001b[38;5;28;01mreturn\u001b[39;00m \u001b[38;5;28mself\u001b[39m\u001b[38;5;241m.\u001b[39m_getitem_multilevel(key)\n\u001b[0;32m-> 3505\u001b[0m indexer \u001b[38;5;241m=\u001b[39m \u001b[38;5;28;43mself\u001b[39;49m\u001b[38;5;241;43m.\u001b[39;49m\u001b[43mcolumns\u001b[49m\u001b[38;5;241;43m.\u001b[39;49m\u001b[43mget_loc\u001b[49m\u001b[43m(\u001b[49m\u001b[43mkey\u001b[49m\u001b[43m)\u001b[49m\n\u001b[1;32m   3506\u001b[0m \u001b[38;5;28;01mif\u001b[39;00m is_integer(indexer):\n\u001b[1;32m   3507\u001b[0m     indexer \u001b[38;5;241m=\u001b[39m [indexer]\n",
      "File \u001b[0;32m~/.virtualenvs/starepandas/lib/python3.10/site-packages/pandas/core/indexes/base.py:3623\u001b[0m, in \u001b[0;36mIndex.get_loc\u001b[0;34m(self, key, method, tolerance)\u001b[0m\n\u001b[1;32m   3621\u001b[0m     \u001b[38;5;28;01mreturn\u001b[39;00m \u001b[38;5;28mself\u001b[39m\u001b[38;5;241m.\u001b[39m_engine\u001b[38;5;241m.\u001b[39mget_loc(casted_key)\n\u001b[1;32m   3622\u001b[0m \u001b[38;5;28;01mexcept\u001b[39;00m \u001b[38;5;167;01mKeyError\u001b[39;00m \u001b[38;5;28;01mas\u001b[39;00m err:\n\u001b[0;32m-> 3623\u001b[0m     \u001b[38;5;28;01mraise\u001b[39;00m \u001b[38;5;167;01mKeyError\u001b[39;00m(key) \u001b[38;5;28;01mfrom\u001b[39;00m \u001b[38;5;21;01merr\u001b[39;00m\n\u001b[1;32m   3624\u001b[0m \u001b[38;5;28;01mexcept\u001b[39;00m \u001b[38;5;167;01mTypeError\u001b[39;00m:\n\u001b[1;32m   3625\u001b[0m     \u001b[38;5;66;03m# If we have a listlike key, _check_indexing_error will raise\u001b[39;00m\n\u001b[1;32m   3626\u001b[0m     \u001b[38;5;66;03m#  InvalidIndexError. Otherwise we fall through and re-raise\u001b[39;00m\n\u001b[1;32m   3627\u001b[0m     \u001b[38;5;66;03m#  the TypeError.\u001b[39;00m\n\u001b[1;32m   3628\u001b[0m     \u001b[38;5;28mself\u001b[39m\u001b[38;5;241m.\u001b[39m_check_indexing_error(key)\n",
      "\u001b[0;31mKeyError\u001b[0m: 'sids'"
     ]
    }
   ],
   "source": [
    "vnp['stare_hex']=vnp['sids'].apply(hex)"
   ]
  },
  {
   "cell_type": "code",
   "execution_count": 30,
   "id": "unable-texture",
   "metadata": {},
   "outputs": [],
   "source": [
    "vnp['pod']=vnp['sids'].apply(lambda sid: pystare.spatial_clear_to_resolution(pystare.spatial_coerce_resolution(sid,7)))"
   ]
  },
  {
   "cell_type": "code",
   "execution_count": 31,
   "id": "ethical-member",
   "metadata": {},
   "outputs": [],
   "source": [
    "vnp['pod_hex']=vnp['pod'].apply(lambda sid: hex(sid))"
   ]
  }
 ],
 "metadata": {
  "kernelspec": {
   "display_name": "Python 3 (ipykernel)",
   "language": "python",
   "name": "python3"
  },
  "language_info": {
   "codemirror_mode": {
    "name": "ipython",
    "version": 3
   },
   "file_extension": ".py",
   "mimetype": "text/x-python",
   "name": "python",
   "nbconvert_exporter": "python",
   "pygments_lexer": "ipython3",
   "version": "3.10.4"
  }
 },
 "nbformat": 4,
 "nbformat_minor": 5
}
