{
 "cells": [
  {
   "cell_type": "code",
   "execution_count": 1,
   "id": "spatial-tonight",
   "metadata": {},
   "outputs": [],
   "source": [
    "import pystare\n",
    "import starepandas\n",
    "import pystareplotlib\n",
    "\n",
    "import geopandas\n",
    "import numpy\n",
    "\n",
    "import cartopy\n",
    "import cartopy.crs as ccrs\n",
    "\n",
    "import matplotlib as mpl\n",
    "import matplotlib.pyplot as plt"
   ]
  },
  {
   "cell_type": "code",
   "execution_count": 2,
   "id": "roman-recording",
   "metadata": {},
   "outputs": [],
   "source": [
    "DEFAULT_DPI = mpl.rcParamsDefault['figure.dpi']\n",
    "mpl.rcParams['figure.dpi'] = 1.5 * DEFAULT_DPI\n",
    "mpl.rcParams['legend.fontsize'] = 6"
   ]
  },
  {
   "cell_type": "code",
   "execution_count": 3,
   "id": "precious-newspaper",
   "metadata": {},
   "outputs": [
    {
     "data": {
      "text/plain": [
       "{'MOD05|MYD05': starepandas.io.granules.modis.Mod05,\n",
       " 'MOD09|MYD09': starepandas.io.granules.modis.Mod09,\n",
       " 'VNP02DNB|VJ102DNB': starepandas.io.granules.viirsl2.VNP02DNB,\n",
       " 'VNP03DNB|VJ103DNB': starepandas.io.granules.viirsl2.VNP03DNB,\n",
       " 'VNP03MOD|VJ103MOD': starepandas.io.granules.viirsl2.VNP03MOD,\n",
       " 'CLDMSKL2VIIRS': starepandas.io.granules.viirsl2.CLDMSKL2VIIRS,\n",
       " 'SSMIS': starepandas.io.granules.ssmis.SSMIS,\n",
       " 'ATMS': starepandas.io.granules.atms.ATMS,\n",
       " 'MODXX': __main__.ModXX}"
      ]
     },
     "execution_count": 3,
     "metadata": {},
     "output_type": "execute_result"
    }
   ],
   "source": [
    "from starepandas.io.granules import Modis\n",
    "\n",
    "class ModXX(Modis):\n",
    "\n",
    "    def __init__(self, file_path, sidecar_path=None):\n",
    "        super(ModXX, self).__init__(file_path, sidecar_path)\n",
    "        self.nom_res = '5km'\n",
    "\n",
    "    def read_data(self):\n",
    "        dataset_names = ['Scan_Start_Time', 'Solar_Zenith', 'Solar_Azimuth',\n",
    "                         'Sensor_Zenith', 'Sensor_Azimuth', 'Water_Vapor_Infrared']\n",
    "\n",
    "        dataset_names2 = ['Cloud_Mask_QA', 'Water_Vapor_Near_Infrared',\n",
    "                          'Water_Vaport_Corretion_Factors', 'Quality_Assurance_Near_Infrared', 'Quality_Assurance_Infrared']\n",
    "        for dataset_name in dataset_names:\n",
    "            self.data[dataset_name] = self.hdf.select(dataset_name).get()\n",
    "            \n",
    "starepandas.io.granules.granule_factory_library['MODXX']=ModXX\n",
    "\n",
    "starepandas.io.granules.granule_factory_library"
   ]
  },
  {
   "cell_type": "code",
   "execution_count": null,
   "id": "transparent-boston",
   "metadata": {},
   "outputs": [],
   "source": [
    "mod=None"
   ]
  },
  {
   "cell_type": "code",
   "execution_count": null,
   "id": "worldwide-calcium",
   "metadata": {},
   "outputs": [],
   "source": [
    "granule_name=\"s3://eis-dh-fire/mod14/raw/MOD14.A2020214.0520.061.2020340090643.hdf\""
   ]
  },
  {
   "cell_type": "code",
   "execution_count": 4,
   "id": "antique-cancer",
   "metadata": {},
   "outputs": [],
   "source": [
    "granule_name=\"/home/jovyan/git/STAREPandas/starepandas/datasets/MODXX.hdf\""
   ]
  },
  {
   "cell_type": "code",
   "execution_count": null,
   "id": "danish-strategy",
   "metadata": {},
   "outputs": [],
   "source": [
    "granule_name=\"/home/jovyan/git/STAREPandas/starepandas/datasets/MODXX.hdf\""
   ]
  },
  {
   "cell_type": "code",
   "execution_count": null,
   "id": "legal-working",
   "metadata": {},
   "outputs": [],
   "source": [
    "del mod"
   ]
  },
  {
   "cell_type": "code",
   "execution_count": 5,
   "id": "anonymous-price",
   "metadata": {},
   "outputs": [],
   "source": [
    "mod = starepandas.read_granule(granule_name, sidecar=False, latlon=False, add_stare=True)"
   ]
  },
  {
   "cell_type": "code",
   "execution_count": null,
   "id": "minimal-hepatitis",
   "metadata": {},
   "outputs": [],
   "source": [
    "mod = starepandas.read_granule(granule_name, sidecar=True, latlon=True)"
   ]
  },
  {
   "cell_type": "code",
   "execution_count": null,
   "id": "attractive-electricity",
   "metadata": {},
   "outputs": [],
   "source": [
    "mod['stare_hex']=mod['stare'].apply(hex)"
   ]
  },
  {
   "cell_type": "code",
   "execution_count": null,
   "id": "viral-windows",
   "metadata": {},
   "outputs": [],
   "source": [
    "mod['wiv0']=mod['Water_Vapor_Infrared'].apply(lambda x: min(0,x))"
   ]
  },
  {
   "cell_type": "code",
   "execution_count": null,
   "id": "incomplete-greeting",
   "metadata": {},
   "outputs": [],
   "source": [
    "mod['pod']=mod['stare'].apply(lambda sid: pystare.spatial_clear_to_resolution(pystare.spatial_coerce_resolution(sid,7)))"
   ]
  },
  {
   "cell_type": "code",
   "execution_count": null,
   "id": "chief-container",
   "metadata": {},
   "outputs": [],
   "source": [
    "mod['pod_hex']=mod['pod'].apply(lambda sid: hex(sid))"
   ]
  },
  {
   "cell_type": "code",
   "execution_count": 6,
   "id": "exempt-article",
   "metadata": {},
   "outputs": [
    {
     "data": {
      "text/html": [
       "<div>\n",
       "<style scoped>\n",
       "    .dataframe tbody tr th:only-of-type {\n",
       "        vertical-align: middle;\n",
       "    }\n",
       "\n",
       "    .dataframe tbody tr th {\n",
       "        vertical-align: top;\n",
       "    }\n",
       "\n",
       "    .dataframe thead th {\n",
       "        text-align: right;\n",
       "    }\n",
       "</style>\n",
       "<table border=\"1\" class=\"dataframe\">\n",
       "  <thead>\n",
       "    <tr style=\"text-align: right;\">\n",
       "      <th></th>\n",
       "      <th>lat</th>\n",
       "      <th>lon</th>\n",
       "      <th>stare</th>\n",
       "      <th>Scan_Start_Time</th>\n",
       "      <th>Solar_Zenith</th>\n",
       "      <th>Solar_Azimuth</th>\n",
       "      <th>Sensor_Zenith</th>\n",
       "      <th>Sensor_Azimuth</th>\n",
       "      <th>Water_Vapor_Infrared</th>\n",
       "    </tr>\n",
       "  </thead>\n",
       "  <tbody>\n",
       "    <tr>\n",
       "      <th>0</th>\n",
       "      <td>53.201778</td>\n",
       "      <td>-15.933996</td>\n",
       "      <td>4298473764500464809</td>\n",
       "      <td>8.493984e+08</td>\n",
       "      <td>14709</td>\n",
       "      <td>-2296</td>\n",
       "      <td>6534</td>\n",
       "      <td>-8952</td>\n",
       "      <td>-9999</td>\n",
       "    </tr>\n",
       "    <tr>\n",
       "      <th>1</th>\n",
       "      <td>53.203171</td>\n",
       "      <td>-16.288101</td>\n",
       "      <td>4298458168380511209</td>\n",
       "      <td>8.493984e+08</td>\n",
       "      <td>14700</td>\n",
       "      <td>-2354</td>\n",
       "      <td>6472</td>\n",
       "      <td>-8980</td>\n",
       "      <td>-9999</td>\n",
       "    </tr>\n",
       "    <tr>\n",
       "      <th>2</th>\n",
       "      <td>53.203518</td>\n",
       "      <td>-16.629105</td>\n",
       "      <td>4297394569014717897</td>\n",
       "      <td>8.493984e+08</td>\n",
       "      <td>14692</td>\n",
       "      <td>-2410</td>\n",
       "      <td>6411</td>\n",
       "      <td>-9008</td>\n",
       "      <td>-9999</td>\n",
       "    </tr>\n",
       "    <tr>\n",
       "      <th>3</th>\n",
       "      <td>53.202934</td>\n",
       "      <td>-16.957928</td>\n",
       "      <td>4297300698872999369</td>\n",
       "      <td>8.493984e+08</td>\n",
       "      <td>14684</td>\n",
       "      <td>-2464</td>\n",
       "      <td>6351</td>\n",
       "      <td>-9034</td>\n",
       "      <td>-9999</td>\n",
       "    </tr>\n",
       "    <tr>\n",
       "      <th>4</th>\n",
       "      <td>53.201508</td>\n",
       "      <td>-17.275316</td>\n",
       "      <td>4297290857922121161</td>\n",
       "      <td>8.493984e+08</td>\n",
       "      <td>14676</td>\n",
       "      <td>-2516</td>\n",
       "      <td>6291</td>\n",
       "      <td>-9059</td>\n",
       "      <td>-9999</td>\n",
       "    </tr>\n",
       "    <tr>\n",
       "      <th>...</th>\n",
       "      <td>...</td>\n",
       "      <td>...</td>\n",
       "      <td>...</td>\n",
       "      <td>...</td>\n",
       "      <td>...</td>\n",
       "      <td>...</td>\n",
       "      <td>...</td>\n",
       "      <td>...</td>\n",
       "      <td>...</td>\n",
       "    </tr>\n",
       "    <tr>\n",
       "      <th>109615</th>\n",
       "      <td>64.084297</td>\n",
       "      <td>-66.281410</td>\n",
       "      <td>3727686638370615689</td>\n",
       "      <td>8.493987e+08</td>\n",
       "      <td>12157</td>\n",
       "      <td>-7468</td>\n",
       "      <td>6223</td>\n",
       "      <td>4800</td>\n",
       "      <td>-9999</td>\n",
       "    </tr>\n",
       "    <tr>\n",
       "      <th>109616</th>\n",
       "      <td>63.960953</td>\n",
       "      <td>-66.591354</td>\n",
       "      <td>3727661374545790857</td>\n",
       "      <td>8.493987e+08</td>\n",
       "      <td>12147</td>\n",
       "      <td>-7505</td>\n",
       "      <td>6282</td>\n",
       "      <td>4772</td>\n",
       "      <td>-9999</td>\n",
       "    </tr>\n",
       "    <tr>\n",
       "      <th>109617</th>\n",
       "      <td>63.831799</td>\n",
       "      <td>-66.911255</td>\n",
       "      <td>3727838256925064969</td>\n",
       "      <td>8.493987e+08</td>\n",
       "      <td>12137</td>\n",
       "      <td>-7544</td>\n",
       "      <td>6342</td>\n",
       "      <td>4743</td>\n",
       "      <td>-9999</td>\n",
       "    </tr>\n",
       "    <tr>\n",
       "      <th>109618</th>\n",
       "      <td>63.698635</td>\n",
       "      <td>-67.236229</td>\n",
       "      <td>3727843063731949801</td>\n",
       "      <td>8.493987e+08</td>\n",
       "      <td>12126</td>\n",
       "      <td>-7583</td>\n",
       "      <td>6402</td>\n",
       "      <td>4714</td>\n",
       "      <td>-9999</td>\n",
       "    </tr>\n",
       "    <tr>\n",
       "      <th>109619</th>\n",
       "      <td>63.551617</td>\n",
       "      <td>-67.589508</td>\n",
       "      <td>3727853163225616425</td>\n",
       "      <td>8.493987e+08</td>\n",
       "      <td>12115</td>\n",
       "      <td>-7625</td>\n",
       "      <td>6464</td>\n",
       "      <td>4682</td>\n",
       "      <td>-9999</td>\n",
       "    </tr>\n",
       "  </tbody>\n",
       "</table>\n",
       "<p>109620 rows × 9 columns</p>\n",
       "</div>"
      ],
      "text/plain": [
       "              lat        lon                stare  Scan_Start_Time  \\\n",
       "0       53.201778 -15.933996  4298473764500464809     8.493984e+08   \n",
       "1       53.203171 -16.288101  4298458168380511209     8.493984e+08   \n",
       "2       53.203518 -16.629105  4297394569014717897     8.493984e+08   \n",
       "3       53.202934 -16.957928  4297300698872999369     8.493984e+08   \n",
       "4       53.201508 -17.275316  4297290857922121161     8.493984e+08   \n",
       "...           ...        ...                  ...              ...   \n",
       "109615  64.084297 -66.281410  3727686638370615689     8.493987e+08   \n",
       "109616  63.960953 -66.591354  3727661374545790857     8.493987e+08   \n",
       "109617  63.831799 -66.911255  3727838256925064969     8.493987e+08   \n",
       "109618  63.698635 -67.236229  3727843063731949801     8.493987e+08   \n",
       "109619  63.551617 -67.589508  3727853163225616425     8.493987e+08   \n",
       "\n",
       "        Solar_Zenith  Solar_Azimuth  Sensor_Zenith  Sensor_Azimuth  \\\n",
       "0              14709          -2296           6534           -8952   \n",
       "1              14700          -2354           6472           -8980   \n",
       "2              14692          -2410           6411           -9008   \n",
       "3              14684          -2464           6351           -9034   \n",
       "4              14676          -2516           6291           -9059   \n",
       "...              ...            ...            ...             ...   \n",
       "109615         12157          -7468           6223            4800   \n",
       "109616         12147          -7505           6282            4772   \n",
       "109617         12137          -7544           6342            4743   \n",
       "109618         12126          -7583           6402            4714   \n",
       "109619         12115          -7625           6464            4682   \n",
       "\n",
       "        Water_Vapor_Infrared  \n",
       "0                      -9999  \n",
       "1                      -9999  \n",
       "2                      -9999  \n",
       "3                      -9999  \n",
       "4                      -9999  \n",
       "...                      ...  \n",
       "109615                 -9999  \n",
       "109616                 -9999  \n",
       "109617                 -9999  \n",
       "109618                 -9999  \n",
       "109619                 -9999  \n",
       "\n",
       "[109620 rows x 9 columns]"
      ]
     },
     "execution_count": 6,
     "metadata": {},
     "output_type": "execute_result"
    }
   ],
   "source": [
    "mod"
   ]
  },
  {
   "cell_type": "code",
   "execution_count": null,
   "id": "social-dynamics",
   "metadata": {},
   "outputs": [],
   "source": [
    "granule_name=\"/home/jovyan/git/STAREPandas/starepandas/datasets/MOD05_L2.A2019336.0000.061.2019336211522.hdf\""
   ]
  },
  {
   "cell_type": "code",
   "execution_count": null,
   "id": "square-dodge",
   "metadata": {},
   "outputs": [],
   "source": [
    "mod = starepandas.read_granule(granule_name, sidecar=True, latlon=True)"
   ]
  },
  {
   "cell_type": "code",
   "execution_count": null,
   "id": "usual-dinner",
   "metadata": {},
   "outputs": [],
   "source": []
  },
  {
   "cell_type": "code",
   "execution_count": null,
   "id": "invalid-energy",
   "metadata": {},
   "outputs": [],
   "source": [
    "ax = plt.axes(projection=ccrs.PlateCarree(),transform=ccrs.Geodetic())\n",
    "mod.set_trixels(mod.make_trixels(), inplace=True)\n",
    "mod.plot(ax=ax, trixels=True\n",
    "         ,boundary=False, column='Water_Vapor_Infrared', linewidth=0.2\n",
    "         ,transform=ccrs.Geodetic()\n",
    "         ,cmap='rainbow')\n",
    "\n",
    "del ax"
   ]
  },
  {
   "cell_type": "code",
   "execution_count": null,
   "id": "according-grammar",
   "metadata": {},
   "outputs": [],
   "source": [
    "ax = plt.axes(projection=ccrs.Mollweide(),transform=ccrs.Geodetic())\n",
    "if True:\n",
    "    mod.set_trixels(mod.make_trixels(), inplace=True)\n",
    "    mod.plot(ax=ax, trixels=True\n",
    "             ,boundary=False, column='wiv0', linewidth=0.2\n",
    "             ,transform=ccrs.Geodetic()\n",
    "             ,cmap='rainbow')\n",
    "ax.set_global()\n",
    "ax.coastlines()\n",
    "del ax"
   ]
  },
  {
   "cell_type": "code",
   "execution_count": 3,
   "id": "resident-optimum",
   "metadata": {},
   "outputs": [
    {
     "data": {
      "text/plain": [
       "{'MOD05|MYD05': starepandas.io.granules.modis.Mod05,\n",
       " 'MOD09|MYD09': starepandas.io.granules.modis.Mod09,\n",
       " 'VNP02DNB|VJ102DNB': starepandas.io.granules.viirsl2.VNP02DNB,\n",
       " 'VNP03DNB|VJ103DNB': starepandas.io.granules.viirsl2.VNP03DNB,\n",
       " 'VNP03MOD|VJ103MOD': starepandas.io.granules.viirsl2.VNP03MOD,\n",
       " 'CLDMSKL2VIIRS': starepandas.io.granules.viirsl2.CLDMSKL2VIIRS,\n",
       " 'SSMIS': starepandas.io.granules.ssmis.SSMIS,\n",
       " 'ATMS': starepandas.io.granules.atms.ATMS,\n",
       " 'VNP02IMG': __main__.VNP02IMG,\n",
       " 'VNP03IMG': __main__.VNP03IMG}"
      ]
     },
     "execution_count": 3,
     "metadata": {},
     "output_type": "execute_result"
    }
   ],
   "source": [
    "from starepandas.io.granules import VIIRSL2\n",
    "\n",
    "class VNP03IMG(VIIRSL2):\n",
    "\n",
    "    def __init__(self, file_path, sidecar_path=None):\n",
    "        super(VNP03IMG,self).__init__(file_path, sidecar_path)\n",
    "\n",
    "    def read_data(self):\n",
    "        \"\"\"                                                                                                                                                                    \n",
    "        reads the data from a VNP03IMG granule into the self.data dictionary.                                                                                                  \n",
    "        Two variables are read:                                                                                                                                              \n",
    "                                                                                                                                                                               \n",
    "        a) land_water_mask                                                                                                                                                     \n",
    "        1: Shallow_Ocean 2: Land 3: Coastline 4: Shallow_Inland 5: Ephemeral 6: Deep_Inland 7: Continental 8: Deep_Ocean                                                       \n",
    "        b) quality_flag                                                                                                                                                        \n",
    "        1: Input_invalid 2: Pointing_bad 3: Terrain_bad                                                                                                                        \n",
    "        :return:                                                                                                                                                               \n",
    "        \"\"\"\n",
    "\n",
    "        group = self.netcdf.groups['geolocation_data']\n",
    "        self.data['land_water_mask'] = group['land_water_mask'][:].data\n",
    "        self.data['quality_flag'] = group['quality_flag'][:].data\n",
    "\n",
    "\n",
    "class VNP02IMG(VIIRSL2):\n",
    "\n",
    "    def __init__(self, file_path, sidecar_path=None):\n",
    "        super(VNP02IMG, self).__init__(file_path, sidecar_path)\n",
    "        self.companion_prefix = 'VNP03IMG'\n",
    "\n",
    "    def read_data(self):\n",
    "        for band in ['I04','I05']:\n",
    "            IMG = self.netcdf.groups['observation_data'][band][:].data\n",
    "            quality_flags = self.netcdf.groups['observation_data'][band+'_quality_flags'][:].data\n",
    "            \n",
    "            # TODO Do we need to allocate these first?\n",
    "            #\n",
    "            self.data[band+'_observations']  = IMG\n",
    "            self.data[band+'_quality_flags'] = quality_flags\n",
    "\n",
    "    def latlon(self):\n",
    "        pass\n",
    "\n",
    "    def read_sidecar_cover(self, sidecar_path=None):\n",
    "        pass\n",
    "\n",
    "    def read_sidecar_index(self, sidecar_path=None):\n",
    "        pass\n",
    "\n",
    "starepandas.io.granules.granule_factory_library['VNP02IMG']=VNP02IMG\n",
    "starepandas.io.granules.granule_factory_library['VNP03IMG']=VNP03IMG\n",
    "\n",
    "starepandas.io.granules.granule_factory_library"
   ]
  },
  {
   "cell_type": "code",
   "execution_count": null,
   "id": "czech-thong",
   "metadata": {},
   "outputs": [],
   "source": []
  },
  {
   "cell_type": "code",
   "execution_count": null,
   "id": "chemical-waters",
   "metadata": {},
   "outputs": [],
   "source": []
  },
  {
   "cell_type": "code",
   "execution_count": null,
   "id": "golden-inspection",
   "metadata": {},
   "outputs": [],
   "source": []
  },
  {
   "cell_type": "code",
   "execution_count": null,
   "id": "published-couple",
   "metadata": {},
   "outputs": [],
   "source": []
  },
  {
   "cell_type": "code",
   "execution_count": 6,
   "id": "greenhouse-pharmacology",
   "metadata": {},
   "outputs": [],
   "source": [
    "granule_name=\"/home/jovyan/efs/mrilee-tmp/VNP03IMG.A2021182.0000.001.2021182063427.nc\""
   ]
  },
  {
   "cell_type": "code",
   "execution_count": 13,
   "id": "found-hormone",
   "metadata": {},
   "outputs": [
    {
     "name": "stdout",
     "output_type": "stream",
     "text": [
      "env: OMP_NUM_THREADS=8\n"
     ]
    },
    {
     "data": {
      "text/plain": [
       "'8'"
      ]
     },
     "execution_count": 13,
     "metadata": {},
     "output_type": "execute_result"
    }
   ],
   "source": [
    "%env OMP_NUM_THREADS=8\n",
    "%env OMP_NUM_THREADS"
   ]
  },
  {
   "cell_type": "code",
   "execution_count": 14,
   "id": "trained-lotus",
   "metadata": {},
   "outputs": [],
   "source": [
    "vnp = starepandas.read_granule(granule_name, sidecar=False, latlon=True, add_stare=True)"
   ]
  },
  {
   "cell_type": "code",
   "execution_count": 5,
   "id": "appointed-square",
   "metadata": {},
   "outputs": [
    {
     "ename": "NameError",
     "evalue": "name 'vnp' is not defined",
     "output_type": "error",
     "traceback": [
      "\u001b[0;31m---------------------------------------------------------------------------\u001b[0m",
      "\u001b[0;31mNameError\u001b[0m                                 Traceback (most recent call last)",
      "\u001b[0;32m/tmp/ipykernel_5637/2841832677.py\u001b[0m in \u001b[0;36m<module>\u001b[0;34m\u001b[0m\n\u001b[0;32m----> 1\u001b[0;31m \u001b[0mvnp\u001b[0m\u001b[0;34m\u001b[0m\u001b[0;34m\u001b[0m\u001b[0m\n\u001b[0m",
      "\u001b[0;31mNameError\u001b[0m: name 'vnp' is not defined"
     ]
    }
   ],
   "source": [
    "vnp"
   ]
  },
  {
   "cell_type": "code",
   "execution_count": 7,
   "id": "structural-encounter",
   "metadata": {},
   "outputs": [
    {
     "name": "stdout",
     "output_type": "stream",
     "text": [
      "env: OMP_NUM_THREADS=4\n",
      "CPU times: user 10min 24s, sys: 1.28 s, total: 10min 25s\n",
      "Wall time: 2min 42s\n"
     ]
    }
   ],
   "source": [
    "%env OMP_NUM_THREADS=4\n",
    "vnp=None\n",
    "del vnp\n",
    "%time vnp = starepandas.read_granule(granule_name, sidecar=False, latlon=True, add_stare=True)"
   ]
  },
  {
   "cell_type": "code",
   "execution_count": 8,
   "id": "played-latex",
   "metadata": {},
   "outputs": [
    {
     "name": "stdout",
     "output_type": "stream",
     "text": [
      "env: OMP_NUM_THREADS=3\n",
      "CPU times: user 10min 23s, sys: 1.16 s, total: 10min 24s\n",
      "Wall time: 2min 40s\n"
     ]
    }
   ],
   "source": [
    "%env OMP_NUM_THREADS=3\n",
    "del vnp\n",
    "%time vnp = starepandas.read_granule(granule_name, sidecar=False, latlon=True, add_stare=True)"
   ]
  },
  {
   "cell_type": "code",
   "execution_count": 9,
   "id": "awful-tanzania",
   "metadata": {},
   "outputs": [
    {
     "name": "stdout",
     "output_type": "stream",
     "text": [
      "env: OMP_NUM_THREADS=2\n",
      "CPU times: user 10min 22s, sys: 1 s, total: 10min 23s\n",
      "Wall time: 2min 42s\n"
     ]
    }
   ],
   "source": [
    "%env OMP_NUM_THREADS=2\n",
    "del vnp\n",
    "%time vnp = starepandas.read_granule(granule_name, sidecar=False, latlon=True, add_stare=True)"
   ]
  },
  {
   "cell_type": "code",
   "execution_count": null,
   "id": "interested-internship",
   "metadata": {},
   "outputs": [
    {
     "name": "stdout",
     "output_type": "stream",
     "text": [
      "env: OMP_NUM_THREADS=1\n"
     ]
    }
   ],
   "source": [
    "%env OMP_NUM_THREADS=1\n",
    "del vnp\n",
    "%time vnp = starepandas.read_granule(granule_name, sidecar=False, latlon=True, add_stare=True)"
   ]
  },
  {
   "cell_type": "code",
   "execution_count": null,
   "id": "suited-adelaide",
   "metadata": {},
   "outputs": [],
   "source": []
  },
  {
   "cell_type": "code",
   "execution_count": null,
   "id": "expensive-mandate",
   "metadata": {},
   "outputs": [],
   "source": [
    "# vnp = starepandas.read_granule(granule_name, sidecar=False, latlon=True, add_stare=True)"
   ]
  },
  {
   "cell_type": "code",
   "execution_count": null,
   "id": "environmental-application",
   "metadata": {},
   "outputs": [],
   "source": [
    "vnp['stare_hex']=vnp['stare'].apply(hex)"
   ]
  },
  {
   "cell_type": "code",
   "execution_count": null,
   "id": "unable-texture",
   "metadata": {},
   "outputs": [],
   "source": [
    "vnp['pod']=vnp['stare'].apply(lambda sid: pystare.spatial_clear_to_resolution(pystare.spatial_coerce_resolution(sid,7)))"
   ]
  },
  {
   "cell_type": "code",
   "execution_count": null,
   "id": "ethical-member",
   "metadata": {},
   "outputs": [],
   "source": [
    "vnp['pod_hex']=vnp['pod'].apply(lambda sid: hex(sid))"
   ]
  },
  {
   "cell_type": "code",
   "execution_count": null,
   "id": "future-resident",
   "metadata": {},
   "outputs": [],
   "source": [
    "# Crashes -- too much memory\n",
    "# vnp['geometry']=geopandas.points_from_xy(vnp.lon,vnp.lat)"
   ]
  },
  {
   "cell_type": "code",
   "execution_count": null,
   "id": "alike-contest",
   "metadata": {},
   "outputs": [],
   "source": [
    "vnp['stare_dask']=vnp.make_stare(level=14, convex=False, force_ccw=True, n_workers=4)"
   ]
  },
  {
   "cell_type": "code",
   "execution_count": null,
   "id": "artistic-oxide",
   "metadata": {},
   "outputs": [],
   "source": []
  },
  {
   "cell_type": "code",
   "execution_count": null,
   "id": "moral-prerequisite",
   "metadata": {},
   "outputs": [],
   "source": [
    "vnp = starepandas.read_granule(granule_name, sidecar=False, latlon=True, add_stare=False)"
   ]
  },
  {
   "cell_type": "code",
   "execution_count": null,
   "id": "historical-collaboration",
   "metadata": {},
   "outputs": [],
   "source": [
    "vnp['geometry']=geopandas.points_from_xy(vnp.lon,vnp.lat)"
   ]
  },
  {
   "cell_type": "code",
   "execution_count": null,
   "id": "prescription-nepal",
   "metadata": {},
   "outputs": [],
   "source": []
  },
  {
   "cell_type": "code",
   "execution_count": null,
   "id": "moderate-explorer",
   "metadata": {},
   "outputs": [],
   "source": []
  },
  {
   "cell_type": "code",
   "execution_count": null,
   "id": "quiet-passing",
   "metadata": {},
   "outputs": [],
   "source": [
    "vnp['stare_dask']=vnp.make_stare(level=14, convex=False, force_ccw=True, n_workers=4)"
   ]
  },
  {
   "cell_type": "code",
   "execution_count": null,
   "id": "continued-arbitration",
   "metadata": {},
   "outputs": [],
   "source": []
  },
  {
   "cell_type": "code",
   "execution_count": null,
   "id": "lightweight-fifty",
   "metadata": {},
   "outputs": [],
   "source": [
    "type(vnp)"
   ]
  },
  {
   "cell_type": "code",
   "execution_count": null,
   "id": "polyphonic-radio",
   "metadata": {},
   "outputs": [],
   "source": [
    "vnp"
   ]
  },
  {
   "cell_type": "code",
   "execution_count": null,
   "id": "frank-noise",
   "metadata": {},
   "outputs": [],
   "source": [
    "granule_name=\"/home/jovyan/efs/mrilee-tmp/VNP02IMG.A2021182.0000.001.2021182064359.nc\"\n",
    "vnp02 = starepandas.read_granule(granule_name, sidecar=False, latlon=False, add_stare=False)"
   ]
  }
 ],
 "metadata": {
  "kernelspec": {
   "display_name": "Python [conda env:work]",
   "language": "python",
   "name": "conda-env-work-py"
  },
  "language_info": {
   "codemirror_mode": {
    "name": "ipython",
    "version": 3
   },
   "file_extension": ".py",
   "mimetype": "text/x-python",
   "name": "python",
   "nbconvert_exporter": "python",
   "pygments_lexer": "ipython3",
   "version": "3.9.4"
  }
 },
 "nbformat": 4,
 "nbformat_minor": 5
}
