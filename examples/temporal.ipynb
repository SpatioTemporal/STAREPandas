{
 "cells": [
  {
   "cell_type": "markdown",
   "id": "meaning-piano",
   "metadata": {},
   "source": [
    "# Temporal"
   ]
  },
  {
   "cell_type": "code",
   "execution_count": 1,
   "id": "unusual-garbage",
   "metadata": {
    "execution": {
     "iopub.execute_input": "2022-09-15T05:01:54.689863Z",
     "iopub.status.busy": "2022-09-15T05:01:54.689356Z",
     "iopub.status.idle": "2022-09-15T05:01:56.940569Z",
     "shell.execute_reply": "2022-09-15T05:01:56.939562Z"
    }
   },
   "outputs": [],
   "source": [
    "import starepandas\n",
    "import pystare\n",
    "import pandas\n",
    "import astropy.time\n",
    "import numpy\n",
    "import datetime"
   ]
  },
  {
   "cell_type": "code",
   "execution_count": 2,
   "id": "eleven-colon",
   "metadata": {
    "execution": {
     "iopub.execute_input": "2022-09-15T05:01:56.943473Z",
     "iopub.status.busy": "2022-09-15T05:01:56.943085Z",
     "iopub.status.idle": "2022-09-15T05:01:56.965239Z",
     "shell.execute_reply": "2022-09-15T05:01:56.963951Z"
    }
   },
   "outputs": [
    {
     "data": {
      "text/html": [
       "<div>\n",
       "<style scoped>\n",
       "    .dataframe tbody tr th:only-of-type {\n",
       "        vertical-align: middle;\n",
       "    }\n",
       "\n",
       "    .dataframe tbody tr th {\n",
       "        vertical-align: top;\n",
       "    }\n",
       "\n",
       "    .dataframe thead th {\n",
       "        text-align: right;\n",
       "    }\n",
       "</style>\n",
       "<table border=\"1\" class=\"dataframe\">\n",
       "  <thead>\n",
       "    <tr style=\"text-align: right;\">\n",
       "      <th></th>\n",
       "      <th>dates</th>\n",
       "    </tr>\n",
       "  </thead>\n",
       "  <tbody>\n",
       "    <tr>\n",
       "      <th>0</th>\n",
       "      <td>2021-09-03 00:00:00</td>\n",
       "    </tr>\n",
       "    <tr>\n",
       "      <th>1</th>\n",
       "      <td>2021-07-17 11:16:00</td>\n",
       "    </tr>\n",
       "  </tbody>\n",
       "</table>\n",
       "</div>"
      ],
      "text/plain": [
       "                dates\n",
       "0 2021-09-03 00:00:00\n",
       "1 2021-07-17 11:16:00"
      ]
     },
     "execution_count": 2,
     "metadata": {},
     "output_type": "execute_result"
    }
   ],
   "source": [
    "dates = ['2021-09-03', '2021-07-17 11:16']\n",
    "dates = pandas.to_datetime(dates)\n",
    "df = starepandas.STAREDataFrame({'dates': dates})\n",
    "df"
   ]
  },
  {
   "cell_type": "code",
   "execution_count": 3,
   "id": "separated-setting",
   "metadata": {
    "execution": {
     "iopub.execute_input": "2022-09-15T05:01:56.968874Z",
     "iopub.status.busy": "2022-09-15T05:01:56.968591Z",
     "iopub.status.idle": "2022-09-15T05:01:56.971808Z",
     "shell.execute_reply": "2022-09-15T05:01:56.971299Z"
    }
   },
   "outputs": [],
   "source": [
    "series = df['dates']"
   ]
  },
  {
   "cell_type": "code",
   "execution_count": 4,
   "id": "light-placement",
   "metadata": {
    "execution": {
     "iopub.execute_input": "2022-09-15T05:01:56.974216Z",
     "iopub.status.busy": "2022-09-15T05:01:56.973947Z",
     "iopub.status.idle": "2022-09-15T05:01:56.990358Z",
     "shell.execute_reply": "2022-09-15T05:01:56.989025Z"
    }
   },
   "outputs": [
    {
     "data": {
      "text/plain": [
       "array([2459460., 2459413.])"
      ]
     },
     "execution_count": 4,
     "metadata": {},
     "output_type": "execute_result"
    }
   ],
   "source": [
    "times = astropy.time.Time(series, \n",
    "                          scale='utc', \n",
    "                          format='datetime64')\n",
    "times.jd1"
   ]
  },
  {
   "cell_type": "code",
   "execution_count": 5,
   "id": "secure-newfoundland",
   "metadata": {
    "execution": {
     "iopub.execute_input": "2022-09-15T05:01:56.994820Z",
     "iopub.status.busy": "2022-09-15T05:01:56.994313Z",
     "iopub.status.idle": "2022-09-15T05:01:57.000178Z",
     "shell.execute_reply": "2022-09-15T05:01:56.999573Z"
    }
   },
   "outputs": [],
   "source": [
    "tivs = starepandas.tivs_from_timeseries(df['dates'])"
   ]
  },
  {
   "cell_type": "code",
   "execution_count": 6,
   "id": "talented-container",
   "metadata": {
    "execution": {
     "iopub.execute_input": "2022-09-15T05:01:57.003341Z",
     "iopub.status.busy": "2022-09-15T05:01:57.003074Z",
     "iopub.status.idle": "2022-09-15T05:01:57.006190Z",
     "shell.execute_reply": "2022-09-15T05:01:57.005618Z"
    }
   },
   "outputs": [],
   "source": [
    "# Pystare"
   ]
  },
  {
   "cell_type": "code",
   "execution_count": 7,
   "id": "dental-belly",
   "metadata": {
    "execution": {
     "iopub.execute_input": "2022-09-15T05:01:57.009796Z",
     "iopub.status.busy": "2022-09-15T05:01:57.009363Z",
     "iopub.status.idle": "2022-09-15T05:01:57.017448Z",
     "shell.execute_reply": "2022-09-15T05:01:57.016738Z"
    }
   },
   "outputs": [
    {
     "data": {
      "text/plain": [
       "array([2276059438861267137, 2275939265676325057])"
      ]
     },
     "execution_count": 7,
     "metadata": {},
     "output_type": "execute_result"
    }
   ],
   "source": [
    "times = ['2021-09-03', '2021-07-17 11:16']\n",
    "times = astropy.time.Time(series, scale='utc', format='datetime64')\n",
    "tivs = pystare.from_julian_date(times.jd1, times.jd2, scale='utc', forward_res=48, reverse_res=48)\n",
    "tivs"
   ]
  },
  {
   "cell_type": "code",
   "execution_count": 8,
   "id": "fixed-import",
   "metadata": {
    "execution": {
     "iopub.execute_input": "2022-09-15T05:01:57.021088Z",
     "iopub.status.busy": "2022-09-15T05:01:57.020817Z",
     "iopub.status.idle": "2022-09-15T05:01:57.025572Z",
     "shell.execute_reply": "2022-09-15T05:01:57.024993Z"
    }
   },
   "outputs": [
    {
     "data": {
      "text/plain": [
       "['2021-09-03T00:00:00', '2021-07-17T11:16:00']"
      ]
     },
     "execution_count": 8,
     "metadata": {},
     "output_type": "execute_result"
    }
   ],
   "source": [
    "mss = pystare.to_ms_since_epoch_utc(tivs)\n",
    "dts = [datetime.datetime.utcfromtimestamp(ms/1000) for ms in mss]\n",
    "[dt.isoformat() for dt in dts]"
   ]
  },
  {
   "cell_type": "code",
   "execution_count": 9,
   "id": "disabled-theta",
   "metadata": {
    "execution": {
     "iopub.execute_input": "2022-09-15T05:01:57.028575Z",
     "iopub.status.busy": "2022-09-15T05:01:57.028184Z",
     "iopub.status.idle": "2022-09-15T05:01:57.033283Z",
     "shell.execute_reply": "2022-09-15T05:01:57.032726Z"
    }
   },
   "outputs": [
    {
     "data": {
      "text/plain": [
       "array([datetime.datetime(2021, 9, 3, 0, 0),\n",
       "       datetime.datetime(2021, 7, 17, 11, 16)], dtype=object)"
      ]
     },
     "execution_count": 9,
     "metadata": {},
     "output_type": "execute_result"
    }
   ],
   "source": [
    "jd = pystare.to_julian_date(tivs, scale='utc')\n",
    "times = astropy.time.Time(val=jd[0], val2=jd[1], format='jd')\n",
    "times.to_datetime()"
   ]
  },
  {
   "cell_type": "code",
   "execution_count": null,
   "id": "diagnostic-hazard",
   "metadata": {},
   "outputs": [],
   "source": []
  }
 ],
 "metadata": {
  "kernelspec": {
   "display_name": "Python 3 (ipykernel)",
   "language": "python",
   "name": "python3"
  },
  "language_info": {
   "codemirror_mode": {
    "name": "ipython",
    "version": 3
   },
   "file_extension": ".py",
   "mimetype": "text/x-python",
   "name": "python",
   "nbconvert_exporter": "python",
   "pygments_lexer": "ipython3",
   "version": "3.10.4"
  }
 },
 "nbformat": 4,
 "nbformat_minor": 5
}
