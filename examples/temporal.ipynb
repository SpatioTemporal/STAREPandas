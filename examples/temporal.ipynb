{
 "cells": [
  {
   "cell_type": "markdown",
   "id": "meaning-piano",
   "metadata": {},
   "source": [
    "# Temporal"
   ]
  },
  {
   "cell_type": "code",
   "execution_count": 1,
   "id": "unusual-garbage",
   "metadata": {},
   "outputs": [],
   "source": [
    "import starepandas\n",
    "import pystare\n",
    "import pandas\n",
    "import astropy.time\n",
    "import numpy"
   ]
  },
  {
   "cell_type": "code",
   "execution_count": 2,
   "id": "eleven-colon",
   "metadata": {},
   "outputs": [
    {
     "data": {
      "text/html": [
       "<div>\n",
       "<style scoped>\n",
       "    .dataframe tbody tr th:only-of-type {\n",
       "        vertical-align: middle;\n",
       "    }\n",
       "\n",
       "    .dataframe tbody tr th {\n",
       "        vertical-align: top;\n",
       "    }\n",
       "\n",
       "    .dataframe thead th {\n",
       "        text-align: right;\n",
       "    }\n",
       "</style>\n",
       "<table border=\"1\" class=\"dataframe\">\n",
       "  <thead>\n",
       "    <tr style=\"text-align: right;\">\n",
       "      <th></th>\n",
       "      <th>dates</th>\n",
       "    </tr>\n",
       "  </thead>\n",
       "  <tbody>\n",
       "    <tr>\n",
       "      <th>0</th>\n",
       "      <td>2021-09-03 00:00:00</td>\n",
       "    </tr>\n",
       "    <tr>\n",
       "      <th>1</th>\n",
       "      <td>2021-07-17 11:16:00</td>\n",
       "    </tr>\n",
       "  </tbody>\n",
       "</table>\n",
       "</div>"
      ],
      "text/plain": [
       "                dates\n",
       "0 2021-09-03 00:00:00\n",
       "1 2021-07-17 11:16:00"
      ]
     },
     "execution_count": 2,
     "metadata": {},
     "output_type": "execute_result"
    }
   ],
   "source": [
    "dates = ['2021-09-03', '2021-07-17 11:16']\n",
    "dates = pandas.to_datetime(dates)\n",
    "df = starepandas.STAREDataFrame({'dates': dates})\n",
    "df"
   ]
  },
  {
   "cell_type": "code",
   "execution_count": 8,
   "id": "separated-setting",
   "metadata": {},
   "outputs": [],
   "source": [
    "series = df['dates']"
   ]
  },
  {
   "cell_type": "code",
   "execution_count": 9,
   "id": "light-placement",
   "metadata": {},
   "outputs": [],
   "source": [
    "times = astropy.time.Time(series, \n",
    "                          scale='utc', \n",
    "                          format='datetime64')"
   ]
  },
  {
   "cell_type": "code",
   "execution_count": 10,
   "id": "secure-newfoundland",
   "metadata": {},
   "outputs": [
    {
     "data": {
      "text/plain": [
       "array([2276059438861267137, 2275939265676325057])"
      ]
     },
     "execution_count": 10,
     "metadata": {},
     "output_type": "execute_result"
    }
   ],
   "source": [
    "starepandas.tivs_from_timeseries(df['dates'])"
   ]
  },
  {
   "cell_type": "code",
   "execution_count": null,
   "id": "common-georgia",
   "metadata": {},
   "outputs": [],
   "source": []
  }
 ],
 "metadata": {
  "kernelspec": {
   "display_name": "Python 3",
   "language": "python",
   "name": "python3"
  },
  "language_info": {
   "codemirror_mode": {
    "name": "ipython",
    "version": 3
   },
   "file_extension": ".py",
   "mimetype": "text/x-python",
   "name": "python",
   "nbconvert_exporter": "python",
   "pygments_lexer": "ipython3",
   "version": "3.8.10"
  }
 },
 "nbformat": 4,
 "nbformat_minor": 5
}
