{
 "cells": [
  {
   "cell_type": "markdown",
   "id": "1d11e6d1-8b7c-4a29-a75e-f6963e625fc9",
   "metadata": {},
   "source": [
    "# Loading GeoTiffs"
   ]
  },
  {
   "cell_type": "code",
   "execution_count": 17,
   "id": "625150b3-bf52-4a11-92f7-c0f5767c8b01",
   "metadata": {},
   "outputs": [],
   "source": [
    "import starepandas\n",
    "import rasterio\n",
    "import numpy\n",
    "import geopandas\n",
    "import pyproj\n",
    "import pystare"
   ]
  },
  {
   "cell_type": "markdown",
   "id": "30cd8f67-1fef-495c-b81a-f29b6a0f17ed",
   "metadata": {},
   "source": [
    "## Usage"
   ]
  },
  {
   "cell_type": "code",
   "execution_count": 18,
   "id": "55d6abb3-7aea-477e-8a73-890382800e7e",
   "metadata": {},
   "outputs": [],
   "source": [
    "file_path = '../tests/data/wind.tif'"
   ]
  },
  {
   "cell_type": "code",
   "execution_count": 22,
   "id": "6e2599a3-65aa-4a34-810a-49555d47c594",
   "metadata": {},
   "outputs": [],
   "source": [
    "sdf = starepandas.read_geotiff(file_path, add_pts=True, add_latlon=True, \n",
    "                               add_xy=True, add_trixels=True)"
   ]
  },
  {
   "cell_type": "code",
   "execution_count": 26,
   "id": "8e294abd-0050-4619-9fd4-f127f846bbcc",
   "metadata": {},
   "outputs": [
    {
     "data": {
      "text/plain": [
       "(93, 8)"
      ]
     },
     "execution_count": 26,
     "metadata": {},
     "output_type": "execute_result"
    }
   ],
   "source": [
    "sdf.shape"
   ]
  },
  {
   "cell_type": "markdown",
   "id": "5cf5192b-df36-48e2-99b9-a6b30f6505da",
   "metadata": {},
   "source": [
    "## Detail:"
   ]
  },
  {
   "cell_type": "markdown",
   "id": "f004c8b3-3bd9-4a7b-a61b-ff3e483e2c6c",
   "metadata": {},
   "source": [
    "This is a geotiff containing average wind speeds in Santa Barbara county. It is projected in California Albers (EPSG:3310).\n",
    "Note that the raster is clipped to the county outline, thus containing NaNs"
   ]
  },
  {
   "cell_type": "code",
   "execution_count": 21,
   "id": "0542db9f-e3cf-4409-8335-2e6d47ae029a",
   "metadata": {},
   "outputs": [],
   "source": [
    "with rasterio.open(file_path) as src:\n",
    "    values = {}\n",
    "    for band in range(1, src.count+1):        \n",
    "        values[f'band_{band}'] = src.read(band)\n",
    "    height = values['band_1'].shape[0]\n",
    "    width = values['band_1'].shape[1]    \n",
    "    cols, rows = numpy.meshgrid(numpy.arange(width), numpy.arange(height))\n",
    "    xs, ys = rasterio.transform.xy(src.transform, rows, cols)\n",
    "    xs = numpy.array(xs)\n",
    "    ys = numpy.array(ys)\n",
    "    src_crs = src.crs\n",
    "    mask = "
   ]
  },
  {
   "cell_type": "code",
   "execution_count": 24,
   "id": "d5e31f7f-6d4d-42c7-832c-b5b332f2d157",
   "metadata": {},
   "outputs": [],
   "source": [
    "dst_crs = 'EPSG:4326'\n",
    "transformer = pyproj.Transformer.from_crs(src_crs, dst_crs)\n",
    "lats, lons = transformer.transform(xs, ys)\n",
    "sids = pystare.from_latlon_2d(lats, lons, adapt_level=True)"
   ]
  },
  {
   "cell_type": "code",
   "execution_count": 17,
   "id": "f0f7b44d-c675-44b5-84fa-6724f5fff425",
   "metadata": {},
   "outputs": [],
   "source": [
    "for key in values:\n",
    "    values[key] = values[key].flatten()"
   ]
  },
  {
   "cell_type": "code",
   "execution_count": 19,
   "id": "5efbb3b4-f388-461f-baf9-da77ac97402d",
   "metadata": {},
   "outputs": [],
   "source": [
    "pts = geopandas.points_from_xy(lons.flatten(), lats.flatten())\n",
    "gdf = geopandas.GeoDataFrame(values, geometry=pts, crs=dst_crs)\n",
    "gdf = starepandas.STAREDataFrame(gdf, sids=sids.flatten())\n",
    "gdf.dropna(inplace=True)\n",
    "gdf.reset_index(inplace=True, drop=True)"
   ]
  },
  {
   "cell_type": "code",
   "execution_count": 20,
   "id": "4e998c2d-92d3-4af7-b7fa-22fce6a419eb",
   "metadata": {},
   "outputs": [],
   "source": [
    "gdf.to_file('wind.gpkg', driver='GPKG')"
   ]
  },
  {
   "cell_type": "code",
   "execution_count": 21,
   "id": "7f924d52-9f96-4a66-8880-14feb52712ed",
   "metadata": {},
   "outputs": [
    {
     "data": {
      "text/html": [
       "<div>\n",
       "<style scoped>\n",
       "    .dataframe tbody tr th:only-of-type {\n",
       "        vertical-align: middle;\n",
       "    }\n",
       "\n",
       "    .dataframe tbody tr th {\n",
       "        vertical-align: top;\n",
       "    }\n",
       "\n",
       "    .dataframe thead th {\n",
       "        text-align: right;\n",
       "    }\n",
       "</style>\n",
       "<table border=\"1\" class=\"dataframe\">\n",
       "  <thead>\n",
       "    <tr style=\"text-align: right;\">\n",
       "      <th></th>\n",
       "      <th>band_1</th>\n",
       "      <th>geometry</th>\n",
       "      <th>sids</th>\n",
       "    </tr>\n",
       "  </thead>\n",
       "  <tbody>\n",
       "    <tr>\n",
       "      <th>0</th>\n",
       "      <td>5.663013</td>\n",
       "      <td>POINT (-120.10227 35.11179)</td>\n",
       "      <td>3331805789998083439</td>\n",
       "    </tr>\n",
       "    <tr>\n",
       "      <th>1</th>\n",
       "      <td>5.951427</td>\n",
       "      <td>POINT (-120.09952 35.11180)</td>\n",
       "      <td>3331806038636011599</td>\n",
       "    </tr>\n",
       "    <tr>\n",
       "      <th>2</th>\n",
       "      <td>5.996681</td>\n",
       "      <td>POINT (-120.09403 35.11180)</td>\n",
       "      <td>3331806067856073871</td>\n",
       "    </tr>\n",
       "    <tr>\n",
       "      <th>3</th>\n",
       "      <td>6.070150</td>\n",
       "      <td>POINT (-120.09129 35.11180)</td>\n",
       "      <td>3331806068042513903</td>\n",
       "    </tr>\n",
       "    <tr>\n",
       "      <th>4</th>\n",
       "      <td>6.267935</td>\n",
       "      <td>POINT (-120.08854 35.11180)</td>\n",
       "      <td>3331806068981832655</td>\n",
       "    </tr>\n",
       "    <tr>\n",
       "      <th>...</th>\n",
       "      <td>...</td>\n",
       "      <td>...</td>\n",
       "      <td>...</td>\n",
       "    </tr>\n",
       "    <tr>\n",
       "      <th>105754</th>\n",
       "      <td>2.487919</td>\n",
       "      <td>POINT (-119.47862 34.38096)</td>\n",
       "      <td>3331781606735464335</td>\n",
       "    </tr>\n",
       "    <tr>\n",
       "      <th>105755</th>\n",
       "      <td>2.377520</td>\n",
       "      <td>POINT (-119.47590 34.38094)</td>\n",
       "      <td>3331781546799927631</td>\n",
       "    </tr>\n",
       "    <tr>\n",
       "      <th>105756</th>\n",
       "      <td>2.511101</td>\n",
       "      <td>POINT (-119.47863 34.37870)</td>\n",
       "      <td>3331781608685226255</td>\n",
       "    </tr>\n",
       "    <tr>\n",
       "      <th>105757</th>\n",
       "      <td>2.365220</td>\n",
       "      <td>POINT (-119.47591 34.37869)</td>\n",
       "      <td>3331781608519480815</td>\n",
       "    </tr>\n",
       "    <tr>\n",
       "      <th>105758</th>\n",
       "      <td>2.599790</td>\n",
       "      <td>POINT (-119.47594 34.37419)</td>\n",
       "      <td>3331781615279864207</td>\n",
       "    </tr>\n",
       "  </tbody>\n",
       "</table>\n",
       "<p>105759 rows × 3 columns</p>\n",
       "</div>"
      ],
      "text/plain": [
       "          band_1                     geometry                 sids\n",
       "0       5.663013  POINT (-120.10227 35.11179)  3331805789998083439\n",
       "1       5.951427  POINT (-120.09952 35.11180)  3331806038636011599\n",
       "2       5.996681  POINT (-120.09403 35.11180)  3331806067856073871\n",
       "3       6.070150  POINT (-120.09129 35.11180)  3331806068042513903\n",
       "4       6.267935  POINT (-120.08854 35.11180)  3331806068981832655\n",
       "...          ...                          ...                  ...\n",
       "105754  2.487919  POINT (-119.47862 34.38096)  3331781606735464335\n",
       "105755  2.377520  POINT (-119.47590 34.38094)  3331781546799927631\n",
       "105756  2.511101  POINT (-119.47863 34.37870)  3331781608685226255\n",
       "105757  2.365220  POINT (-119.47591 34.37869)  3331781608519480815\n",
       "105758  2.599790  POINT (-119.47594 34.37419)  3331781615279864207\n",
       "\n",
       "[105759 rows x 3 columns]"
      ]
     },
     "execution_count": 21,
     "metadata": {},
     "output_type": "execute_result"
    }
   ],
   "source": [
    "gdf"
   ]
  },
  {
   "cell_type": "code",
   "execution_count": null,
   "id": "c40f5ed7-a858-44ab-9e06-04eb1a8629c9",
   "metadata": {},
   "outputs": [],
   "source": []
  }
 ],
 "metadata": {
  "kernelspec": {
   "display_name": "Python 3",
   "language": "python",
   "name": "python3"
  },
  "language_info": {
   "codemirror_mode": {
    "name": "ipython",
    "version": 3
   },
   "file_extension": ".py",
   "mimetype": "text/x-python",
   "name": "python",
   "nbconvert_exporter": "python",
   "pygments_lexer": "ipython3",
   "version": "3.8.10"
  }
 },
 "nbformat": 4,
 "nbformat_minor": 5
}
