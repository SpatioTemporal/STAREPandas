{
 "cells": [
  {
   "cell_type": "code",
   "execution_count": 1,
   "id": "8567943d-4ba9-4bba-bc09-a13a393125f3",
   "metadata": {},
   "outputs": [],
   "source": [
    "import starepandas\n",
    "import pandas\n",
    "import numpy\n",
    "import geopandas"
   ]
  },
  {
   "cell_type": "code",
   "execution_count": 2,
   "id": "464d6b9d-53bb-42e9-b7af-3ff9054c5766",
   "metadata": {},
   "outputs": [],
   "source": [
    "sids = [4611686018427387903, 4611686018427387903]\n",
    "sdf = starepandas.STAREDataFrame(sids=[sids])\n",
    "trixels = sdf.make_trixels()\n",
    "s = sdf.set_trixels(trixels)"
   ]
  },
  {
   "cell_type": "code",
   "execution_count": 3,
   "id": "645d7f60-9003-45df-a11c-a9856fa5f9cc",
   "metadata": {},
   "outputs": [
    {
     "data": {
      "text/html": [
       "<div>\n",
       "<style scoped>\n",
       "    .dataframe tbody tr th:only-of-type {\n",
       "        vertical-align: middle;\n",
       "    }\n",
       "\n",
       "    .dataframe tbody tr th {\n",
       "        vertical-align: top;\n",
       "    }\n",
       "\n",
       "    .dataframe thead th {\n",
       "        text-align: right;\n",
       "    }\n",
       "</style>\n",
       "<table border=\"1\" class=\"dataframe\">\n",
       "  <thead>\n",
       "    <tr style=\"text-align: right;\">\n",
       "      <th></th>\n",
       "      <th>sids</th>\n",
       "      <th>trixels</th>\n",
       "    </tr>\n",
       "  </thead>\n",
       "  <tbody>\n",
       "    <tr>\n",
       "      <th>0</th>\n",
       "      <td>[4611686018427387903, 4611686018427387903]</td>\n",
       "      <td>(POLYGON ((18.43494847958416 24.09484264552132...</td>\n",
       "    </tr>\n",
       "  </tbody>\n",
       "</table>\n",
       "</div>"
      ],
      "text/plain": [
       "                                         sids  \\\n",
       "0  [4611686018427387903, 4611686018427387903]   \n",
       "\n",
       "                                             trixels  \n",
       "0  (POLYGON ((18.43494847958416 24.09484264552132...  "
      ]
     },
     "execution_count": 3,
     "metadata": {},
     "output_type": "execute_result"
    }
   ],
   "source": [
    "s"
   ]
  },
  {
   "cell_type": "code",
   "execution_count": 4,
   "id": "c1e3c60e-dcc4-45dc-84c2-b408b51719a6",
   "metadata": {},
   "outputs": [
    {
     "data": {
      "text/plain": [
       "True"
      ]
     },
     "execution_count": 4,
     "metadata": {},
     "output_type": "execute_result"
    }
   ],
   "source": [
    "isinstance(trixels, (pandas.Series, list, numpy.ndarray))"
   ]
  },
  {
   "cell_type": "code",
   "execution_count": 5,
   "id": "743acd5a-fafc-465f-96b1-b4cf4938913d",
   "metadata": {},
   "outputs": [
    {
     "data": {
      "text/plain": [
       "False"
      ]
     },
     "execution_count": 5,
     "metadata": {},
     "output_type": "execute_result"
    }
   ],
   "source": [
    "isinstance(trixels, str)"
   ]
  },
  {
   "cell_type": "code",
   "execution_count": 6,
   "id": "904fc331-7c15-4c35-b0a0-0c56a7616da2",
   "metadata": {},
   "outputs": [],
   "source": [
    "sdf[sdf._trixel_column_name] = geopandas._vectorized.from_shapely(trixels)"
   ]
  },
  {
   "cell_type": "code",
   "execution_count": 7,
   "id": "15e67458-f472-4c43-ad53-9c55e34bd7c3",
   "metadata": {},
   "outputs": [],
   "source": [
    "sdf[sdf._trixel_column_name] = trixels"
   ]
  },
  {
   "cell_type": "code",
   "execution_count": 8,
   "id": "e0d084af-7e77-46d7-9e2e-5f216c59ff9e",
   "metadata": {},
   "outputs": [
    {
     "data": {
      "text/plain": [
       "array([<shapely.geometry.multipolygon.MultiPolygon object at 0x7fdb7f3bb5e0>],\n",
       "      dtype=object)"
      ]
     },
     "execution_count": 8,
     "metadata": {},
     "output_type": "execute_result"
    }
   ],
   "source": [
    "geopandas._vectorized.from_shapely(trixels)"
   ]
  },
  {
   "cell_type": "code",
   "execution_count": 10,
   "id": "f5090973-4f75-4da1-b6d4-71859379762b",
   "metadata": {},
   "outputs": [
    {
     "name": "stderr",
     "output_type": "stream",
     "text": [
      "/tmp/ipykernel_23543/3426161067.py:1: DeprecationWarning: An exception was ignored while fetching the attribute `__array_interface__` from an object of type 'MultiPolygon'.  With the exception of `AttributeError` NumPy will always raise this exception in the future.  Raise this deprecation warning to see the original exception. (Warning added NumPy 1.21)\n",
      "  numpy.array(trixels)\n",
      "/tmp/ipykernel_23543/3426161067.py:1: DeprecationWarning: An exception was ignored while fetching the attribute `__array_interface__` from an object of type 'Polygon'.  With the exception of `AttributeError` NumPy will always raise this exception in the future.  Raise this deprecation warning to see the original exception. (Warning added NumPy 1.21)\n",
      "  numpy.array(trixels)\n"
     ]
    },
    {
     "data": {
      "text/plain": [
       "array([[<shapely.geometry.polygon.Polygon object at 0x7fdbcc16e0d0>,\n",
       "        <shapely.geometry.polygon.Polygon object at 0x7fdb7f3bb370>]],\n",
       "      dtype=object)"
      ]
     },
     "execution_count": 10,
     "metadata": {},
     "output_type": "execute_result"
    }
   ],
   "source": [
    "numpy.array(trixels)"
   ]
  },
  {
   "cell_type": "code",
   "execution_count": 42,
   "id": "7ded0e12-69f6-4e28-8df1-7da6501d5474",
   "metadata": {},
   "outputs": [
    {
     "data": {
      "text/plain": [
       "[<shapely.geometry.multipolygon.MultiPolygon at 0x7fdeea839b80>]"
      ]
     },
     "execution_count": 42,
     "metadata": {},
     "output_type": "execute_result"
    }
   ],
   "source": []
  }
 ],
 "metadata": {
  "kernelspec": {
   "display_name": "Python 3 (ipykernel)",
   "language": "python",
   "name": "python3"
  },
  "language_info": {
   "codemirror_mode": {
    "name": "ipython",
    "version": 3
   },
   "file_extension": ".py",
   "mimetype": "text/x-python",
   "name": "python",
   "nbconvert_exporter": "python",
   "pygments_lexer": "ipython3",
   "version": "3.10.4"
  }
 },
 "nbformat": 4,
 "nbformat_minor": 5
}
