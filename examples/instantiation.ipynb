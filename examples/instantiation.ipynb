{
 "cells": [
  {
   "cell_type": "code",
   "execution_count": 1,
   "metadata": {},
   "outputs": [],
   "source": [
    "import geopandas\n",
    "import pandas\n",
    "import starepandas\n",
    "import pystare\n",
    "import shapely\n",
    "import matplotlib.pyplot as plt"
   ]
  },
  {
   "cell_type": "markdown",
   "metadata": {},
   "source": [
    "# Points"
   ]
  },
  {
   "cell_type": "markdown",
   "metadata": {},
   "source": [
    "## Creating a naive dataframe"
   ]
  },
  {
   "cell_type": "code",
   "execution_count": 2,
   "metadata": {},
   "outputs": [],
   "source": [
    "cities = ['Buenos Aires', 'Brasilia', 'Santiago', 'Bogota', 'Caracas']\n",
    "countries = ['Argentina', 'Brazil', 'Chile', 'Colombia', 'Venezuela']\n",
    "latitudes = [-34.58, -15.78, -33.45, 4.60, 10.48]\n",
    "longitudes = [-58.66, -47.91, -70.66, -74.08, -66.86]\n",
    "data =  {'City': cities,  'Country': countries, \n",
    "         'Latitude': latitudes, 'Longitude': longitudes}\n",
    "\n",
    "df = pandas.DataFrame(data)"
   ]
  },
  {
   "cell_type": "markdown",
   "metadata": {},
   "source": [
    "## Creating a geodataframe"
   ]
  },
  {
   "cell_type": "code",
   "execution_count": 3,
   "metadata": {},
   "outputs": [
    {
     "data": {
      "text/html": [
       "<div>\n",
       "<style scoped>\n",
       "    .dataframe tbody tr th:only-of-type {\n",
       "        vertical-align: middle;\n",
       "    }\n",
       "\n",
       "    .dataframe tbody tr th {\n",
       "        vertical-align: top;\n",
       "    }\n",
       "\n",
       "    .dataframe thead th {\n",
       "        text-align: right;\n",
       "    }\n",
       "</style>\n",
       "<table border=\"1\" class=\"dataframe\">\n",
       "  <thead>\n",
       "    <tr style=\"text-align: right;\">\n",
       "      <th></th>\n",
       "      <th>City</th>\n",
       "      <th>Country</th>\n",
       "      <th>Latitude</th>\n",
       "      <th>Longitude</th>\n",
       "      <th>geometry</th>\n",
       "    </tr>\n",
       "  </thead>\n",
       "  <tbody>\n",
       "    <tr>\n",
       "      <th>0</th>\n",
       "      <td>Buenos Aires</td>\n",
       "      <td>Argentina</td>\n",
       "      <td>-34.58</td>\n",
       "      <td>-58.66</td>\n",
       "      <td>POINT (-58.66000 -34.58000)</td>\n",
       "    </tr>\n",
       "    <tr>\n",
       "      <th>1</th>\n",
       "      <td>Brasilia</td>\n",
       "      <td>Brazil</td>\n",
       "      <td>-15.78</td>\n",
       "      <td>-47.91</td>\n",
       "      <td>POINT (-47.91000 -15.78000)</td>\n",
       "    </tr>\n",
       "    <tr>\n",
       "      <th>2</th>\n",
       "      <td>Santiago</td>\n",
       "      <td>Chile</td>\n",
       "      <td>-33.45</td>\n",
       "      <td>-70.66</td>\n",
       "      <td>POINT (-70.66000 -33.45000)</td>\n",
       "    </tr>\n",
       "    <tr>\n",
       "      <th>3</th>\n",
       "      <td>Bogota</td>\n",
       "      <td>Colombia</td>\n",
       "      <td>4.60</td>\n",
       "      <td>-74.08</td>\n",
       "      <td>POINT (-74.08000 4.60000)</td>\n",
       "    </tr>\n",
       "    <tr>\n",
       "      <th>4</th>\n",
       "      <td>Caracas</td>\n",
       "      <td>Venezuela</td>\n",
       "      <td>10.48</td>\n",
       "      <td>-66.86</td>\n",
       "      <td>POINT (-66.86000 10.48000)</td>\n",
       "    </tr>\n",
       "  </tbody>\n",
       "</table>\n",
       "</div>"
      ],
      "text/plain": [
       "           City    Country  Latitude  Longitude                     geometry\n",
       "0  Buenos Aires  Argentina    -34.58     -58.66  POINT (-58.66000 -34.58000)\n",
       "1      Brasilia     Brazil    -15.78     -47.91  POINT (-47.91000 -15.78000)\n",
       "2      Santiago      Chile    -33.45     -70.66  POINT (-70.66000 -33.45000)\n",
       "3        Bogota   Colombia      4.60     -74.08    POINT (-74.08000 4.60000)\n",
       "4       Caracas  Venezuela     10.48     -66.86   POINT (-66.86000 10.48000)"
      ]
     },
     "execution_count": 3,
     "metadata": {},
     "output_type": "execute_result"
    }
   ],
   "source": [
    "geom = geopandas.points_from_xy(df.Longitude, df.Latitude)\n",
    "gdf = geopandas.GeoDataFrame(df, geometry=geom)\n",
    "gdf"
   ]
  },
  {
   "cell_type": "markdown",
   "metadata": {},
   "source": [
    "## Creating a STARE indices"
   ]
  },
  {
   "cell_type": "code",
   "execution_count": 21,
   "metadata": {},
   "outputs": [],
   "source": [
    "# Those are all identical\n",
    "stare = starepandas.stare_from_xy(df.Longitude, df.Latitude, level=5)\n",
    "stare = starepandas.stare_from_xy_df(gdf, n_cores=2, level=5)\n",
    "stare = starepandas.stare_from_gdf(gdf, level=5)\n",
    "\n",
    "sdf = starepandas.STAREDataFrame(gdf)\n",
    "sdf.set_stare(stare, inplace=True)"
   ]
  },
  {
   "cell_type": "code",
   "execution_count": 22,
   "metadata": {},
   "outputs": [],
   "source": [
    "trixels = sdf.trixels()\n",
    "sdf.set_trixels(trixels, inplace=True)"
   ]
  },
  {
   "cell_type": "code",
   "execution_count": 23,
   "metadata": {},
   "outputs": [
    {
     "data": {
      "text/plain": [
       "0    POINT (-58.66000 -34.58000)\n",
       "1    POINT (-47.91000 -15.78000)\n",
       "2    POINT (-70.66000 -33.45000)\n",
       "3      POINT (-74.08000 4.60000)\n",
       "4     POINT (-66.86000 10.48000)\n",
       "Name: geometry, dtype: geometry"
      ]
     },
     "execution_count": 23,
     "metadata": {},
     "output_type": "execute_result"
    }
   ],
   "source": [
    "sdf.geometry"
   ]
  },
  {
   "cell_type": "markdown",
   "metadata": {},
   "source": [
    "## Some plotting"
   ]
  },
  {
   "cell_type": "code",
   "execution_count": 34,
   "metadata": {},
   "outputs": [
    {
     "name": "stdout",
     "output_type": "stream",
     "text": [
      "<class 'starepandas.staredataframe.STAREDataFrame'>\n"
     ]
    },
    {
     "data": {
      "image/png": "[encoded data removed]",
      "text/plain": [
       "<Figure size 432x288 with 1 Axes>"
      ]
     },
     "metadata": {
      "needs_background": "light"
     },
     "output_type": "display_data"
    }
   ],
   "source": [
    "fig, ax = plt.subplots()\n",
    "ax.grid(True)\n",
    "\n",
    "sdf.plot(ax=ax)\n",
    "#sdf.plot(ax=ax, trixels=True)\n",
    "sdf.plot(ax=ax, trixels=False, color='r')\n",
    "\n",
    "df = sdf.set_geometry('trixels', inplace=False)\n",
    "df = df[df.geometry.is_empty==False]\n",
    "df = df.set_geometry(df.geometry.boundary)\n",
    "df.plot(ax=ax, column='City')\n",
    "\n",
    "sdf.plot(ax=ax, column='City')\n",
    "print(type(df))"
   ]
  },
  {
   "cell_type": "markdown",
   "metadata": {},
   "source": [
    "# From granule"
   ]
  },
  {
   "cell_type": "markdown",
   "metadata": {},
   "source": [
    "## Bootstrap"
   ]
  },
  {
   "cell_type": "code",
   "execution_count": null,
   "metadata": {},
   "outputs": [],
   "source": [
    "fname = '../tests/data/granules/MOD05_L2.A2019336.0000.061.2019336211522.hdf'\n",
    "modis = starepandas.read_granule(fname, \n",
    "                                 add_stare=True,\n",
    "                                 adapt_resolution=True,\n",
    "                                 track_first=False)"
   ]
  },
  {
   "cell_type": "markdown",
   "metadata": {},
   "source": [
    "## Use Sidecar"
   ]
  },
  {
   "cell_type": "code",
   "execution_count": null,
   "metadata": {},
   "outputs": [],
   "source": [
    "modis = starepandas.read_granule(fname, sidecar=True)\n",
    "modis"
   ]
  },
  {
   "cell_type": "markdown",
   "metadata": {},
   "source": [
    "# Polygons"
   ]
  },
  {
   "cell_type": "markdown",
   "metadata": {},
   "source": [
    "## US State"
   ]
  },
  {
   "cell_type": "code",
   "execution_count": null,
   "metadata": {},
   "outputs": [],
   "source": [
    "us = geopandas.read_file('../tests/data/tl_2017_us_state.gpkg')\n",
    "us = us.to_crs('EPSG:4326')\n",
    "us['geom_simple'] = us.simplify(0.002)\n",
    "us.set_geometry('geom_simple', inplace=True)"
   ]
  },
  {
   "cell_type": "code",
   "execution_count": null,
   "metadata": {},
   "outputs": [],
   "source": [
    "stare = starepandas.stare_from_gdf(us, level=9, force_ccw=True)\n",
    "us = starepandas.STAREDataFrame(us, stare=stare)\n",
    "us.set_trixels(inplace=True)\n",
    "us._geometry_column_name"
   ]
  },
  {
   "cell_type": "code",
   "execution_count": null,
   "metadata": {
    "scrolled": false
   },
   "outputs": [],
   "source": [
    "fig, ax = plt.subplots()\n",
    "ax.grid(True)\n",
    "\n",
    "state = us[us.NAME=='California']\n",
    "state.plot(ax=ax, trixels=True, boundary=True, color='y', zorder=0)\n",
    "state.plot(ax=ax, trixels=False, facecolor=\"none\", edgecolor='blue', zorder=1)"
   ]
  },
  {
   "cell_type": "markdown",
   "metadata": {},
   "source": [
    "## Africa"
   ]
  },
  {
   "cell_type": "code",
   "execution_count": null,
   "metadata": {},
   "outputs": [],
   "source": [
    "world = geopandas.read_file(geopandas.datasets.get_path('naturalearth_lowres'))\n",
    "world.sort_values(by='name', inplace=True)\n",
    "africa = world[world.continent=='Africa']"
   ]
  },
  {
   "cell_type": "code",
   "execution_count": null,
   "metadata": {},
   "outputs": [],
   "source": [
    "stare = starepandas.stare_from_gdf(africa, level=8, force_ccw=True)\n",
    "africa = starepandas.STAREDataFrame(africa, stare=stare)\n",
    "trixels = africa.trixels()\n",
    "africa.set_trixels(trixels, inplace=True)"
   ]
  },
  {
   "cell_type": "code",
   "execution_count": null,
   "metadata": {
    "scrolled": false
   },
   "outputs": [],
   "source": [
    "fig, ax = plt.subplots(figsize=(13,5), dpi=300)\n",
    "ax.grid(True)\n",
    "\n",
    "africa.plot(ax=ax, trixels=True, boundary=True, column='name', linewidth=0.2)"
   ]
  },
  {
   "cell_type": "markdown",
   "metadata": {},
   "source": [
    "## Holes in RSA"
   ]
  },
  {
   "cell_type": "code",
   "execution_count": null,
   "metadata": {},
   "outputs": [],
   "source": [
    "rsa = africa[africa.name=='South Africa']"
   ]
  },
  {
   "cell_type": "code",
   "execution_count": null,
   "metadata": {
    "scrolled": false
   },
   "outputs": [],
   "source": [
    "fig, ax = plt.subplots()\n",
    "ax.grid(True)\n",
    "\n",
    "rsa.plot(ax=ax, trixels=True, boundary=True, color='y', lw=1, zorder=0)\n",
    "rsa.plot(ax=ax, trixels=False, facecolor=\"none\", edgecolor='blue', lw=1, zorder=1)"
   ]
  },
  {
   "cell_type": "code",
   "execution_count": null,
   "metadata": {},
   "outputs": [],
   "source": [
    "p = rsa.iloc[0].geometry\n",
    "interior = starepandas.from_boundary(p.interiors[0], level=12, force_ccw=False)"
   ]
  },
  {
   "cell_type": "markdown",
   "metadata": {},
   "source": [
    "## Puerto Rico (GPKG)"
   ]
  },
  {
   "cell_type": "code",
   "execution_count": null,
   "metadata": {},
   "outputs": [],
   "source": [
    "file = '../tests/data/caribbean.gpkg'\n",
    "gdf = geopandas.read_file(file)\n",
    "\n",
    "# Sanitation\n",
    "gdf.rename(columns={'NAME_0': \"name\"}, inplace=True)\n",
    "gdf.sort_values(by='name', inplace=True)\n",
    "gdf.set_index('ISO', inplace=True)\n",
    "gdf = gdf[['name', 'geometry']]\n",
    "\n",
    "# Adding simple geom\n",
    "gdf['geom_simple'] = gdf.simplify(0.001)\n",
    "gdf.set_geometry('geom_simple', inplace=True)"
   ]
  },
  {
   "cell_type": "code",
   "execution_count": null,
   "metadata": {},
   "outputs": [],
   "source": [
    "stare = starepandas.stare_from_gdf(gdf, level=11, force_ccw=True)\n",
    "sdf = starepandas.STAREDataFrame(gdf, stare=stare)"
   ]
  },
  {
   "cell_type": "code",
   "execution_count": null,
   "metadata": {},
   "outputs": [],
   "source": [
    "trixels = sdf.trixels()\n",
    "sdf.set_trixels(trixels, inplace=True)"
   ]
  },
  {
   "cell_type": "code",
   "execution_count": null,
   "metadata": {},
   "outputs": [],
   "source": [
    "fig, ax = plt.subplots(figsize=(13,5), dpi=300)\n",
    "ax.grid(True)\n",
    "\n",
    "pr = sdf[sdf['name']=='Puerto Rico']\n",
    "pr.plot(ax=ax, trixels=True, color='y', lw=1, zorder=0)\n",
    "pr.plot(ax=ax, trixels=False, facecolor=\"none\", edgecolor='blue', lw=1, zorder=1)"
   ]
  },
  {
   "cell_type": "code",
   "execution_count": null,
   "metadata": {},
   "outputs": [],
   "source": []
  }
 ],
 "metadata": {
  "kernelspec": {
   "display_name": "Python 3",
   "language": "python",
   "name": "python3"
  },
  "language_info": {
   "codemirror_mode": {
    "name": "ipython",
    "version": 3
   },
   "file_extension": ".py",
   "mimetype": "text/x-python",
   "name": "python",
   "nbconvert_exporter": "python",
   "pygments_lexer": "ipython3",
   "version": "3.6.8"
  }
 },
 "nbformat": 4,
 "nbformat_minor": 4
}
