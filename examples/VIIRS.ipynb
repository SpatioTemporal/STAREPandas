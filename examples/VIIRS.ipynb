{
 "cells": [
  {
   "cell_type": "markdown",
   "id": "31343a88-9971-47b0-8a8c-e6c6124bd5ca",
   "metadata": {},
   "source": [
    "# Read VIIRS data"
   ]
  },
  {
   "cell_type": "markdown",
   "id": "a95c399c-982f-437e-b6e1-99d0793505c8",
   "metadata": {},
   "source": [
    "VNP09 does not contain geolocation. \n",
    "- 750 m resolution needs to be read from VNP03MOD\n",
    "- 375 m resolution needs to be read from VNP03IMG\n",
    "We need a double de-referencing when we read. First, guess the VNP03* companion, then guess the sidecar_companion"
   ]
  },
  {
   "cell_type": "code",
   "execution_count": 1,
   "id": "39408a55-4d4d-4943-acc2-9d51be9047b3",
   "metadata": {
    "ExecuteTime": {
     "end_time": "2023-05-10T23:20:04.902674418Z",
     "start_time": "2023-05-10T23:20:02.011804055Z"
    },
    "tags": []
   },
   "outputs": [],
   "source": [
    "import starepandas\n",
    "import gc"
   ]
  },
  {
   "cell_type": "code",
   "execution_count": 2,
   "id": "b1d3730a-29ab-45df-a367-d88b7e7a8a78",
   "metadata": {
    "ExecuteTime": {
     "start_time": "2023-05-10T23:20:05.318893396Z"
    },
    "is_executing": true,
    "tags": []
   },
   "outputs": [
    {
     "data": {
      "text/plain": [
       "0.4564291771976161"
      ]
     },
     "execution_count": 2,
     "metadata": {},
     "output_type": "execute_result"
    }
   ],
   "source": [
    "fname = '../tests/data/granules/viirs/VNP09.A2022308.1930.001.2022309070407.hdf'\n",
    "df = starepandas.read_granule(fname)\n",
    "df['750m Surface Reflectance Band M2'].mean()"
   ]
  },
  {
   "cell_type": "code",
   "execution_count": 12,
   "id": "4df3d02b-36a3-49bb-ab20-2ce406013bde",
   "metadata": {
    "tags": []
   },
   "outputs": [
    {
     "data": {
      "text/plain": [
       "110"
      ]
     },
     "execution_count": 12,
     "metadata": {},
     "output_type": "execute_result"
    }
   ],
   "source": [
    "del df\n",
    "gc.collect()"
   ]
  },
  {
   "cell_type": "markdown",
   "id": "0a0cdf5f-e67d-4a68-a190-1e5cbf279323",
   "metadata": {},
   "source": [
    "## VNP03*"
   ]
  },
  {
   "cell_type": "code",
   "execution_count": 4,
   "id": "f6b01097-236b-4b96-ba0d-3ac013e3a36f",
   "metadata": {
    "tags": []
   },
   "outputs": [],
   "source": [
    "fname = '../tests/data/granules/viirs/VNP03DNB.A2022308.1930.002.2022309041547.nc'\n",
    "df = starepandas.read_granule(fname, sidecar=True)"
   ]
  },
  {
   "cell_type": "code",
   "execution_count": 15,
   "id": "19a5e4e3-fc02-4e02-9577-19070f8117e4",
   "metadata": {
    "tags": []
   },
   "outputs": [
    {
     "data": {
      "text/plain": [
       "539"
      ]
     },
     "execution_count": 15,
     "metadata": {},
     "output_type": "execute_result"
    }
   ],
   "source": [
    "del df\n",
    "gc.collect()"
   ]
  },
  {
   "cell_type": "code",
   "execution_count": 16,
   "id": "c4b5da97-8302-4ec6-9591-1202c8a9ea17",
   "metadata": {
    "tags": []
   },
   "outputs": [],
   "source": [
    "fname = '../tests/data/granules/viirs/VNP03MOD.A2022308.1930.002.2022309041547.nc'\n",
    "df = starepandas.read_granule(fname, sidecar=True)"
   ]
  },
  {
   "cell_type": "code",
   "execution_count": 17,
   "id": "6a7e4888-521f-4e43-9d96-76683abf9ba9",
   "metadata": {
    "tags": []
   },
   "outputs": [
    {
     "data": {
      "text/plain": [
       "57"
      ]
     },
     "execution_count": 17,
     "metadata": {},
     "output_type": "execute_result"
    }
   ],
   "source": [
    "del df\n",
    "gc.collect()"
   ]
  },
  {
   "cell_type": "code",
   "execution_count": 6,
   "id": "88cb3301-7d45-48b9-bd7b-5ab1be438e4c",
   "metadata": {
    "tags": []
   },
   "outputs": [],
   "source": [
    "fname = '../tests/data/granules/viirs/VNP03IMG.A2022308.1930.002.2022309041547.nc'\n",
    "df = starepandas.read_granule(fname, sidecar=True)"
   ]
  },
  {
   "cell_type": "markdown",
   "id": "05298825-da29-47fe-af78-fb249c60b2fc",
   "metadata": {},
   "source": [
    "## VNP02*"
   ]
  },
  {
   "cell_type": "code",
   "execution_count": null,
   "id": "a9e61cc5-37be-4635-923e-30f192e0e0fc",
   "metadata": {},
   "outputs": [],
   "source": []
  }
 ],
 "metadata": {
  "kernelspec": {
   "display_name": "Python 3 (ipykernel)",
   "language": "python",
   "name": "python3"
  },
  "language_info": {
   "codemirror_mode": {
    "name": "ipython",
    "version": 3
   },
   "file_extension": ".py",
   "mimetype": "text/x-python",
   "name": "python",
   "nbconvert_exporter": "python",
   "pygments_lexer": "ipython3",
   "version": "3.10.12"
  }
 },
 "nbformat": 4,
 "nbformat_minor": 5
}
