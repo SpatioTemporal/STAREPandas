{
 "cells": [
  {
   "cell_type": "code",
   "execution_count": 1,
   "metadata": {},
   "outputs": [],
   "source": [
    "import starepandas\n",
    "from pyhdf.SD import SD\n",
    "import numpy\n",
    "import pystare\n",
    "import xarray\n",
    "import dask\n",
    "import datetime"
   ]
  },
  {
   "cell_type": "code",
   "execution_count": 2,
   "metadata": {},
   "outputs": [],
   "source": [
    "client = dask.distributed.Client(n_workers=4)"
   ]
  },
  {
   "cell_type": "code",
   "execution_count": 3,
   "metadata": {},
   "outputs": [],
   "source": [
    "file_path = '../tests/data/granules/MOD05_L2.A2019336.0000.061.2019336211522.hdf'\n",
    "hdf = SD(file_path)\n",
    "lon = hdf.select('Longitude').get().astype(numpy.double)\n",
    "lat = hdf.select('Latitude').get().astype(numpy.double)"
   ]
  },
  {
   "cell_type": "code",
   "execution_count": 4,
   "metadata": {},
   "outputs": [
    {
     "name": "stdout",
     "output_type": "stream",
     "text": [
      "0:00:01.068474\n"
     ]
    }
   ],
   "source": [
    "start = datetime.datetime.now()\n",
    "stare = pystare.from_latlon2D(lat=lat, \n",
    "                              lon=lon, \n",
    "                              adapt_resolution=True)\n",
    "print(datetime.datetime.now()-start)"
   ]
  },
  {
   "cell_type": "markdown",
   "metadata": {},
   "source": [
    "# Dask"
   ]
  },
  {
   "cell_type": "code",
   "execution_count": 5,
   "metadata": {},
   "outputs": [
    {
     "data": {
      "text/html": [
       "<table>\n",
       "<tr>\n",
       "<td>\n",
       "<table>\n",
       "  <thead>\n",
       "    <tr><td> </td><th> Array </th><th> Chunk </th></tr>\n",
       "  </thead>\n",
       "  <tbody>\n",
       "    <tr><th> Bytes </th><td> 1.75 MB </td> <td> 1.75 MB </td></tr>\n",
       "    <tr><th> Shape </th><td> (2, 406, 270) </td> <td> (2, 406, 270) </td></tr>\n",
       "    <tr><th> Count </th><td> 1 Tasks </td><td> 1 Chunks </td></tr>\n",
       "    <tr><th> Type </th><td> float64 </td><td> numpy.ndarray </td></tr>\n",
       "  </tbody>\n",
       "</table>\n",
       "</td>\n",
       "<td>\n",
       "<svg width=\"154\" height=\"184\" style=\"stroke:rgb(0,0,0);stroke-width:1\" >\n",
       "\n",
       "  <!-- Horizontal lines -->\n",
       "  <line x1=\"10\" y1=\"0\" x2=\"24\" y2=\"14\" style=\"stroke-width:2\" />\n",
       "  <line x1=\"10\" y1=\"120\" x2=\"24\" y2=\"134\" style=\"stroke-width:2\" />\n",
       "\n",
       "  <!-- Vertical lines -->\n",
       "  <line x1=\"10\" y1=\"0\" x2=\"10\" y2=\"120\" style=\"stroke-width:2\" />\n",
       "  <line x1=\"24\" y1=\"14\" x2=\"24\" y2=\"134\" style=\"stroke-width:2\" />\n",
       "\n",
       "  <!-- Colored Rectangle -->\n",
       "  <polygon points=\"10.0,0.0 24.9485979497544,14.948597949754403 24.9485979497544,134.9485979497544 10.0,120.0\" style=\"fill:#ECB172A0;stroke-width:0\"/>\n",
       "\n",
       "  <!-- Horizontal lines -->\n",
       "  <line x1=\"10\" y1=\"0\" x2=\"89\" y2=\"0\" style=\"stroke-width:2\" />\n",
       "  <line x1=\"24\" y1=\"14\" x2=\"104\" y2=\"14\" style=\"stroke-width:2\" />\n",
       "\n",
       "  <!-- Vertical lines -->\n",
       "  <line x1=\"10\" y1=\"0\" x2=\"24\" y2=\"14\" style=\"stroke-width:2\" />\n",
       "  <line x1=\"89\" y1=\"0\" x2=\"104\" y2=\"14\" style=\"stroke-width:2\" />\n",
       "\n",
       "  <!-- Colored Rectangle -->\n",
       "  <polygon points=\"10.0,0.0 89.80295566502463,0.0 104.75155361477903,14.948597949754403 24.9485979497544,14.948597949754403\" style=\"fill:#ECB172A0;stroke-width:0\"/>\n",
       "\n",
       "  <!-- Horizontal lines -->\n",
       "  <line x1=\"24\" y1=\"14\" x2=\"104\" y2=\"14\" style=\"stroke-width:2\" />\n",
       "  <line x1=\"24\" y1=\"134\" x2=\"104\" y2=\"134\" style=\"stroke-width:2\" />\n",
       "\n",
       "  <!-- Vertical lines -->\n",
       "  <line x1=\"24\" y1=\"14\" x2=\"24\" y2=\"134\" style=\"stroke-width:2\" />\n",
       "  <line x1=\"104\" y1=\"14\" x2=\"104\" y2=\"134\" style=\"stroke-width:2\" />\n",
       "\n",
       "  <!-- Colored Rectangle -->\n",
       "  <polygon points=\"24.9485979497544,14.948597949754403 104.75155361477903,14.948597949754403 104.75155361477903,134.9485979497544 24.9485979497544,134.9485979497544\" style=\"fill:#ECB172A0;stroke-width:0\"/>\n",
       "\n",
       "  <!-- Text -->\n",
       "  <text x=\"64.850076\" y=\"154.948598\" font-size=\"1.0rem\" font-weight=\"100\" text-anchor=\"middle\" >270</text>\n",
       "  <text x=\"124.751554\" y=\"74.948598\" font-size=\"1.0rem\" font-weight=\"100\" text-anchor=\"middle\" transform=\"rotate(-90,124.751554,74.948598)\">406</text>\n",
       "  <text x=\"7.474299\" y=\"147.474299\" font-size=\"1.0rem\" font-weight=\"100\" text-anchor=\"middle\" transform=\"rotate(45,7.474299,147.474299)\">2</text>\n",
       "</svg>\n",
       "</td>\n",
       "</tr>\n",
       "</table>"
      ],
      "text/plain": [
       "dask.array<array, shape=(2, 406, 270), dtype=float64, chunksize=(2, 406, 270), chunktype=numpy.ndarray>"
      ]
     },
     "execution_count": 5,
     "metadata": {},
     "output_type": "execute_result"
    }
   ],
   "source": [
    "coords = numpy.array([lat, lon])\n",
    "coords_d = dask.array.from_array(coords, chunks=(2,500,1354))\n",
    "coords_d"
   ]
  },
  {
   "cell_type": "code",
   "execution_count": 6,
   "metadata": {},
   "outputs": [],
   "source": [
    "def stare(coords):\n",
    "    return pystare.from_latlon2D(coords[0], \n",
    "                                 coords[1], adapt_resolution=True)"
   ]
  },
  {
   "cell_type": "code",
   "execution_count": 7,
   "metadata": {},
   "outputs": [],
   "source": [
    "s_d = coords_d.map_blocks(stare, drop_axis=[0], \n",
    "                            chunks=(100, 1354), dtype='int64')\n",
    "s_d = s_d.compute()"
   ]
  },
  {
   "cell_type": "markdown",
   "metadata": {},
   "source": [
    "# Xarray Ufunc"
   ]
  },
  {
   "cell_type": "code",
   "execution_count": 8,
   "metadata": {},
   "outputs": [],
   "source": [
    "lat_x = xarray.DataArray(lat, dims=['x', 'y']).chunk({'x': 500})\n",
    "lon_x = xarray.DataArray(lon, dims=['x', 'y']).chunk({'x': 500})"
   ]
  },
  {
   "cell_type": "code",
   "execution_count": 9,
   "metadata": {},
   "outputs": [
    {
     "name": "stdout",
     "output_type": "stream",
     "text": [
      "0:00:00.739311\n"
     ]
    }
   ],
   "source": [
    "start = datetime.datetime.now()\n",
    "s_d = xarray.apply_ufunc(pystare.from_latlon2D, \n",
    "                         lat_x,\n",
    "                         lon_x,\n",
    "                         dask='parallelized',\n",
    "                         output_dtypes=[numpy.int64])\n",
    "\n",
    "sids = numpy.array(s_d)\n",
    "print(datetime.datetime.now()-start)"
   ]
  },
  {
   "cell_type": "code",
   "execution_count": 10,
   "metadata": {},
   "outputs": [
    {
     "data": {
      "text/plain": [
       "array([[4298473764500464827, 4298458168380511227, 4297394569014717915,\n",
       "        ..., 3604325910693007291, 3604468594879342971,\n",
       "        3604495833162833211],\n",
       "       [4298462872969244315, 4298459225563237243, 4297297422977447771,\n",
       "        ..., 3604330264741384027, 3604471380516185659,\n",
       "        3604465738696115451],\n",
       "       [4298462873435275387, 4298459227962358491, 4297297429637206139,\n",
       "        ..., 3604322952727773243, 3604471381825883419,\n",
       "        3604465733841987675],\n",
       "       ...,\n",
       "       [3652144132972193499, 3650323462937407931, 3650325177740030203,\n",
       "        ..., 3727730728598789563, 3727841631302055067,\n",
       "        3727831398613792027],\n",
       "       [3652144129926505115, 3650323400334252059, 3650325178786309339,\n",
       "        ..., 3727730732960989627, 3727841627078009595,\n",
       "        3727831398032615643],\n",
       "       [3652167198498770747, 3652159322973158139, 3650318911383240379,\n",
       "        ..., 3727838256925064987, 3727843063731949819,\n",
       "        3727853163225616443]])"
      ]
     },
     "execution_count": 10,
     "metadata": {},
     "output_type": "execute_result"
    }
   ],
   "source": [
    "sids"
   ]
  },
  {
   "cell_type": "markdown",
   "metadata": {},
   "source": [
    "# Write Sidecar"
   ]
  },
  {
   "cell_type": "code",
   "execution_count": 11,
   "metadata": {},
   "outputs": [],
   "source": [
    "import netCDF4\n",
    "rootgrp = netCDF4.Dataset('test.nc', \"w\", format=\"NETCDF4\")\n",
    "\n",
    "rootgrp.close()"
   ]
  },
  {
   "cell_type": "markdown",
   "metadata": {},
   "source": [
    "# Dask DataFrame"
   ]
  },
  {
   "cell_type": "code",
   "execution_count": 12,
   "metadata": {
    "scrolled": true
   },
   "outputs": [],
   "source": [
    "band1 = hdf.select('Water_Vapor_Infrared').get().astype(numpy.double)\n",
    "lat = hdf.select('Latitude').get().astype(numpy.double)"
   ]
  },
  {
   "cell_type": "code",
   "execution_count": 13,
   "metadata": {},
   "outputs": [
    {
     "data": {
      "text/html": [
       "<div><strong>Dask DataFrame Structure:</strong></div>\n",
       "<div>\n",
       "<style scoped>\n",
       "    .dataframe tbody tr th:only-of-type {\n",
       "        vertical-align: middle;\n",
       "    }\n",
       "\n",
       "    .dataframe tbody tr th {\n",
       "        vertical-align: top;\n",
       "    }\n",
       "\n",
       "    .dataframe thead th {\n",
       "        text-align: right;\n",
       "    }\n",
       "</style>\n",
       "<table border=\"1\" class=\"dataframe\">\n",
       "  <thead>\n",
       "    <tr style=\"text-align: right;\">\n",
       "      <th></th>\n",
       "      <th>band1</th>\n",
       "    </tr>\n",
       "    <tr>\n",
       "      <th>npartitions=4</th>\n",
       "      <th></th>\n",
       "    </tr>\n",
       "  </thead>\n",
       "  <tbody>\n",
       "    <tr>\n",
       "      <th>3604081108103418395</th>\n",
       "      <td>float64</td>\n",
       "    </tr>\n",
       "    <tr>\n",
       "      <th>3618748658197715035</th>\n",
       "      <td>...</td>\n",
       "    </tr>\n",
       "    <tr>\n",
       "      <th>3637654733721336411</th>\n",
       "      <td>...</td>\n",
       "    </tr>\n",
       "    <tr>\n",
       "      <th>3735896062517019259</th>\n",
       "      <td>...</td>\n",
       "    </tr>\n",
       "    <tr>\n",
       "      <th>4298544093115426171</th>\n",
       "      <td>...</td>\n",
       "    </tr>\n",
       "  </tbody>\n",
       "</table>\n",
       "</div>\n",
       "<div>Dask Name: sort_index, 48 tasks</div>"
      ],
      "text/plain": [
       "Dask DataFrame Structure:\n",
       "                       band1\n",
       "npartitions=4               \n",
       "3604081108103418395  float64\n",
       "3618748658197715035      ...\n",
       "3637654733721336411      ...\n",
       "3735896062517019259      ...\n",
       "4298544093115426171      ...\n",
       "Dask Name: sort_index, 48 tasks"
      ]
     },
     "execution_count": 13,
     "metadata": {},
     "output_type": "execute_result"
    }
   ],
   "source": [
    "import pandas\n",
    "df = pandas.DataFrame({'stare': sids.flatten(), 'band1': band1.flatten()})\n",
    "ddf = dask.dataframe.from_pandas(df, npartitions=4)\n",
    "ddf.set_index('stare')"
   ]
  },
  {
   "cell_type": "code",
   "execution_count": null,
   "metadata": {},
   "outputs": [],
   "source": []
  }
 ],
 "metadata": {
  "kernelspec": {
   "display_name": "Python 3 (ipykernel)",
   "language": "python",
   "name": "python3"
  },
  "language_info": {
   "codemirror_mode": {
    "name": "ipython",
    "version": 3
   },
   "file_extension": ".py",
   "mimetype": "text/x-python",
   "name": "python",
   "nbconvert_exporter": "python",
   "pygments_lexer": "ipython3",
   "version": "3.10.4"
  }
 },
 "nbformat": 4,
 "nbformat_minor": 4
}
