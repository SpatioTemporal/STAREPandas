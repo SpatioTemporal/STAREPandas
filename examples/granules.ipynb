{
 "cells": [
  {
   "cell_type": "code",
   "execution_count": 1,
   "metadata": {},
   "outputs": [],
   "source": [
    "import starepandas\n",
    "import geopandas\n",
    "import pystare\n",
    "import matplotlib.pyplot as plt\n",
    "import importlib"
   ]
  },
  {
   "cell_type": "code",
   "execution_count": 2,
   "metadata": {},
   "outputs": [],
   "source": [
    "fname = '../tests/data/granules/MYD05_L2.A2020060.1635.061.2020061153519.hdf'\n",
    "modis = starepandas.read_granule(fname, \n",
    "                               add_stare=True,\n",
    "                               adapt_resolution=True,\n",
    "                               track_first=False)"
   ]
  },
  {
   "cell_type": "code",
   "execution_count": 3,
   "metadata": {
    "scrolled": false
   },
   "outputs": [
    {
     "data": {
      "text/html": [
       "<div>\n",
       "<style scoped>\n",
       "    .dataframe tbody tr th:only-of-type {\n",
       "        vertical-align: middle;\n",
       "    }\n",
       "\n",
       "    .dataframe tbody tr th {\n",
       "        vertical-align: top;\n",
       "    }\n",
       "\n",
       "    .dataframe thead th {\n",
       "        text-align: right;\n",
       "    }\n",
       "</style>\n",
       "<table border=\"1\" class=\"dataframe\">\n",
       "  <thead>\n",
       "    <tr style=\"text-align: right;\">\n",
       "      <th></th>\n",
       "      <th>lat</th>\n",
       "      <th>lon</th>\n",
       "      <th>stare</th>\n",
       "      <th>Scan_Start_Time</th>\n",
       "      <th>Solar_Zenith</th>\n",
       "      <th>Solar_Azimuth</th>\n",
       "      <th>Sensor_Zenith</th>\n",
       "      <th>Sensor_Azimuth</th>\n",
       "      <th>Water_Vapor_Infrared</th>\n",
       "    </tr>\n",
       "  </thead>\n",
       "  <tbody>\n",
       "    <tr>\n",
       "      <th>0</th>\n",
       "      <td>-4.923621</td>\n",
       "      <td>-33.579193</td>\n",
       "      <td>2833105768974759241</td>\n",
       "      <td>8.571477e+08</td>\n",
       "      <td>3199</td>\n",
       "      <td>-9648</td>\n",
       "      <td>6517</td>\n",
       "      <td>-9903</td>\n",
       "      <td>-9999</td>\n",
       "    </tr>\n",
       "    <tr>\n",
       "      <th>1</th>\n",
       "      <td>-4.956750</td>\n",
       "      <td>-33.786446</td>\n",
       "      <td>2833110603003551593</td>\n",
       "      <td>8.571477e+08</td>\n",
       "      <td>3178</td>\n",
       "      <td>-9645</td>\n",
       "      <td>6456</td>\n",
       "      <td>-9901</td>\n",
       "      <td>-9999</td>\n",
       "    </tr>\n",
       "    <tr>\n",
       "      <th>2</th>\n",
       "      <td>-4.988602</td>\n",
       "      <td>-33.986107</td>\n",
       "      <td>2833112722354712041</td>\n",
       "      <td>8.571477e+08</td>\n",
       "      <td>3158</td>\n",
       "      <td>-9642</td>\n",
       "      <td>6395</td>\n",
       "      <td>-9899</td>\n",
       "      <td>5392</td>\n",
       "    </tr>\n",
       "    <tr>\n",
       "      <th>3</th>\n",
       "      <td>-5.019270</td>\n",
       "      <td>-34.178722</td>\n",
       "      <td>2833084363820531337</td>\n",
       "      <td>8.571477e+08</td>\n",
       "      <td>3139</td>\n",
       "      <td>-9639</td>\n",
       "      <td>6335</td>\n",
       "      <td>-9897</td>\n",
       "      <td>5532</td>\n",
       "    </tr>\n",
       "    <tr>\n",
       "      <th>4</th>\n",
       "      <td>-5.048833</td>\n",
       "      <td>-34.364750</td>\n",
       "      <td>2833230005031123593</td>\n",
       "      <td>8.571477e+08</td>\n",
       "      <td>3120</td>\n",
       "      <td>-9636</td>\n",
       "      <td>6275</td>\n",
       "      <td>-9895</td>\n",
       "      <td>5304</td>\n",
       "    </tr>\n",
       "    <tr>\n",
       "      <th>...</th>\n",
       "      <td>...</td>\n",
       "      <td>...</td>\n",
       "      <td>...</td>\n",
       "      <td>...</td>\n",
       "      <td>...</td>\n",
       "      <td>...</td>\n",
       "      <td>...</td>\n",
       "      <td>...</td>\n",
       "      <td>...</td>\n",
       "    </tr>\n",
       "    <tr>\n",
       "      <th>109615</th>\n",
       "      <td>10.103586</td>\n",
       "      <td>-57.200943</td>\n",
       "      <td>2499696282523506889</td>\n",
       "      <td>8.571480e+08</td>\n",
       "      <td>2017</td>\n",
       "      <td>-15104</td>\n",
       "      <td>6222</td>\n",
       "      <td>8010</td>\n",
       "      <td>-9999</td>\n",
       "    </tr>\n",
       "    <tr>\n",
       "      <th>109616</th>\n",
       "      <td>10.071841</td>\n",
       "      <td>-57.382591</td>\n",
       "      <td>2499763921241658537</td>\n",
       "      <td>8.571480e+08</td>\n",
       "      <td>2006</td>\n",
       "      <td>-15145</td>\n",
       "      <td>6281</td>\n",
       "      <td>8006</td>\n",
       "      <td>-9999</td>\n",
       "    </tr>\n",
       "    <tr>\n",
       "      <th>109617</th>\n",
       "      <td>10.038896</td>\n",
       "      <td>-57.570473</td>\n",
       "      <td>2499750202427574985</td>\n",
       "      <td>8.571480e+08</td>\n",
       "      <td>1994</td>\n",
       "      <td>-15189</td>\n",
       "      <td>6341</td>\n",
       "      <td>8003</td>\n",
       "      <td>2273</td>\n",
       "    </tr>\n",
       "    <tr>\n",
       "      <th>109618</th>\n",
       "      <td>10.004664</td>\n",
       "      <td>-57.765011</td>\n",
       "      <td>2499745802665205321</td>\n",
       "      <td>8.571480e+08</td>\n",
       "      <td>1982</td>\n",
       "      <td>-15235</td>\n",
       "      <td>6401</td>\n",
       "      <td>7999</td>\n",
       "      <td>2564</td>\n",
       "    </tr>\n",
       "    <tr>\n",
       "      <th>109619</th>\n",
       "      <td>9.969055</td>\n",
       "      <td>-57.966656</td>\n",
       "      <td>2499727378644430057</td>\n",
       "      <td>8.571480e+08</td>\n",
       "      <td>1970</td>\n",
       "      <td>-15283</td>\n",
       "      <td>6462</td>\n",
       "      <td>7995</td>\n",
       "      <td>-9999</td>\n",
       "    </tr>\n",
       "  </tbody>\n",
       "</table>\n",
       "<p>109620 rows × 9 columns</p>\n",
       "</div>"
      ],
      "text/plain": [
       "              lat        lon                stare  Scan_Start_Time  \\\n",
       "0       -4.923621 -33.579193  2833105768974759241     8.571477e+08   \n",
       "1       -4.956750 -33.786446  2833110603003551593     8.571477e+08   \n",
       "2       -4.988602 -33.986107  2833112722354712041     8.571477e+08   \n",
       "3       -5.019270 -34.178722  2833084363820531337     8.571477e+08   \n",
       "4       -5.048833 -34.364750  2833230005031123593     8.571477e+08   \n",
       "...           ...        ...                  ...              ...   \n",
       "109615  10.103586 -57.200943  2499696282523506889     8.571480e+08   \n",
       "109616  10.071841 -57.382591  2499763921241658537     8.571480e+08   \n",
       "109617  10.038896 -57.570473  2499750202427574985     8.571480e+08   \n",
       "109618  10.004664 -57.765011  2499745802665205321     8.571480e+08   \n",
       "109619   9.969055 -57.966656  2499727378644430057     8.571480e+08   \n",
       "\n",
       "        Solar_Zenith  Solar_Azimuth  Sensor_Zenith  Sensor_Azimuth  \\\n",
       "0               3199          -9648           6517           -9903   \n",
       "1               3178          -9645           6456           -9901   \n",
       "2               3158          -9642           6395           -9899   \n",
       "3               3139          -9639           6335           -9897   \n",
       "4               3120          -9636           6275           -9895   \n",
       "...              ...            ...            ...             ...   \n",
       "109615          2017         -15104           6222            8010   \n",
       "109616          2006         -15145           6281            8006   \n",
       "109617          1994         -15189           6341            8003   \n",
       "109618          1982         -15235           6401            7999   \n",
       "109619          1970         -15283           6462            7995   \n",
       "\n",
       "        Water_Vapor_Infrared  \n",
       "0                      -9999  \n",
       "1                      -9999  \n",
       "2                       5392  \n",
       "3                       5532  \n",
       "4                       5304  \n",
       "...                      ...  \n",
       "109615                 -9999  \n",
       "109616                 -9999  \n",
       "109617                  2273  \n",
       "109618                  2564  \n",
       "109619                 -9999  \n",
       "\n",
       "[109620 rows x 9 columns]"
      ]
     },
     "execution_count": 3,
     "metadata": {},
     "output_type": "execute_result"
    }
   ],
   "source": [
    "modis"
   ]
  },
  {
   "cell_type": "code",
   "execution_count": 5,
   "metadata": {},
   "outputs": [],
   "source": [
    "trixels = modis.trixels()\n",
    "modis.set_trixels(trixels, inplace=True)"
   ]
  },
  {
   "cell_type": "code",
   "execution_count": 6,
   "metadata": {},
   "outputs": [],
   "source": [
    "geom = geopandas.points_from_xy(modis.lon, modis.lat)\n",
    "modis.set_geometry(geom, inplace=True)"
   ]
  },
  {
   "cell_type": "code",
   "execution_count": null,
   "metadata": {},
   "outputs": [],
   "source": [
    "fig, ax = plt.subplots(figsize=(3,3), dpi=200)\n",
    "ax.grid(True)\n",
    "\n",
    "ax.set_xlim(-60,-55)\n",
    "ax.set_ylim(5,12)\n",
    "modis.plot(trixels=False, ax=ax)\n",
    "modis.plot(trixels=True, color='r', ax=ax)"
   ]
  },
  {
   "cell_type": "markdown",
   "metadata": {},
   "source": [
    "# Manually getting the 2D STARE array"
   ]
  },
  {
   "cell_type": "code",
   "execution_count": 8,
   "metadata": {},
   "outputs": [],
   "source": [
    "import netCDF4\n",
    "from pyhdf.SD import SD\n",
    "import numpy\n",
    "import pystare\n",
    "import datetime"
   ]
  },
  {
   "cell_type": "code",
   "execution_count": 9,
   "metadata": {},
   "outputs": [],
   "source": [
    "hdf = SD(fname)\n",
    "lon = hdf.select('Longitude').get().astype(numpy.double)\n",
    "lat = hdf.select('Latitude').get().astype(numpy.double)"
   ]
  },
  {
   "cell_type": "code",
   "execution_count": 10,
   "metadata": {},
   "outputs": [
    {
     "data": {
      "text/plain": [
       "datetime.timedelta(0, 1, 9116)"
      ]
     },
     "execution_count": 10,
     "metadata": {},
     "output_type": "execute_result"
    }
   ],
   "source": [
    "start = datetime.datetime.now()\n",
    "sids = pystare.from_latlon2D(lat=lat, lon=lon, adapt_resolution=True)\n",
    "datetime.datetime.now()-start"
   ]
  },
  {
   "cell_type": "code",
   "execution_count": 11,
   "metadata": {},
   "outputs": [
    {
     "name": "stdout",
     "output_type": "stream",
     "text": [
      "9\n",
      "11\n"
     ]
    }
   ],
   "source": [
    "print(pystare.spatial_resolution(sids).min())\n",
    "print(pystare.spatial_resolution(sids).max())"
   ]
  },
  {
   "cell_type": "markdown",
   "metadata": {},
   "source": [
    "# Intersecting Data "
   ]
  },
  {
   "cell_type": "code",
   "execution_count": 12,
   "metadata": {},
   "outputs": [],
   "source": [
    "world = geopandas.read_file(geopandas.datasets.get_path('naturalearth_lowres'))\n",
    "world.sort_values(by='name', inplace=True)\n",
    "stare = starepandas.stare_from_gdf(world, level=7, force_ccw=True)\n",
    "world = starepandas.STAREDataFrame(world, stare=stare)\n",
    "trixels = world.trixels()\n",
    "world.set_trixels(trixels, inplace=True)"
   ]
  },
  {
   "cell_type": "code",
   "execution_count": 13,
   "metadata": {},
   "outputs": [
    {
     "data": {
      "text/plain": [
       "<AxesSubplot:>"
      ]
     },
     "execution_count": 13,
     "metadata": {},
     "output_type": "execute_result"
    },
    {
     "data": {
      "image/png": "[encoded data removed]",
      "text/plain": [
       "<Figure size 432x288 with 1 Axes>"
      ]
     },
     "metadata": {
      "needs_background": "light"
     },
     "output_type": "display_data"
    }
   ],
   "source": [
    "fig, ax = plt.subplots()\n",
    "ax.grid(True)\n",
    "\n",
    "brazil = world[world.name=='Brazil']\n",
    "brazil.plot(ax=ax, trixels=True, boundary=True, color='y', zorder=0)\n",
    "brazil.plot(ax=ax, trixels=False, facecolor=\"none\", edgecolor='blue', zorder=1)\n",
    "modis.plot(ax=ax, color='red', trixels=True)"
   ]
  },
  {
   "cell_type": "code",
   "execution_count": 15,
   "metadata": {},
   "outputs": [
    {
     "data": {
      "text/plain": [
       "True"
      ]
     },
     "execution_count": 15,
     "metadata": {},
     "output_type": "execute_result"
    }
   ],
   "source": [
    "a = modis.stare_intersects(brazil['stare'].iloc[0])\n",
    "a.any()"
   ]
  },
  {
   "cell_type": "code",
   "execution_count": 17,
   "metadata": {},
   "outputs": [
    {
     "data": {
      "text/plain": [
       "565"
      ]
     },
     "execution_count": 17,
     "metadata": {},
     "output_type": "execute_result"
    }
   ],
   "source": [
    "len(brazil['stare'].iloc[0])"
   ]
  },
  {
   "cell_type": "code",
   "execution_count": null,
   "metadata": {},
   "outputs": [],
   "source": []
  }
 ],
 "metadata": {
  "kernelspec": {
   "display_name": "Python 3",
   "language": "python",
   "name": "python3"
  },
  "language_info": {
   "codemirror_mode": {
    "name": "ipython",
    "version": 3
   },
   "file_extension": ".py",
   "mimetype": "text/x-python",
   "name": "python",
   "nbconvert_exporter": "python",
   "pygments_lexer": "ipython3",
   "version": "3.6.8"
  }
 },
 "nbformat": 4,
 "nbformat_minor": 4
}
