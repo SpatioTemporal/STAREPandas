{
 "cells": [
  {
   "cell_type": "code",
   "execution_count": 1,
   "id": "under-thompson",
   "metadata": {},
   "outputs": [],
   "source": [
    "import pystare\n",
    "import starepandas\n",
    "import pystareplotlib\n",
    "\n",
    "import geopandas\n",
    "import numpy\n",
    "\n",
    "import cartopy\n",
    "import cartopy.crs as ccrs\n",
    "\n",
    "import matplotlib as mpl\n",
    "import matplotlib.pyplot as plt"
   ]
  },
  {
   "cell_type": "code",
   "execution_count": 2,
   "id": "elementary-liver",
   "metadata": {},
   "outputs": [],
   "source": [
    "DEFAULT_DPI = mpl.rcParamsDefault['figure.dpi']\n",
    "mpl.rcParams['figure.dpi'] = 1.5 * DEFAULT_DPI\n",
    "mpl.rcParams['legend.fontsize'] = 6"
   ]
  },
  {
   "cell_type": "code",
   "execution_count": 3,
   "id": "informational-ontario",
   "metadata": {},
   "outputs": [
    {
     "data": {
      "text/plain": [
       "{'MOD05|MYD05': starepandas.io.granules.modis.Mod05,\n",
       " 'MOD09|MYD09': starepandas.io.granules.modis.Mod09,\n",
       " 'VNP02DNB|VJ102DNB': starepandas.io.granules.viirsl2.VNP02DNB,\n",
       " 'VNP03DNB|VJ103DNB': starepandas.io.granules.viirsl2.VNP03DNB,\n",
       " 'VNP03MOD|VJ103MOD': starepandas.io.granules.viirsl2.VNP03MOD,\n",
       " 'CLDMSKL2VIIRS': starepandas.io.granules.viirsl2.CLDMSKL2VIIRS,\n",
       " 'SSMIS': starepandas.io.granules.ssmis.SSMIS,\n",
       " 'ATMS': starepandas.io.granules.atms.ATMS,\n",
       " 'MODXX': __main__.ModXX}"
      ]
     },
     "execution_count": 3,
     "metadata": {},
     "output_type": "execute_result"
    }
   ],
   "source": [
    "from starepandas.io.granules import Modis\n",
    "\n",
    "class ModXX(Modis):\n",
    "\n",
    "    def __init__(self, file_path, sidecar_path=None):\n",
    "        super(ModXX, self).__init__(file_path, sidecar_path)\n",
    "        self.nom_res = '5km'\n",
    "\n",
    "    def read_data(self):\n",
    "        dataset_names = ['Scan_Start_Time', 'Solar_Zenith', 'Solar_Azimuth',\n",
    "                         'Sensor_Zenith', 'Sensor_Azimuth', 'Water_Vapor_Infrared']\n",
    "\n",
    "        dataset_names2 = ['Cloud_Mask_QA', 'Water_Vapor_Near_Infrared',\n",
    "                          'Water_Vaport_Corretion_Factors', 'Quality_Assurance_Near_Infrared', 'Quality_Assurance_Infrared']\n",
    "        for dataset_name in dataset_names:\n",
    "            self.data[dataset_name] = self.hdf.select(dataset_name).get()\n",
    "            \n",
    "starepandas.io.granules.granule_factory_library['MODXX']=ModXX\n",
    "\n",
    "starepandas.io.granules.granule_factory_library"
   ]
  },
  {
   "cell_type": "code",
   "execution_count": null,
   "id": "vocal-honduras",
   "metadata": {},
   "outputs": [],
   "source": [
    "mod=None"
   ]
  },
  {
   "cell_type": "code",
   "execution_count": null,
   "id": "textile-spell",
   "metadata": {},
   "outputs": [],
   "source": [
    "granule_name=\"s3://eis-dh-fire/mod14/raw/MOD14.A2020214.0520.061.2020340090643.hdf\""
   ]
  },
  {
   "cell_type": "code",
   "execution_count": null,
   "id": "coral-uncertainty",
   "metadata": {},
   "outputs": [],
   "source": [
    "granule_name=\"/home/jovyan/git/STAREPandas/starepandas/datasets/MODXX.hdf\""
   ]
  },
  {
   "cell_type": "code",
   "execution_count": 5,
   "id": "substantial-fireplace",
   "metadata": {},
   "outputs": [],
   "source": [
    "granule_name=\"/home/jovyan/git/STAREPandas/starepandas/datasets/MODXX.hdf\""
   ]
  },
  {
   "cell_type": "code",
   "execution_count": null,
   "id": "standing-pound",
   "metadata": {},
   "outputs": [],
   "source": [
    "del mod"
   ]
  },
  {
   "cell_type": "code",
   "execution_count": 6,
   "id": "viral-tampa",
   "metadata": {},
   "outputs": [],
   "source": [
    "mod = starepandas.read_granule(granule_name, sidecar=False, read_latlon=False, add_stare=True)"
   ]
  },
  {
   "cell_type": "code",
   "execution_count": 7,
   "id": "attached-residence",
   "metadata": {},
   "outputs": [],
   "source": [
    "mod = starepandas.read_granule(granule_name, sidecar=True, read_latlon=True)"
   ]
  },
  {
   "cell_type": "code",
   "execution_count": 8,
   "id": "brief-university",
   "metadata": {},
   "outputs": [],
   "source": [
    "mod['stare_hex']=mod['stare'].apply(hex)"
   ]
  },
  {
   "cell_type": "code",
   "execution_count": 9,
   "id": "obvious-croatia",
   "metadata": {},
   "outputs": [],
   "source": [
    "mod['wiv0']=mod['Water_Vapor_Infrared'].apply(lambda x: min(0,x))"
   ]
  },
  {
   "cell_type": "code",
   "execution_count": 10,
   "id": "departmental-architecture",
   "metadata": {},
   "outputs": [],
   "source": [
    "mod['pod']=mod['stare'].apply(lambda sid: pystare.spatial_clear_to_resolution(pystare.spatial_coerce_resolution(sid,7)))"
   ]
  },
  {
   "cell_type": "code",
   "execution_count": 11,
   "id": "prerequisite-bumper",
   "metadata": {},
   "outputs": [],
   "source": [
    "mod['pod_hex']=mod['pod'].apply(lambda sid: hex(sid))"
   ]
  },
  {
   "cell_type": "code",
   "execution_count": 12,
   "id": "structural-surveillance",
   "metadata": {},
   "outputs": [
    {
     "data": {
      "text/html": [
       "<div>\n",
       "<style scoped>\n",
       "    .dataframe tbody tr th:only-of-type {\n",
       "        vertical-align: middle;\n",
       "    }\n",
       "\n",
       "    .dataframe tbody tr th {\n",
       "        vertical-align: top;\n",
       "    }\n",
       "\n",
       "    .dataframe thead th {\n",
       "        text-align: right;\n",
       "    }\n",
       "</style>\n",
       "<table border=\"1\" class=\"dataframe\">\n",
       "  <thead>\n",
       "    <tr style=\"text-align: right;\">\n",
       "      <th></th>\n",
       "      <th>stare</th>\n",
       "      <th>Scan_Start_Time</th>\n",
       "      <th>Solar_Zenith</th>\n",
       "      <th>Solar_Azimuth</th>\n",
       "      <th>Sensor_Zenith</th>\n",
       "      <th>Sensor_Azimuth</th>\n",
       "      <th>Water_Vapor_Infrared</th>\n",
       "      <th>stare_hex</th>\n",
       "      <th>wiv0</th>\n",
       "      <th>pod</th>\n",
       "      <th>pod_hex</th>\n",
       "    </tr>\n",
       "  </thead>\n",
       "  <tbody>\n",
       "    <tr>\n",
       "      <th>0</th>\n",
       "      <td>4298473764500464809</td>\n",
       "      <td>8.493984e+08</td>\n",
       "      <td>14709</td>\n",
       "      <td>-2296</td>\n",
       "      <td>6534</td>\n",
       "      <td>-8952</td>\n",
       "      <td>-9999</td>\n",
       "      <td>0x3ba73f1d5162e4a9</td>\n",
       "      <td>-9999</td>\n",
       "      <td>4298439553720516615</td>\n",
       "      <td>0x3ba7200000000007</td>\n",
       "    </tr>\n",
       "    <tr>\n",
       "      <th>1</th>\n",
       "      <td>4298458168380511209</td>\n",
       "      <td>8.493984e+08</td>\n",
       "      <td>14700</td>\n",
       "      <td>-2354</td>\n",
       "      <td>6472</td>\n",
       "      <td>-8980</td>\n",
       "      <td>-9999</td>\n",
       "      <td>0x3ba730ee103253e9</td>\n",
       "      <td>-9999</td>\n",
       "      <td>4298439553720516615</td>\n",
       "      <td>0x3ba7200000000007</td>\n",
       "    </tr>\n",
       "    <tr>\n",
       "      <th>2</th>\n",
       "      <td>4297394569014717897</td>\n",
       "      <td>8.493984e+08</td>\n",
       "      <td>14692</td>\n",
       "      <td>-2410</td>\n",
       "      <td>6411</td>\n",
       "      <td>-9008</td>\n",
       "      <td>-9999</td>\n",
       "      <td>0x3ba3699789d0adc9</td>\n",
       "      <td>-9999</td>\n",
       "      <td>4297384022557851655</td>\n",
       "      <td>0x3ba3600000000007</td>\n",
       "    </tr>\n",
       "    <tr>\n",
       "      <th>3</th>\n",
       "      <td>4297300698872999369</td>\n",
       "      <td>8.493984e+08</td>\n",
       "      <td>14684</td>\n",
       "      <td>-2464</td>\n",
       "      <td>6351</td>\n",
       "      <td>-9034</td>\n",
       "      <td>-9999</td>\n",
       "      <td>0x3ba31437b15cedc9</td>\n",
       "      <td>-9999</td>\n",
       "      <td>4297278469441585159</td>\n",
       "      <td>0x3ba3000000000007</td>\n",
       "    </tr>\n",
       "    <tr>\n",
       "      <th>4</th>\n",
       "      <td>4297290857922121161</td>\n",
       "      <td>8.493984e+08</td>\n",
       "      <td>14676</td>\n",
       "      <td>-2516</td>\n",
       "      <td>6291</td>\n",
       "      <td>-9059</td>\n",
       "      <td>-9999</td>\n",
       "      <td>0x3ba30b446afb4dc9</td>\n",
       "      <td>-9999</td>\n",
       "      <td>4297278469441585159</td>\n",
       "      <td>0x3ba3000000000007</td>\n",
       "    </tr>\n",
       "    <tr>\n",
       "      <th>...</th>\n",
       "      <td>...</td>\n",
       "      <td>...</td>\n",
       "      <td>...</td>\n",
       "      <td>...</td>\n",
       "      <td>...</td>\n",
       "      <td>...</td>\n",
       "      <td>...</td>\n",
       "      <td>...</td>\n",
       "      <td>...</td>\n",
       "      <td>...</td>\n",
       "      <td>...</td>\n",
       "    </tr>\n",
       "    <tr>\n",
       "      <th>109615</th>\n",
       "      <td>3727686638370615689</td>\n",
       "      <td>8.493987e+08</td>\n",
       "      <td>12157</td>\n",
       "      <td>-7468</td>\n",
       "      <td>6223</td>\n",
       "      <td>4800</td>\n",
       "      <td>-9999</td>\n",
       "      <td>0x33bb673f5a0cf189</td>\n",
       "      <td>-9999</td>\n",
       "      <td>3727678669695483911</td>\n",
       "      <td>0x33bb600000000007</td>\n",
       "    </tr>\n",
       "    <tr>\n",
       "      <th>109616</th>\n",
       "      <td>3727661374545790857</td>\n",
       "      <td>8.493987e+08</td>\n",
       "      <td>12147</td>\n",
       "      <td>-7505</td>\n",
       "      <td>6282</td>\n",
       "      <td>4772</td>\n",
       "      <td>-9999</td>\n",
       "      <td>0x33bb504528bf0789</td>\n",
       "      <td>-9999</td>\n",
       "      <td>3727643485323395079</td>\n",
       "      <td>0x33bb400000000007</td>\n",
       "    </tr>\n",
       "    <tr>\n",
       "      <th>109617</th>\n",
       "      <td>3727838256925064969</td>\n",
       "      <td>8.493987e+08</td>\n",
       "      <td>12137</td>\n",
       "      <td>-7544</td>\n",
       "      <td>6342</td>\n",
       "      <td>4743</td>\n",
       "      <td>-9999</td>\n",
       "      <td>0x33bbf124cc213f09</td>\n",
       "      <td>-9999</td>\n",
       "      <td>3727819407183839239</td>\n",
       "      <td>0x33bbe00000000007</td>\n",
       "    </tr>\n",
       "    <tr>\n",
       "      <th>109618</th>\n",
       "      <td>3727843063731949801</td>\n",
       "      <td>8.493987e+08</td>\n",
       "      <td>12126</td>\n",
       "      <td>-7583</td>\n",
       "      <td>6402</td>\n",
       "      <td>4714</td>\n",
       "      <td>-9999</td>\n",
       "      <td>0x33bbf583f82590e9</td>\n",
       "      <td>-9999</td>\n",
       "      <td>3727819407183839239</td>\n",
       "      <td>0x33bbe00000000007</td>\n",
       "    </tr>\n",
       "    <tr>\n",
       "      <th>109619</th>\n",
       "      <td>3727853163225616425</td>\n",
       "      <td>8.493987e+08</td>\n",
       "      <td>12115</td>\n",
       "      <td>-7625</td>\n",
       "      <td>6464</td>\n",
       "      <td>4682</td>\n",
       "      <td>-9999</td>\n",
       "      <td>0x33bbfeb370e11029</td>\n",
       "      <td>-9999</td>\n",
       "      <td>3727819407183839239</td>\n",
       "      <td>0x33bbe00000000007</td>\n",
       "    </tr>\n",
       "  </tbody>\n",
       "</table>\n",
       "<p>109620 rows × 11 columns</p>\n",
       "</div>"
      ],
      "text/plain": [
       "                      stare  Scan_Start_Time  Solar_Zenith  Solar_Azimuth  \\\n",
       "0       4298473764500464809     8.493984e+08         14709          -2296   \n",
       "1       4298458168380511209     8.493984e+08         14700          -2354   \n",
       "2       4297394569014717897     8.493984e+08         14692          -2410   \n",
       "3       4297300698872999369     8.493984e+08         14684          -2464   \n",
       "4       4297290857922121161     8.493984e+08         14676          -2516   \n",
       "...                     ...              ...           ...            ...   \n",
       "109615  3727686638370615689     8.493987e+08         12157          -7468   \n",
       "109616  3727661374545790857     8.493987e+08         12147          -7505   \n",
       "109617  3727838256925064969     8.493987e+08         12137          -7544   \n",
       "109618  3727843063731949801     8.493987e+08         12126          -7583   \n",
       "109619  3727853163225616425     8.493987e+08         12115          -7625   \n",
       "\n",
       "        Sensor_Zenith  Sensor_Azimuth  Water_Vapor_Infrared  \\\n",
       "0                6534           -8952                 -9999   \n",
       "1                6472           -8980                 -9999   \n",
       "2                6411           -9008                 -9999   \n",
       "3                6351           -9034                 -9999   \n",
       "4                6291           -9059                 -9999   \n",
       "...               ...             ...                   ...   \n",
       "109615           6223            4800                 -9999   \n",
       "109616           6282            4772                 -9999   \n",
       "109617           6342            4743                 -9999   \n",
       "109618           6402            4714                 -9999   \n",
       "109619           6464            4682                 -9999   \n",
       "\n",
       "                 stare_hex  wiv0                  pod             pod_hex  \n",
       "0       0x3ba73f1d5162e4a9 -9999  4298439553720516615  0x3ba7200000000007  \n",
       "1       0x3ba730ee103253e9 -9999  4298439553720516615  0x3ba7200000000007  \n",
       "2       0x3ba3699789d0adc9 -9999  4297384022557851655  0x3ba3600000000007  \n",
       "3       0x3ba31437b15cedc9 -9999  4297278469441585159  0x3ba3000000000007  \n",
       "4       0x3ba30b446afb4dc9 -9999  4297278469441585159  0x3ba3000000000007  \n",
       "...                    ...   ...                  ...                 ...  \n",
       "109615  0x33bb673f5a0cf189 -9999  3727678669695483911  0x33bb600000000007  \n",
       "109616  0x33bb504528bf0789 -9999  3727643485323395079  0x33bb400000000007  \n",
       "109617  0x33bbf124cc213f09 -9999  3727819407183839239  0x33bbe00000000007  \n",
       "109618  0x33bbf583f82590e9 -9999  3727819407183839239  0x33bbe00000000007  \n",
       "109619  0x33bbfeb370e11029 -9999  3727819407183839239  0x33bbe00000000007  \n",
       "\n",
       "[109620 rows x 11 columns]"
      ]
     },
     "execution_count": 12,
     "metadata": {},
     "output_type": "execute_result"
    }
   ],
   "source": [
    "mod"
   ]
  },
  {
   "cell_type": "code",
   "execution_count": null,
   "id": "operating-ability",
   "metadata": {},
   "outputs": [],
   "source": [
    "granule_name=\"/home/jovyan/git/STAREPandas/starepandas/datasets/MOD05_L2.A2019336.0000.061.2019336211522.hdf\""
   ]
  },
  {
   "cell_type": "code",
   "execution_count": null,
   "id": "included-fortune",
   "metadata": {},
   "outputs": [],
   "source": [
    "mod = starepandas.read_granule(granule_name, sidecar=True, read_latlon=True)"
   ]
  },
  {
   "cell_type": "code",
   "execution_count": null,
   "id": "supported-return",
   "metadata": {},
   "outputs": [],
   "source": []
  },
  {
   "cell_type": "code",
   "execution_count": null,
   "id": "entertaining-breath",
   "metadata": {},
   "outputs": [],
   "source": [
    "ax = plt.axes(projection=ccrs.PlateCarree(),transform=ccrs.Geodetic())\n",
    "mod.set_trixels(mod.make_trixels(), inplace=True)\n",
    "mod.plot(ax=ax, trixels=True\n",
    "         ,boundary=False, column='Water_Vapor_Infrared', linewidth=0.2\n",
    "         ,transform=ccrs.Geodetic()\n",
    "         ,cmap='rainbow')\n",
    "\n",
    "del ax"
   ]
  },
  {
   "cell_type": "code",
   "execution_count": 13,
   "id": "interstate-shark",
   "metadata": {},
   "outputs": [
    {
     "data": {
      "image/png": "[encoded data removed]",
      "text/plain": [
       "<Figure size 900x600 with 1 Axes>"
      ]
     },
     "metadata": {
      "needs_background": "light"
     },
     "output_type": "display_data"
    }
   ],
   "source": [
    "ax = plt.axes(projection=ccrs.Mollweide(),transform=ccrs.Geodetic())\n",
    "if True:\n",
    "    mod.set_trixels(mod.make_trixels(), inplace=True)\n",
    "    mod.plot(ax=ax, trixels=True\n",
    "             ,boundary=False, column='wiv0', linewidth=0.2\n",
    "             ,transform=ccrs.Geodetic()\n",
    "             ,cmap='rainbow')\n",
    "ax.set_global()\n",
    "ax.coastlines()\n",
    "del ax"
   ]
  },
  {
   "cell_type": "code",
   "execution_count": 16,
   "id": "dependent-thursday",
   "metadata": {},
   "outputs": [],
   "source": [
    "from starepandas.io.granules import VIIRSL2\n",
    "\n",
    "class VNP03IMG(VIIRSL2):\n",
    "\n",
    "    def __init__(self, file_path, sidecar_path=None):\n",
    "        super().__init__(file_path, sidecar_path)\n",
    "\n",
    "    def read_data(self):\n",
    "        \"\"\"                                                                                                                                                                    \n",
    "        reads the data from a VNP03IMG granule into the self.data dictionary.                                                                                                  \n",
    "        Three variables are read:                                                                                                                                              \n",
    "                                                                                                                                                                               \n",
    "        a) moon_illumination_fraction                                                                                                                                          \n",
    "        b) land_water_mask                                                                                                                                                     \n",
    "        1: Shallow_Ocean 2: Land 3: Coastline 4: Shallow_Inland 5: Ephemeral 6: Deep_Inland 7: Continental 8: Deep_Ocean                                                       \n",
    "        c) quality_flag                                                                                                                                                        \n",
    "        1: Input_invalid 2: Pointing_bad 3: Terrain_bad                                                                                                                        \n",
    "        :return:                                                                                                                                                               \n",
    "        \"\"\"\n",
    "\n",
    "        group = self.netcdf.groups['geolocation_data']\n",
    "        self.data['land_water_mask'] = group['land_water_mask'][:].data\n",
    "        self.data['quality_flag'] = group['quality_flag'][:].data\n",
    "\n",
    "\n",
    "class VNP02IMG(VIIRSL2):\n",
    "\n",
    "    def __init__(self, file_path, sidecar_path=None):\n",
    "        super(VNP02IMG, self).__init__(file_path, sidecar_path)\n",
    "        self.companion_prefix = 'VNP03IMG'\n",
    "\n",
    "    def read_data(self):\n",
    "        for band in ['I04','I05']:\n",
    "            IMG = self.netcdf.groups['observation_data'][band][:].data\n",
    "            quality_flags = self.netcdf.groups['observation_data'][band+'_quality_flags'][:].data\n",
    "            \n",
    "            # TODO Do we need to allocate these first?\n",
    "            #\n",
    "            self.data[band+'_observations']  = IMG\n",
    "            self.data[band+'_quality_flags'] = quality_flags\n",
    "\n",
    "    def read_latlon(self):\n",
    "        pass\n",
    "\n",
    "    def read_sidecar_cover(self, sidecar_path=None):\n",
    "        pass\n",
    "\n",
    "    def read_sidecar_index(self, sidecar_path=None):\n",
    "        pass\n"
   ]
  },
  {
   "cell_type": "code",
   "execution_count": 17,
   "id": "derived-dakota",
   "metadata": {},
   "outputs": [
    {
     "data": {
      "text/plain": [
       "{'MOD05|MYD05': starepandas.io.granules.modis.Mod05,\n",
       " 'MOD09|MYD09': starepandas.io.granules.modis.Mod09,\n",
       " 'VNP02DNB|VJ102DNB': starepandas.io.granules.viirsl2.VNP02DNB,\n",
       " 'VNP03DNB|VJ103DNB': starepandas.io.granules.viirsl2.VNP03DNB,\n",
       " 'VNP03MOD|VJ103MOD': starepandas.io.granules.viirsl2.VNP03MOD,\n",
       " 'CLDMSKL2VIIRS': starepandas.io.granules.viirsl2.CLDMSKL2VIIRS,\n",
       " 'SSMIS': starepandas.io.granules.ssmis.SSMIS,\n",
       " 'ATMS': starepandas.io.granules.atms.ATMS,\n",
       " 'MODXX': __main__.ModXX,\n",
       " 'VNP02IMG': __main__.VNP02IMG,\n",
       " 'VNP03IMG': __main__.VNP03IMG}"
      ]
     },
     "execution_count": 17,
     "metadata": {},
     "output_type": "execute_result"
    }
   ],
   "source": [
    "starepandas.io.granules.granule_factory_library['VNP02IMG']=VNP02IMG\n",
    "starepandas.io.granules.granule_factory_library['VNP03IMG']=VNP03IMG\n",
    "\n",
    "starepandas.io.granules.granule_factory_library"
   ]
  },
  {
   "cell_type": "code",
   "execution_count": null,
   "id": "actual-dialogue",
   "metadata": {},
   "outputs": [],
   "source": []
  },
  {
   "cell_type": "code",
   "execution_count": null,
   "id": "sustainable-receipt",
   "metadata": {},
   "outputs": [],
   "source": []
  },
  {
   "cell_type": "code",
   "execution_count": 14,
   "id": "identical-folks",
   "metadata": {},
   "outputs": [],
   "source": []
  },
  {
   "cell_type": "code",
   "execution_count": 20,
   "id": "quiet-exclusive",
   "metadata": {},
   "outputs": [],
   "source": [
    "granule_name=\"/home/jovyan/efs/mrilee-tmp/VNP03IMG.A2021182.0000.001.2021182063427.nc\""
   ]
  },
  {
   "cell_type": "code",
   "execution_count": 21,
   "id": "reverse-basement",
   "metadata": {},
   "outputs": [],
   "source": [
    "vnp = starepandas.read_granule(granule_name, sidecar=False, read_latlon=True, add_stare=True)"
   ]
  },
  {
   "cell_type": "code",
   "execution_count": 23,
   "id": "defensive-inclusion",
   "metadata": {},
   "outputs": [],
   "source": [
    "vnp['stare_hex']=vnp['stare'].apply(hex)"
   ]
  },
  {
   "cell_type": "code",
   "execution_count": null,
   "id": "utility-violence",
   "metadata": {},
   "outputs": [],
   "source": [
    "vnp['pod']=vnp['stare'].apply(lambda sid: pystare.spatial_clear_to_resolution(pystare.spatial_coerce_resolution(sid,7)))"
   ]
  },
  {
   "cell_type": "code",
   "execution_count": null,
   "id": "massive-binary",
   "metadata": {},
   "outputs": [],
   "source": [
    "vnp['pod_hex']=vnp['pod'].apply(lambda sid: hex(sid))"
   ]
  },
  {
   "cell_type": "code",
   "execution_count": null,
   "id": "beautiful-tooth",
   "metadata": {},
   "outputs": [],
   "source": []
  },
  {
   "cell_type": "code",
   "execution_count": null,
   "id": "tired-aging",
   "metadata": {},
   "outputs": [],
   "source": []
  },
  {
   "cell_type": "code",
   "execution_count": null,
   "id": "fitted-qualification",
   "metadata": {},
   "outputs": [],
   "source": [
    "granule_name=\"/home/jovyan/efs/mrilee-tmp/VNP02IMG.A2021182.0000.001.2021182064359.nc\"\n",
    "vnp02 = starepandas.read_granule(granule_name, sidecar=False, read_latlon=False, add_stare=False)"
   ]
  }
 ],
 "metadata": {
  "kernelspec": {
   "display_name": "Python [conda env:work]",
   "language": "python",
   "name": "conda-env-work-py"
  },
  "language_info": {
   "codemirror_mode": {
    "name": "ipython",
    "version": 3
   },
   "file_extension": ".py",
   "mimetype": "text/x-python",
   "name": "python",
   "nbconvert_exporter": "python",
   "pygments_lexer": "ipython3",
   "version": "3.9.4"
  }
 },
 "nbformat": 4,
 "nbformat_minor": 5
}
