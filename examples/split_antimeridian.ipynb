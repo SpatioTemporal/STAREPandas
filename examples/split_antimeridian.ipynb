{
 "cells": [
  {
   "cell_type": "code",
   "execution_count": null,
   "id": "87e75598-9ae9-4c9d-ab2b-7d667a1256fa",
   "metadata": {},
   "outputs": [],
   "source": [
    "%matplotlib widget\n",
    "import geopandas\n",
    "import pandas\n",
    "import starepandas\n",
    "import pystare\n",
    "import shapely\n",
    "import matplotlib.pyplot as plt\n",
    "import plots\n",
    "import numpy"
   ]
  },
  {
   "cell_type": "code",
   "execution_count": null,
   "id": "787861b0-5a11-466c-83c3-1cc37a1a6126",
   "metadata": {},
   "outputs": [],
   "source": [
    "starepandas.__version__"
   ]
  },
  {
   "cell_type": "code",
   "execution_count": null,
   "id": "f0fc926a-1e40-49ef-9a9e-218ed75432ed",
   "metadata": {},
   "outputs": [],
   "source": [
    "cities = {'name': ['midway', 'Fiji', 'Baker', 'honolulu'],\n",
    "          'lat': [28.2, -17.8,  0.2, 21.3282956], \n",
    "          'lon': [-177.35, 178.1, -176.7, -157.9]}\n",
    "                   \n",
    "cities = starepandas.STAREDataFrame(cities)\n",
    "sids = starepandas.sids_from_xy(cities.lon, cities.lat, resolution=1)\n",
    "cities.set_sids(sids, inplace=True)\n",
    "trixels = cities.make_trixels(wrap_lon=False)\n",
    "cities.set_trixels(trixels, inplace=True)"
   ]
  },
  {
   "cell_type": "code",
   "execution_count": null,
   "id": "af5341b4-e9bf-4a23-915f-ae2162341ef2",
   "metadata": {},
   "outputs": [],
   "source": [
    "fig, ax = plt.subplots(dpi=100)\n",
    "ax.grid(True)\n",
    "\n",
    "antimeridian = shapely.geometry.LineString([(180,-90), (180,90)])\n",
    "\n",
    "ax.plot(*antimeridian.xy, color='red')\n",
    "ax.set_ylim(-90,90)\n",
    "ax.set_xlim(90,270)\n",
    "\n",
    "cities.plot(ax=ax, column='name')"
   ]
  },
  {
   "cell_type": "markdown",
   "id": "b9818476-44bd-4028-9172-ae8dd5b8ab53",
   "metadata": {},
   "source": [
    "## Multipolygon"
   ]
  },
  {
   "cell_type": "code",
   "execution_count": null,
   "id": "e4b278c4-a0a5-430a-a2a7-4f2903a78d32",
   "metadata": {},
   "outputs": [],
   "source": [
    "combined = starepandas.STAREDataFrame(sids=[sids, sids])\n",
    "trixels = combined.make_trixels(wrap_lon=False)\n",
    "combined.set_trixels(trixels, inplace=True)"
   ]
  },
  {
   "cell_type": "markdown",
   "id": "fdc21a4e-fc9a-4134-9faa-5c6e5a08aca3",
   "metadata": {},
   "source": [
    "# Algorithm"
   ]
  },
  {
   "cell_type": "code",
   "execution_count": null,
   "id": "d5fb6ed9-01aa-41ae-a4a2-740a9d33eebb",
   "metadata": {},
   "outputs": [],
   "source": [
    "bbox = shapely.geometry.Polygon([(-180, -90), (180, -90), (180, 90), (-180, 90)])"
   ]
  },
  {
   "cell_type": "code",
   "execution_count": null,
   "id": "99e49f71-e6dd-4ed3-a89e-8dff3f7c380c",
   "metadata": {},
   "outputs": [],
   "source": [
    "trixels = geopandas.GeoSeries(combined[combined._trixel_column_name])"
   ]
  },
  {
   "cell_type": "code",
   "execution_count": null,
   "id": "8a3663bb-dada-412e-964b-7734a6398f56",
   "metadata": {},
   "outputs": [],
   "source": [
    "def split(trixels):\n",
    "    bbox = shapely.geometry.Polygon([(-180, -90), (180, -90), (180, 90), (-180, 90)])\n",
    "\n",
    "    trixels = geopandas.GeoSeries(trixels)\n",
    "\n",
    "    inside = trixels.explode(index_parts=True).reset_index(drop=True)\n",
    "    inside = inside.intersection(bbox)\n",
    "    inside = geopandas.tools.collect(inside)\n",
    "\n",
    "    outside = trixels.explode(index_parts=True).reset_index(drop=True)\n",
    "    outside = outside.difference(bbox)\n",
    "    outside = outside.apply(lambda x: shapely.affinity.translate(x, xoff=-360))\n",
    "    outside = geopandas.tools.collect(outside)\n",
    "\n",
    "    split = inside.union(outside)\n",
    "    return split"
   ]
  },
  {
   "cell_type": "markdown",
   "id": "d6ce2a4d-393f-4a72-b4ff-eff2ca3458e9",
   "metadata": {},
   "source": [
    "# Usage"
   ]
  },
  {
   "cell_type": "code",
   "execution_count": null,
   "id": "259049c7-970e-4e0d-9243-7fb15769a7a4",
   "metadata": {},
   "outputs": [],
   "source": [
    "fig, ax = plt.subplots(dpi=100)\n",
    "ax.grid(True)\n",
    "\n",
    "ax.set_ylim(-90,90)\n",
    "ax.set_xlim(-190,190)\n",
    "\n",
    "cities.split_antimeridian(inplace=True)\n",
    "\n",
    "cities.plot(ax=ax, column='name')"
   ]
  },
  {
   "cell_type": "code",
   "execution_count": null,
   "id": "c6799ae3-e0f3-4522-847e-1485c76136fd",
   "metadata": {},
   "outputs": [],
   "source": [
    "fig, ax = plt.subplots(dpi=100)\n",
    "ax.grid(True)\n",
    "\n",
    "ax.set_ylim(-90, 90)\n",
    "ax.set_xlim(-190, 190)\n",
    "\n",
    "combined.split_antimeridian(inplace=True)\n",
    "#combined.trixels.explode(index_parts=True).reset_index(drop=True)\n",
    "\n",
    "\n",
    "combined.plot(ax=ax)"
   ]
  },
  {
   "cell_type": "code",
   "execution_count": null,
   "id": "e6c2515a-ca45-47bf-bb36-703d8e5dbcb0",
   "metadata": {},
   "outputs": [],
   "source": [
    "cities.trixels[0].geoms[1].exterior.xy"
   ]
  },
  {
   "cell_type": "code",
   "execution_count": null,
   "id": "48e48cb9-8c64-4c6a-ba4c-e4bb74b3626c",
   "metadata": {},
   "outputs": [],
   "source": [
    "cities = {'name': ['a', 'b'],\n",
    "          'lat': [-50, 50], \n",
    "          'lon': [60, -360]}\n",
    "\n",
    "cities = starepandas.STAREDataFrame(cities)\n",
    "sids = starepandas.sids_from_xy(cities.lon, cities.lat, resolution=1)\n",
    "cities.set_sids(sids, inplace=True)\n",
    "#trixels = cities.make_trixels(wrap_lon=True, wrap_thresh=180)\n",
    "trixels = cities.make_trixels(wrap_lon=False)\n",
    "cities.set_trixels(trixels, inplace=True)\n",
    "#cities.split_antimeridian(inplace=True)"
   ]
  },
  {
   "cell_type": "code",
   "execution_count": null,
   "id": "21d12463-4195-4a06-91f2-75015ba98411",
   "metadata": {},
   "outputs": [],
   "source": [
    "fig, ax = plt.subplots(dpi=100)\n",
    "ax.grid(True)\n",
    "\n",
    "antimeridian = shapely.geometry.LineString([(180,-90), (180, 90)])\n",
    "\n",
    "#ax.plot(*antimeridian.xy, color='red')\n",
    "#ax.set_ylim(-90,90)\n",
    "#ax.set_xlim(90,270)\n",
    "\n",
    "cities.plot(ax=ax, column='name')"
   ]
  },
  {
   "cell_type": "code",
   "execution_count": null,
   "id": "6be793cd-b64a-4043-9c09-da4b419f0410",
   "metadata": {},
   "outputs": [],
   "source": [
    "cities\n",
    "for i, v in cities.iterrows():    \n",
    "    g = v.trixels\n",
    "    if not g.exterior.is_ccw:\n",
    "        print(i)\n",
    "        x = (numpy.array(g.exterior.xy[0]) + 180) % 360.0 - 180\n",
    "        y = g.exterior.xy[1]\n",
    "        cities.trixels[i] = shapely.geometry.Polygon(zip(x,y))"
   ]
  },
  {
   "cell_type": "code",
   "execution_count": null,
   "id": "c632c3e9-5007-4f5f-b273-602a5679ec67",
   "metadata": {},
   "outputs": [],
   "source": [
    "for i, geom in cities.set_geometry('trixels').geometry.iteritems():\n",
    "    print(i)"
   ]
  },
  {
   "cell_type": "code",
   "execution_count": null,
   "id": "03bc93cb-97d7-47e7-92dd-ca692f26c7a7",
   "metadata": {},
   "outputs": [],
   "source": [
    "vs = starepandas.to_vertices(sids, wrap_lon=False, wrap_thresh=270)\n",
    "v1 = numpy.array([vs[0][1]-vs[0][0], vs[1][1]-vs[1][0]])\n",
    "v2 = numpy.array([vs[0][2]-vs[0][0], vs[1][2]-vs[1][0]])\n",
    "numpy.cross(v1,v2) > 0"
   ]
  },
  {
   "cell_type": "code",
   "execution_count": null,
   "id": "b1072fea-7c33-43a2-9b02-6109f5d03a0e",
   "metadata": {},
   "outputs": [],
   "source": [
    "lats = vs[0]\n",
    "lons = vs[1]\n",
    "lons"
   ]
  },
  {
   "cell_type": "code",
   "execution_count": null,
   "id": "ce9bdc32-310a-463d-8d71-fd6ece7b28c2",
   "metadata": {},
   "outputs": [],
   "source": [
    "vs"
   ]
  },
  {
   "cell_type": "code",
   "execution_count": null,
   "id": "92c49949-bfeb-4bd0-b69b-30dc5b707d88",
   "metadata": {},
   "outputs": [],
   "source": [
    "corners = starepandas.vertices2corners(vs)\n",
    "corners"
   ]
  },
  {
   "cell_type": "code",
   "execution_count": null,
   "id": "d0388d40-75b8-4cb0-8516-8ac2d6d5c661",
   "metadata": {},
   "outputs": [],
   "source": [
    "v1 = numpy.array([corners[:,1,0] - corners[:,0,0], corners[:,1,1] - corners[:,0,1]])\n",
    "v2 = numpy.array([corners[:,2,0] - corners[:,0,0], corners[:,2,1] - corners[:,0,1]])\n",
    "numpy.cross(v1,v2) >1"
   ]
  },
  {
   "cell_type": "code",
   "execution_count": null,
   "id": "0cf7cfec-1e6c-4deb-a86f-ed60f2da34b1",
   "metadata": {},
   "outputs": [],
   "source": [
    "corners"
   ]
  }
 ],
 "metadata": {
  "kernelspec": {
   "display_name": "Python 3 (ipykernel)",
   "language": "python",
   "name": "python3"
  },
  "language_info": {
   "codemirror_mode": {
    "name": "ipython",
    "version": 3
   },
   "file_extension": ".py",
   "mimetype": "text/x-python",
   "name": "python",
   "nbconvert_exporter": "python",
   "pygments_lexer": "ipython3",
   "version": "3.8.10"
  }
 },
 "nbformat": 4,
 "nbformat_minor": 5
}
