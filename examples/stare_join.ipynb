{
 "cells": [
  {
   "cell_type": "code",
   "execution_count": 1,
   "metadata": {},
   "outputs": [],
   "source": [
    "import starepandas\n",
    "import geopandas\n",
    "import pandas\n",
    "import datetime\n",
    "import matplotlib.pyplot as plt"
   ]
  },
  {
   "cell_type": "code",
   "execution_count": 2,
   "metadata": {},
   "outputs": [],
   "source": [
    "cities = ['Buenos Aires', 'Brasilia', 'Santiago', \n",
    "          'Bogota', 'Caracas', 'Sao Paulo', 'Bridgetown']\n",
    "\n",
    "latitudes = [-34.58, -15.78, -33.45, 4.60, 10.48, -23.55, 13.1]\n",
    "longitudes = [-58.66, -47.91, -70.66, -74.08, -66.86, -46.63, -59.62]\n",
    "data =  {'City': cities, \n",
    "         'Latitude': latitudes, 'Longitude': longitudes}\n",
    "\n",
    "cities = starepandas.STAREDataFrame(data)\n",
    "stare = starepandas.stare_from_xy(cities.Longitude, cities.Latitude, level=27)\n",
    "geom = geopandas.points_from_xy(cities.Longitude, cities.Latitude, crs='EPSG:4326')\n",
    "cities.set_stare(stare, inplace=True)\n",
    "cities.set_geometry(geom, inplace=True)\n",
    "cities.set_trixels(inplace=True)"
   ]
  },
  {
   "cell_type": "code",
   "execution_count": 3,
   "metadata": {},
   "outputs": [],
   "source": [
    "countries = geopandas.read_file(geopandas.datasets.get_path('naturalearth_lowres'))\n",
    "countries = countries.sort_values(by='name')\n",
    "countries['geom_simple'] = countries.simplify(0.002)\n",
    "countries.set_geometry('geom_simple', inplace=True)\n",
    "samerica = countries[countries.continent=='South America']\n",
    "\n",
    "stare = starepandas.stare_from_gdf(samerica, level=9, force_ccw=True)\n",
    "samerica = starepandas.STAREDataFrame(samerica, stare=stare)\n",
    "trixels = samerica.trixels()\n",
    "samerica.set_trixels(trixels, inplace=True)"
   ]
  },
  {
   "cell_type": "markdown",
   "metadata": {},
   "source": [
    "# Small Join"
   ]
  },
  {
   "cell_type": "code",
   "execution_count": 4,
   "metadata": {},
   "outputs": [
    {
     "data": {
      "text/html": [
       "<div>\n",
       "<style scoped>\n",
       "    .dataframe tbody tr th:only-of-type {\n",
       "        vertical-align: middle;\n",
       "    }\n",
       "\n",
       "    .dataframe tbody tr th {\n",
       "        vertical-align: top;\n",
       "    }\n",
       "\n",
       "    .dataframe thead th {\n",
       "        text-align: right;\n",
       "    }\n",
       "</style>\n",
       "<table border=\"1\" class=\"dataframe\">\n",
       "  <thead>\n",
       "    <tr style=\"text-align: right;\">\n",
       "      <th></th>\n",
       "      <th>pop_est</th>\n",
       "      <th>continent</th>\n",
       "      <th>name</th>\n",
       "      <th>iso_a3</th>\n",
       "      <th>gdp_md_est</th>\n",
       "      <th>geometry</th>\n",
       "      <th>geom_simple</th>\n",
       "      <th>stare_left</th>\n",
       "      <th>trixels_left</th>\n",
       "      <th>index_right</th>\n",
       "      <th>City</th>\n",
       "      <th>Latitude</th>\n",
       "      <th>Longitude</th>\n",
       "      <th>stare_right</th>\n",
       "      <th>trixels_right</th>\n",
       "    </tr>\n",
       "  </thead>\n",
       "  <tbody>\n",
       "    <tr>\n",
       "      <th>9</th>\n",
       "      <td>44293293</td>\n",
       "      <td>South America</td>\n",
       "      <td>Argentina</td>\n",
       "      <td>ARG</td>\n",
       "      <td>879400.0</td>\n",
       "      <td>MULTIPOLYGON (((-68.63401 -52.63637, -68.25000...</td>\n",
       "      <td>MULTIPOLYGON (((-68.63401 -52.63637, -68.25000...</td>\n",
       "      <td>[1831909517177126920, 1831927109363171336, 183...</td>\n",
       "      <td>(POLYGON ((-67.84209847159167 -53.768136050714...</td>\n",
       "      <td>0.0</td>\n",
       "      <td>Buenos Aires</td>\n",
       "      <td>-34.58</td>\n",
       "      <td>-58.66</td>\n",
       "      <td>2.663379e+18</td>\n",
       "      <td>POLYGON ((-58.65999966200309 -34.5800001759415...</td>\n",
       "    </tr>\n",
       "    <tr>\n",
       "      <th>30</th>\n",
       "      <td>11138234</td>\n",
       "      <td>South America</td>\n",
       "      <td>Bolivia</td>\n",
       "      <td>BOL</td>\n",
       "      <td>78350.0</td>\n",
       "      <td>POLYGON ((-69.52968 -10.95173, -68.78616 -11.0...</td>\n",
       "      <td>POLYGON ((-69.52968 -10.95173, -68.78616 -11.0...</td>\n",
       "      <td>[2684145377912815620, 2692026677260713989, 270...</td>\n",
       "      <td>(POLYGON ((-62.76427600784291 -18.886669386799...</td>\n",
       "      <td>NaN</td>\n",
       "      <td>NaN</td>\n",
       "      <td>NaN</td>\n",
       "      <td>NaN</td>\n",
       "      <td>NaN</td>\n",
       "      <td>NaN</td>\n",
       "    </tr>\n",
       "    <tr>\n",
       "      <th>29</th>\n",
       "      <td>207353391</td>\n",
       "      <td>South America</td>\n",
       "      <td>Brazil</td>\n",
       "      <td>BRA</td>\n",
       "      <td>3081000.0</td>\n",
       "      <td>POLYGON ((-53.37366 -33.76838, -53.65054 -33.2...</td>\n",
       "      <td>POLYGON ((-53.37366 -33.76838, -53.65054 -33.2...</td>\n",
       "      <td>[2749447572509687812, 2796735368597078020, 286...</td>\n",
       "      <td>(POLYGON ((-53.69933849725345 -4.6308011280983...</td>\n",
       "      <td>1.0</td>\n",
       "      <td>Brasilia</td>\n",
       "      <td>-15.78</td>\n",
       "      <td>-47.91</td>\n",
       "      <td>2.867415e+18</td>\n",
       "      <td>POLYGON ((-47.90999951241486 -15.7799995312697...</td>\n",
       "    </tr>\n",
       "    <tr>\n",
       "      <th>29</th>\n",
       "      <td>207353391</td>\n",
       "      <td>South America</td>\n",
       "      <td>Brazil</td>\n",
       "      <td>BRA</td>\n",
       "      <td>3081000.0</td>\n",
       "      <td>POLYGON ((-53.37366 -33.76838, -53.65054 -33.2...</td>\n",
       "      <td>POLYGON ((-53.37366 -33.76838, -53.65054 -33.2...</td>\n",
       "      <td>[2749447572509687812, 2796735368597078020, 286...</td>\n",
       "      <td>(POLYGON ((-53.69933849725345 -4.6308011280983...</td>\n",
       "      <td>5.0</td>\n",
       "      <td>Sao Paulo</td>\n",
       "      <td>-23.55</td>\n",
       "      <td>-46.63</td>\n",
       "      <td>2.803226e+18</td>\n",
       "      <td>POLYGON ((-46.62999963470963 -23.5500000219939...</td>\n",
       "    </tr>\n",
       "    <tr>\n",
       "      <th>10</th>\n",
       "      <td>17789267</td>\n",
       "      <td>South America</td>\n",
       "      <td>Chile</td>\n",
       "      <td>CHL</td>\n",
       "      <td>436100.0</td>\n",
       "      <td>MULTIPOLYGON (((-68.63401 -52.63637, -68.63335...</td>\n",
       "      <td>MULTIPOLYGON (((-68.63401 -52.63637, -68.63335...</td>\n",
       "      <td>[1829024398665842695, 1831839148432949255, 183...</td>\n",
       "      <td>(POLYGON ((-70.49911208115833 -54.876220492643...</td>\n",
       "      <td>2.0</td>\n",
       "      <td>Santiago</td>\n",
       "      <td>-33.45</td>\n",
       "      <td>-70.66</td>\n",
       "      <td>2.723775e+18</td>\n",
       "      <td>POLYGON ((-70.66000060651589 -33.4499996318796...</td>\n",
       "    </tr>\n",
       "  </tbody>\n",
       "</table>\n",
       "</div>"
      ],
      "text/plain": [
       "      pop_est      continent       name iso_a3  gdp_md_est  \\\n",
       "9    44293293  South America  Argentina    ARG    879400.0   \n",
       "30   11138234  South America    Bolivia    BOL     78350.0   \n",
       "29  207353391  South America     Brazil    BRA   3081000.0   \n",
       "29  207353391  South America     Brazil    BRA   3081000.0   \n",
       "10   17789267  South America      Chile    CHL    436100.0   \n",
       "\n",
       "                                             geometry  \\\n",
       "9   MULTIPOLYGON (((-68.63401 -52.63637, -68.25000...   \n",
       "30  POLYGON ((-69.52968 -10.95173, -68.78616 -11.0...   \n",
       "29  POLYGON ((-53.37366 -33.76838, -53.65054 -33.2...   \n",
       "29  POLYGON ((-53.37366 -33.76838, -53.65054 -33.2...   \n",
       "10  MULTIPOLYGON (((-68.63401 -52.63637, -68.63335...   \n",
       "\n",
       "                                          geom_simple  \\\n",
       "9   MULTIPOLYGON (((-68.63401 -52.63637, -68.25000...   \n",
       "30  POLYGON ((-69.52968 -10.95173, -68.78616 -11.0...   \n",
       "29  POLYGON ((-53.37366 -33.76838, -53.65054 -33.2...   \n",
       "29  POLYGON ((-53.37366 -33.76838, -53.65054 -33.2...   \n",
       "10  MULTIPOLYGON (((-68.63401 -52.63637, -68.63335...   \n",
       "\n",
       "                                           stare_left  \\\n",
       "9   [1831909517177126920, 1831927109363171336, 183...   \n",
       "30  [2684145377912815620, 2692026677260713989, 270...   \n",
       "29  [2749447572509687812, 2796735368597078020, 286...   \n",
       "29  [2749447572509687812, 2796735368597078020, 286...   \n",
       "10  [1829024398665842695, 1831839148432949255, 183...   \n",
       "\n",
       "                                         trixels_left  index_right  \\\n",
       "9   (POLYGON ((-67.84209847159167 -53.768136050714...          0.0   \n",
       "30  (POLYGON ((-62.76427600784291 -18.886669386799...          NaN   \n",
       "29  (POLYGON ((-53.69933849725345 -4.6308011280983...          1.0   \n",
       "29  (POLYGON ((-53.69933849725345 -4.6308011280983...          5.0   \n",
       "10  (POLYGON ((-70.49911208115833 -54.876220492643...          2.0   \n",
       "\n",
       "            City  Latitude  Longitude   stare_right  \\\n",
       "9   Buenos Aires    -34.58     -58.66  2.663379e+18   \n",
       "30           NaN       NaN        NaN           NaN   \n",
       "29      Brasilia    -15.78     -47.91  2.867415e+18   \n",
       "29     Sao Paulo    -23.55     -46.63  2.803226e+18   \n",
       "10      Santiago    -33.45     -70.66  2.723775e+18   \n",
       "\n",
       "                                        trixels_right  \n",
       "9   POLYGON ((-58.65999966200309 -34.5800001759415...  \n",
       "30                                                NaN  \n",
       "29  POLYGON ((-47.90999951241486 -15.7799995312697...  \n",
       "29  POLYGON ((-46.62999963470963 -23.5500000219939...  \n",
       "10  POLYGON ((-70.66000060651589 -33.4499996318796...  "
      ]
     },
     "execution_count": 4,
     "metadata": {},
     "output_type": "execute_result"
    }
   ],
   "source": [
    "geopandas.sjoin(samerica, cities, how='left').head()"
   ]
  },
  {
   "cell_type": "code",
   "execution_count": 5,
   "metadata": {},
   "outputs": [
    {
     "data": {
      "text/html": [
       "<div>\n",
       "<style scoped>\n",
       "    .dataframe tbody tr th:only-of-type {\n",
       "        vertical-align: middle;\n",
       "    }\n",
       "\n",
       "    .dataframe tbody tr th {\n",
       "        vertical-align: top;\n",
       "    }\n",
       "\n",
       "    .dataframe thead th {\n",
       "        text-align: right;\n",
       "    }\n",
       "</style>\n",
       "<table border=\"1\" class=\"dataframe\">\n",
       "  <thead>\n",
       "    <tr style=\"text-align: right;\">\n",
       "      <th></th>\n",
       "      <th>pop_est</th>\n",
       "      <th>continent</th>\n",
       "      <th>name</th>\n",
       "      <th>iso_a3</th>\n",
       "      <th>gdp_md_est</th>\n",
       "      <th>geometry</th>\n",
       "      <th>geom_simple</th>\n",
       "      <th>stare_left</th>\n",
       "      <th>trixels_left</th>\n",
       "      <th>key_right</th>\n",
       "      <th>City</th>\n",
       "      <th>Latitude</th>\n",
       "      <th>Longitude</th>\n",
       "      <th>stare_right</th>\n",
       "      <th>trixels_right</th>\n",
       "    </tr>\n",
       "  </thead>\n",
       "  <tbody>\n",
       "    <tr>\n",
       "      <th>9</th>\n",
       "      <td>44293293</td>\n",
       "      <td>South America</td>\n",
       "      <td>Argentina</td>\n",
       "      <td>ARG</td>\n",
       "      <td>879400.0</td>\n",
       "      <td>MULTIPOLYGON (((-68.63401 -52.63637, -68.25000...</td>\n",
       "      <td>MULTIPOLYGON (((-68.63401 -52.63637, -68.25000...</td>\n",
       "      <td>[1831909517177126920, 1831927109363171336, 183...</td>\n",
       "      <td>(POLYGON ((-67.84209847159167 -53.768136050714...</td>\n",
       "      <td>0.0</td>\n",
       "      <td>Buenos Aires</td>\n",
       "      <td>-34.58</td>\n",
       "      <td>-58.66</td>\n",
       "      <td>2.663379e+18</td>\n",
       "      <td>POLYGON ((-58.65999966200309 -34.5800001759415...</td>\n",
       "    </tr>\n",
       "    <tr>\n",
       "      <th>10</th>\n",
       "      <td>17789267</td>\n",
       "      <td>South America</td>\n",
       "      <td>Chile</td>\n",
       "      <td>CHL</td>\n",
       "      <td>436100.0</td>\n",
       "      <td>MULTIPOLYGON (((-68.63401 -52.63637, -68.63335...</td>\n",
       "      <td>MULTIPOLYGON (((-68.63401 -52.63637, -68.63335...</td>\n",
       "      <td>[1829024398665842695, 1831839148432949255, 183...</td>\n",
       "      <td>(POLYGON ((-70.49911208115833 -54.876220492643...</td>\n",
       "      <td>2.0</td>\n",
       "      <td>Santiago</td>\n",
       "      <td>-33.45</td>\n",
       "      <td>-70.66</td>\n",
       "      <td>2.723775e+18</td>\n",
       "      <td>POLYGON ((-70.66000060651589 -33.4499996318796...</td>\n",
       "    </tr>\n",
       "    <tr>\n",
       "      <th>20</th>\n",
       "      <td>2931</td>\n",
       "      <td>South America</td>\n",
       "      <td>Falkland Is.</td>\n",
       "      <td>FLK</td>\n",
       "      <td>281.8</td>\n",
       "      <td>POLYGON ((-61.20000 -51.85000, -60.00000 -51.2...</td>\n",
       "      <td>POLYGON ((-61.20000 -51.85000, -60.00000 -51.2...</td>\n",
       "      <td>[1807104534854500361, 1807106733877755913, 180...</td>\n",
       "      <td>(POLYGON ((-58.42519374161117 -51.947634567869...</td>\n",
       "      <td>NaN</td>\n",
       "      <td>NaN</td>\n",
       "      <td>NaN</td>\n",
       "      <td>NaN</td>\n",
       "      <td>NaN</td>\n",
       "      <td>NaN</td>\n",
       "    </tr>\n",
       "    <tr>\n",
       "      <th>28</th>\n",
       "      <td>3360148</td>\n",
       "      <td>South America</td>\n",
       "      <td>Uruguay</td>\n",
       "      <td>URY</td>\n",
       "      <td>73250.0</td>\n",
       "      <td>POLYGON ((-57.62513 -30.21629, -56.97603 -30.1...</td>\n",
       "      <td>POLYGON ((-57.62513 -30.21629, -56.97603 -30.1...</td>\n",
       "      <td>[2632353982198054918, 2632499117732921353, 263...</td>\n",
       "      <td>(POLYGON ((-55.17661686795088 -32.247895158077...</td>\n",
       "      <td>NaN</td>\n",
       "      <td>NaN</td>\n",
       "      <td>NaN</td>\n",
       "      <td>NaN</td>\n",
       "      <td>NaN</td>\n",
       "      <td>NaN</td>\n",
       "    </tr>\n",
       "    <tr>\n",
       "      <th>29</th>\n",
       "      <td>207353391</td>\n",
       "      <td>South America</td>\n",
       "      <td>Brazil</td>\n",
       "      <td>BRA</td>\n",
       "      <td>3081000.0</td>\n",
       "      <td>POLYGON ((-53.37366 -33.76838, -53.65054 -33.2...</td>\n",
       "      <td>POLYGON ((-53.37366 -33.76838, -53.65054 -33.2...</td>\n",
       "      <td>[2643648165638569993, 2643771310940880905, 264...</td>\n",
       "      <td>(POLYGON ((-53.69933849725345 -4.6308011280983...</td>\n",
       "      <td>1.0</td>\n",
       "      <td>Brasilia</td>\n",
       "      <td>-15.78</td>\n",
       "      <td>-47.91</td>\n",
       "      <td>2.867415e+18</td>\n",
       "      <td>POLYGON ((-47.90999951241486 -15.7799995312697...</td>\n",
       "    </tr>\n",
       "  </tbody>\n",
       "</table>\n",
       "</div>"
      ],
      "text/plain": [
       "      pop_est      continent          name iso_a3  gdp_md_est  \\\n",
       "9    44293293  South America     Argentina    ARG    879400.0   \n",
       "10   17789267  South America         Chile    CHL    436100.0   \n",
       "20       2931  South America  Falkland Is.    FLK       281.8   \n",
       "28    3360148  South America       Uruguay    URY     73250.0   \n",
       "29  207353391  South America        Brazil    BRA   3081000.0   \n",
       "\n",
       "                                             geometry  \\\n",
       "9   MULTIPOLYGON (((-68.63401 -52.63637, -68.25000...   \n",
       "10  MULTIPOLYGON (((-68.63401 -52.63637, -68.63335...   \n",
       "20  POLYGON ((-61.20000 -51.85000, -60.00000 -51.2...   \n",
       "28  POLYGON ((-57.62513 -30.21629, -56.97603 -30.1...   \n",
       "29  POLYGON ((-53.37366 -33.76838, -53.65054 -33.2...   \n",
       "\n",
       "                                          geom_simple  \\\n",
       "9   MULTIPOLYGON (((-68.63401 -52.63637, -68.25000...   \n",
       "10  MULTIPOLYGON (((-68.63401 -52.63637, -68.63335...   \n",
       "20  POLYGON ((-61.20000 -51.85000, -60.00000 -51.2...   \n",
       "28  POLYGON ((-57.62513 -30.21629, -56.97603 -30.1...   \n",
       "29  POLYGON ((-53.37366 -33.76838, -53.65054 -33.2...   \n",
       "\n",
       "                                           stare_left  \\\n",
       "9   [1831909517177126920, 1831927109363171336, 183...   \n",
       "10  [1829024398665842695, 1831839148432949255, 183...   \n",
       "20  [1807104534854500361, 1807106733877755913, 180...   \n",
       "28  [2632353982198054918, 2632499117732921353, 263...   \n",
       "29  [2643648165638569993, 2643771310940880905, 264...   \n",
       "\n",
       "                                         trixels_left  key_right  \\\n",
       "9   (POLYGON ((-67.84209847159167 -53.768136050714...        0.0   \n",
       "10  (POLYGON ((-70.49911208115833 -54.876220492643...        2.0   \n",
       "20  (POLYGON ((-58.42519374161117 -51.947634567869...        NaN   \n",
       "28  (POLYGON ((-55.17661686795088 -32.247895158077...        NaN   \n",
       "29  (POLYGON ((-53.69933849725345 -4.6308011280983...        1.0   \n",
       "\n",
       "            City  Latitude  Longitude   stare_right  \\\n",
       "9   Buenos Aires    -34.58     -58.66  2.663379e+18   \n",
       "10      Santiago    -33.45     -70.66  2.723775e+18   \n",
       "20           NaN       NaN        NaN           NaN   \n",
       "28           NaN       NaN        NaN           NaN   \n",
       "29      Brasilia    -15.78     -47.91  2.867415e+18   \n",
       "\n",
       "                                        trixels_right  \n",
       "9   POLYGON ((-58.65999966200309 -34.5800001759415...  \n",
       "10  POLYGON ((-70.66000060651589 -33.4499996318796...  \n",
       "20                                                NaN  \n",
       "28                                                NaN  \n",
       "29  POLYGON ((-47.90999951241486 -15.7799995312697...  "
      ]
     },
     "execution_count": 5,
     "metadata": {},
     "output_type": "execute_result"
    }
   ],
   "source": [
    "starepandas.stare_join(samerica, cities, how='left').head()"
   ]
  },
  {
   "cell_type": "markdown",
   "metadata": {},
   "source": [
    "# Granule Intersect"
   ]
  },
  {
   "cell_type": "code",
   "execution_count": 8,
   "metadata": {},
   "outputs": [],
   "source": [
    "fname = 'data/MYD05_L2.A2020060.1635.061.2020061153519.hdf'"
   ]
  },
  {
   "cell_type": "code",
   "execution_count": 9,
   "metadata": {},
   "outputs": [
    {
     "name": "stdout",
     "output_type": "stream",
     "text": [
      "0:00:02.828425\n"
     ]
    }
   ],
   "source": [
    "# Reading and bootstraping\n",
    "start = datetime.datetime.now()\n",
    "modis = starepandas.read_granule(fname,\n",
    "                                    add_stare=True,\n",
    "                                    adapt_resolution=True,\n",
    "                                    track_first=False)\n",
    "print(datetime.datetime.now() - start)"
   ]
  },
  {
   "cell_type": "code",
   "execution_count": 12,
   "metadata": {},
   "outputs": [],
   "source": [
    "# Adding Trixels\n",
    "trixels = modis.trixels()\n",
    "modis.set_trixels(trixels=trixels, inplace=True)"
   ]
  },
  {
   "cell_type": "code",
   "execution_count": 13,
   "metadata": {},
   "outputs": [],
   "source": [
    "# Adding Simple Feauture Representations\n",
    "geom = geopandas.points_from_xy(modis.lon, modis.lat, crs='EPSG:4326')\n",
    "modis.set_geometry(geom, inplace=True)"
   ]
  },
  {
   "cell_type": "code",
   "execution_count": 14,
   "metadata": {},
   "outputs": [],
   "source": [
    "brazil = samerica[samerica.name=='Brazil']"
   ]
  },
  {
   "cell_type": "markdown",
   "metadata": {},
   "source": [
    "## STARE based intersects test"
   ]
  },
  {
   "cell_type": "code",
   "execution_count": 15,
   "metadata": {},
   "outputs": [
    {
     "name": "stdout",
     "output_type": "stream",
     "text": [
      "0:00:33.171875\n"
     ]
    }
   ],
   "source": [
    "start = datetime.datetime.now()\n",
    "b = modis.intersects(brazil.iloc[0].geometry)\n",
    "print(datetime.datetime.now() - start)"
   ]
  },
  {
   "cell_type": "markdown",
   "metadata": {},
   "source": [
    "## GEOS based intersects test"
   ]
  },
  {
   "cell_type": "code",
   "execution_count": 16,
   "metadata": {},
   "outputs": [
    {
     "name": "stdout",
     "output_type": "stream",
     "text": [
      "0:00:00.191631\n"
     ]
    }
   ],
   "source": [
    "start = datetime.datetime.now()\n",
    "a = modis.stare_intersects(brazil.stare.iloc[0])\n",
    "print(datetime.datetime.now() - start)"
   ]
  },
  {
   "cell_type": "markdown",
   "metadata": {},
   "source": [
    "# Analysis"
   ]
  },
  {
   "cell_type": "code",
   "execution_count": 17,
   "metadata": {
    "scrolled": false
   },
   "outputs": [
    {
     "data": {
      "text/plain": [
       "<AxesSubplot:>"
      ]
     },
     "execution_count": 17,
     "metadata": {},
     "output_type": "execute_result"
    },
    {
     "data": {
      "image/png": "[encoded data removed]",
      "text/plain": [
       "<Figure size 432x288 with 1 Axes>"
      ]
     },
     "metadata": {
      "needs_background": "light"
     },
     "output_type": "display_data"
    }
   ],
   "source": [
    "fig, ax = plt.subplots()\n",
    "ax.grid(True)\n",
    "\n",
    "brazil.plot(ax=ax, trixels=True, boundary=True, color='y', zorder=0)\n",
    "brazil.plot(ax=ax, trixels=False, facecolor=\"none\", edgecolor='blue', zorder=1)\n",
    "modis[a].plot(ax=ax, color='red', trixels=True)\n",
    "modis.plot(ax=ax, color='green')"
   ]
  },
  {
   "cell_type": "code",
   "execution_count": 18,
   "metadata": {},
   "outputs": [],
   "source": [
    "joined = starepandas.stare_join(modis, samerica, how='left')\n",
    "joined = geopandas.GeoDataFrame(joined).set_geometry('geometry_left')"
   ]
  },
  {
   "cell_type": "code",
   "execution_count": 19,
   "metadata": {
    "scrolled": false
   },
   "outputs": [
    {
     "data": {
      "text/plain": [
       "<AxesSubplot:>"
      ]
     },
     "execution_count": 19,
     "metadata": {},
     "output_type": "execute_result"
    },
    {
     "data": {
      "image/png": "[encoded data removed]",
      "text/plain": [
       "<Figure size 432x288 with 1 Axes>"
      ]
     },
     "metadata": {
      "needs_background": "light"
     },
     "output_type": "display_data"
    }
   ],
   "source": [
    "fig, ax = plt.subplots()\n",
    "ax.grid(True)\n",
    "\n",
    "ax.set_ylim(-10, 10)\n",
    "ax.set_xlim(-60, -30)\n",
    "samerica.plot(ax=ax, color='green')\n",
    "joined.plot(ax=ax, column='name')"
   ]
  }
 ],
 "metadata": {
  "kernelspec": {
   "display_name": "Python 3",
   "language": "python",
   "name": "python3"
  },
  "language_info": {
   "codemirror_mode": {
    "name": "ipython",
    "version": 3
   },
   "file_extension": ".py",
   "mimetype": "text/x-python",
   "name": "python",
   "nbconvert_exporter": "python",
   "pygments_lexer": "ipython3",
   "version": "3.8.5"
  }
 },
 "nbformat": 4,
 "nbformat_minor": 4
}
