{
 "cells": [
  {
   "cell_type": "code",
   "execution_count": 8,
   "id": "successful-suggestion",
   "metadata": {},
   "outputs": [],
   "source": [
    "import rasterio\n",
    "import rasterio.warp\n",
    "import matplotlib.pyplot as plt\n",
    "import affine\n",
    "import numpy\n",
    "import pyproj\n",
    "import pandas\n",
    "\n",
    "import starepandas\n",
    "import pystare"
   ]
  },
  {
   "cell_type": "markdown",
   "id": "seasonal-faith",
   "metadata": {},
   "source": [
    "# Load Landsat Granule/Scene"
   ]
  },
  {
   "cell_type": "code",
   "execution_count": 9,
   "id": "opponent-corpus",
   "metadata": {},
   "outputs": [],
   "source": [
    "fname = '../tests/data/landsat/LC08_L2SP_042036_20210729_20210804_02_T1_SR_B1.TIF'\n",
    "with rasterio.open(fname) as dataset:\n",
    "    data = dataset.read()\n",
    "    mask = dataset.dataset_mask()\n",
    "    crs = dataset.crs\n",
    "\n",
    "    # Pixel center instead of pixel corner\n",
    "    transform = dataset.transform * affine.Affine.translation(0.5, 0.5)"
   ]
  },
  {
   "cell_type": "code",
   "execution_count": 10,
   "id": "usual-grain",
   "metadata": {},
   "outputs": [],
   "source": [
    "indices = numpy.indices(dataset.shape, dtype='int16')\n",
    "xy = numpy.array(transform*indices, dtype='int32')"
   ]
  },
  {
   "cell_type": "code",
   "execution_count": 11,
   "id": "technical-absorption",
   "metadata": {},
   "outputs": [],
   "source": [
    "transformer = pyproj.Transformer.from_crs(crs, \"epsg:4326\")\n",
    "lat, lon = transformer.transform(xy[0], xy[1])"
   ]
  },
  {
   "cell_type": "code",
   "execution_count": null,
   "id": "bibliographic-daily",
   "metadata": {},
   "outputs": [],
   "source": [
    "sids = pystare.from_latlon_2d(lat, lon, adapt_level=True)"
   ]
  },
  {
   "cell_type": "code",
   "execution_count": null,
   "id": "beginning-coverage",
   "metadata": {},
   "outputs": [],
   "source": [
    "landsat = starepandas.STAREDataFrame({'lon': lon.flatten(),\n",
    "                                      'lat': lat.flatten(),\n",
    "                                      'band_1': data.flatten()})"
   ]
  },
  {
   "cell_type": "code",
   "execution_count": null,
   "id": "closed-retailer",
   "metadata": {},
   "outputs": [],
   "source": [
    "landsat = starepandas.STAREDataFrame(landsat, stare=sids.flatten())\n",
    "landsat.to_pickle('landsat.pickle')"
   ]
  },
  {
   "cell_type": "code",
   "execution_count": null,
   "id": "informative-distance",
   "metadata": {},
   "outputs": [],
   "source": [
    "landsat = pandas.read_pickle('landsat.pickle')"
   ]
  },
  {
   "cell_type": "code",
   "execution_count": null,
   "id": "suited-characteristic",
   "metadata": {},
   "outputs": [],
   "source": [
    "del(xy)\n",
    "del(lon)\n",
    "del(lat)\n",
    "del(sids)"
   ]
  },
  {
   "cell_type": "code",
   "execution_count": null,
   "id": "classical-bristol",
   "metadata": {},
   "outputs": [],
   "source": [
    "landsat#.head()"
   ]
  },
  {
   "cell_type": "markdown",
   "id": "found-printing",
   "metadata": {},
   "source": [
    "# Mod09"
   ]
  },
  {
   "cell_type": "code",
   "execution_count": null,
   "id": "realistic-national",
   "metadata": {},
   "outputs": [],
   "source": [
    "fname = '../tests/data/mod05/MOD05_L2.A2021210.1935.061.2021213104049.hdf'\n",
    "mod05 = starepandas.read_granule(fname, add_stare=True)\n",
    "mod05 = mod05[['lat', 'lon', 'stare', 'Water_Vapor_Infrared']]\n",
    "mod05.head()"
   ]
  },
  {
   "cell_type": "code",
   "execution_count": null,
   "id": "searching-roller",
   "metadata": {},
   "outputs": [],
   "source": [
    "joined = starepandas.stare_join(landsat[0:100], mod05)\n",
    "joined = starepandas.STAREDataFrame(joined)"
   ]
  },
  {
   "cell_type": "code",
   "execution_count": null,
   "id": "union-rwanda",
   "metadata": {},
   "outputs": [],
   "source": [
    "joined['hex_left'] = joined.set_stare('stare_left').hex()\n",
    "joined['hex_right'] = joined.set_stare('stare_right').hex()"
   ]
  },
  {
   "cell_type": "code",
   "execution_count": null,
   "id": "guilty-effectiveness",
   "metadata": {},
   "outputs": [],
   "source": [
    "joined.head()"
   ]
  },
  {
   "cell_type": "code",
   "execution_count": null,
   "id": "greenhouse-dakota",
   "metadata": {},
   "outputs": [],
   "source": [
    "joined['trixels_right'] = joined.set_stare('stare_right').make_trixels()\n",
    "joined['trixels_left'] = joined.set_stare('stare_left').make_trixels()"
   ]
  },
  {
   "cell_type": "code",
   "execution_count": null,
   "id": "worthy-refund",
   "metadata": {},
   "outputs": [],
   "source": [
    "fig, ax = plt.subplots(figsize=(5,5), dpi=300)\n",
    "ax.grid(True)\n",
    "\n",
    "joined.set_trixels('trixels_left').plot(ax=ax)\n",
    "joined.set_trixels('trixels_right').plot(ax=ax, color='r')"
   ]
  },
  {
   "cell_type": "code",
   "execution_count": null,
   "id": "intellectual-desperate",
   "metadata": {},
   "outputs": [],
   "source": []
  }
 ],
 "metadata": {
  "kernelspec": {
   "display_name": "Python 3 (ipykernel)",
   "language": "python",
   "name": "python3"
  },
  "language_info": {
   "codemirror_mode": {
    "name": "ipython",
    "version": 3
   },
   "file_extension": ".py",
   "mimetype": "text/x-python",
   "name": "python",
   "nbconvert_exporter": "python",
   "pygments_lexer": "ipython3",
   "version": "3.10.4"
  }
 },
 "nbformat": 4,
 "nbformat_minor": 5
}
