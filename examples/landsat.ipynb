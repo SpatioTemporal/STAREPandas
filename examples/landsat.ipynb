{
 "cells": [
  {
   "cell_type": "code",
   "execution_count": 1,
   "id": "successful-suggestion",
   "metadata": {},
   "outputs": [],
   "source": [
    "import rasterio\n",
    "import rasterio.warp\n",
    "import matplotlib.pyplot as plt\n",
    "import affine\n",
    "import numpy\n",
    "import pyproj\n",
    "import pandas\n",
    "\n",
    "import starepandas\n",
    "import pystare"
   ]
  },
  {
   "cell_type": "markdown",
   "id": "seasonal-faith",
   "metadata": {},
   "source": [
    "# Load Landsat Granule/Scene"
   ]
  },
  {
   "cell_type": "code",
   "execution_count": 2,
   "id": "opponent-corpus",
   "metadata": {},
   "outputs": [],
   "source": [
    "fname = '../tests/data/LC08_L2SP_042036_20210729_20210804_02_T1_SR_B1.TIF'\n",
    "with rasterio.open(fname) as dataset:\n",
    "    data = dataset.read()\n",
    "    mask = dataset.dataset_mask()\n",
    "    crs = dataset.crs\n",
    "\n",
    "    # Pixel center instead of pixel corner\n",
    "    transform = dataset.transform * affine.Affine.translation(0.5, 0.5)"
   ]
  },
  {
   "cell_type": "code",
   "execution_count": 3,
   "id": "3612620f-ffa1-4953-8db0-6efc69e6d054",
   "metadata": {},
   "outputs": [],
   "source": [
    "data = data[0, 0:500, 0:500]"
   ]
  },
  {
   "cell_type": "code",
   "execution_count": 4,
   "id": "usual-grain",
   "metadata": {},
   "outputs": [],
   "source": [
    "indices = numpy.indices(data.shape, dtype='int16')\n",
    "xy = numpy.array(transform*indices, dtype='int32')"
   ]
  },
  {
   "cell_type": "code",
   "execution_count": 5,
   "id": "technical-absorption",
   "metadata": {},
   "outputs": [],
   "source": [
    "transformer = pyproj.Transformer.from_crs(crs, \"epsg:4326\")\n",
    "lat, lon = transformer.transform(xy[0], xy[1])"
   ]
  },
  {
   "cell_type": "code",
   "execution_count": 6,
   "id": "bibliographic-daily",
   "metadata": {},
   "outputs": [],
   "source": [
    "sids = pystare.from_latlon_2d(lat, lon, adapt_level=True)"
   ]
  },
  {
   "cell_type": "code",
   "execution_count": 7,
   "id": "beginning-coverage",
   "metadata": {},
   "outputs": [],
   "source": [
    "landsat = starepandas.STAREDataFrame({'lon': lon.flatten(),\n",
    "                                      'lat': lat.flatten(),\n",
    "                                      'band_1': data.flatten()})"
   ]
  },
  {
   "cell_type": "code",
   "execution_count": 8,
   "id": "closed-retailer",
   "metadata": {},
   "outputs": [],
   "source": [
    "landsat = starepandas.STAREDataFrame(landsat, sids=sids.flatten())"
   ]
  },
  {
   "cell_type": "markdown",
   "id": "2320bffe-2cfd-469f-bd7f-32193f75a49d",
   "metadata": {},
   "source": [
    "# High-Level"
   ]
  },
  {
   "cell_type": "code",
   "execution_count": 9,
   "id": "d2d6437a-4cfa-4022-a4f5-e37e51238f9d",
   "metadata": {},
   "outputs": [
    {
     "data": {
      "text/html": [
       "<div>\n",
       "<style scoped>\n",
       "    .dataframe tbody tr th:only-of-type {\n",
       "        vertical-align: middle;\n",
       "    }\n",
       "\n",
       "    .dataframe tbody tr th {\n",
       "        vertical-align: top;\n",
       "    }\n",
       "\n",
       "    .dataframe thead th {\n",
       "        text-align: right;\n",
       "    }\n",
       "</style>\n",
       "<table border=\"1\" class=\"dataframe\">\n",
       "  <thead>\n",
       "    <tr style=\"text-align: right;\">\n",
       "      <th></th>\n",
       "      <th>band_1</th>\n",
       "      <th>lon</th>\n",
       "      <th>lat</th>\n",
       "      <th>ix</th>\n",
       "      <th>iy</th>\n",
       "      <th>x</th>\n",
       "      <th>y</th>\n",
       "    </tr>\n",
       "  </thead>\n",
       "  <tbody>\n",
       "    <tr>\n",
       "      <th>0</th>\n",
       "      <td>0</td>\n",
       "      <td>-121.173073</td>\n",
       "      <td>35.644070</td>\n",
       "      <td>0.0</td>\n",
       "      <td>0.0</td>\n",
       "      <td>122100.0</td>\n",
       "      <td>3952500.0</td>\n",
       "    </tr>\n",
       "    <tr>\n",
       "      <th>1</th>\n",
       "      <td>0</td>\n",
       "      <td>-121.172745</td>\n",
       "      <td>35.644081</td>\n",
       "      <td>1.0</td>\n",
       "      <td>0.0</td>\n",
       "      <td>122130.0</td>\n",
       "      <td>3952500.0</td>\n",
       "    </tr>\n",
       "    <tr>\n",
       "      <th>2</th>\n",
       "      <td>0</td>\n",
       "      <td>-121.172417</td>\n",
       "      <td>35.644093</td>\n",
       "      <td>2.0</td>\n",
       "      <td>0.0</td>\n",
       "      <td>122160.0</td>\n",
       "      <td>3952500.0</td>\n",
       "    </tr>\n",
       "    <tr>\n",
       "      <th>3</th>\n",
       "      <td>0</td>\n",
       "      <td>-121.172081</td>\n",
       "      <td>35.644104</td>\n",
       "      <td>3.0</td>\n",
       "      <td>0.0</td>\n",
       "      <td>122190.0</td>\n",
       "      <td>3952500.0</td>\n",
       "    </tr>\n",
       "    <tr>\n",
       "      <th>4</th>\n",
       "      <td>0</td>\n",
       "      <td>-121.171753</td>\n",
       "      <td>35.644115</td>\n",
       "      <td>4.0</td>\n",
       "      <td>0.0</td>\n",
       "      <td>122220.0</td>\n",
       "      <td>3952500.0</td>\n",
       "    </tr>\n",
       "    <tr>\n",
       "      <th>...</th>\n",
       "      <td>...</td>\n",
       "      <td>...</td>\n",
       "      <td>...</td>\n",
       "      <td>...</td>\n",
       "      <td>...</td>\n",
       "      <td>...</td>\n",
       "      <td>...</td>\n",
       "    </tr>\n",
       "    <tr>\n",
       "      <th>62342586</th>\n",
       "      <td>0</td>\n",
       "      <td>-118.541695</td>\n",
       "      <td>33.553364</td>\n",
       "      <td>7826.0</td>\n",
       "      <td>7960.0</td>\n",
       "      <td>356880.0</td>\n",
       "      <td>3713700.0</td>\n",
       "    </tr>\n",
       "    <tr>\n",
       "      <th>62342587</th>\n",
       "      <td>0</td>\n",
       "      <td>-118.541374</td>\n",
       "      <td>33.553368</td>\n",
       "      <td>7827.0</td>\n",
       "      <td>7960.0</td>\n",
       "      <td>356910.0</td>\n",
       "      <td>3713700.0</td>\n",
       "    </tr>\n",
       "    <tr>\n",
       "      <th>62342588</th>\n",
       "      <td>0</td>\n",
       "      <td>-118.541054</td>\n",
       "      <td>33.553371</td>\n",
       "      <td>7828.0</td>\n",
       "      <td>7960.0</td>\n",
       "      <td>356940.0</td>\n",
       "      <td>3713700.0</td>\n",
       "    </tr>\n",
       "    <tr>\n",
       "      <th>62342589</th>\n",
       "      <td>0</td>\n",
       "      <td>-118.540726</td>\n",
       "      <td>33.553375</td>\n",
       "      <td>7829.0</td>\n",
       "      <td>7960.0</td>\n",
       "      <td>356970.0</td>\n",
       "      <td>3713700.0</td>\n",
       "    </tr>\n",
       "    <tr>\n",
       "      <th>62342590</th>\n",
       "      <td>0</td>\n",
       "      <td>-118.540405</td>\n",
       "      <td>33.553379</td>\n",
       "      <td>7830.0</td>\n",
       "      <td>7960.0</td>\n",
       "      <td>357000.0</td>\n",
       "      <td>3713700.0</td>\n",
       "    </tr>\n",
       "  </tbody>\n",
       "</table>\n",
       "<p>62342591 rows × 7 columns</p>\n",
       "</div>"
      ],
      "text/plain": [
       "          band_1         lon        lat      ix      iy         x          y\n",
       "0              0 -121.173073  35.644070     0.0     0.0  122100.0  3952500.0\n",
       "1              0 -121.172745  35.644081     1.0     0.0  122130.0  3952500.0\n",
       "2              0 -121.172417  35.644093     2.0     0.0  122160.0  3952500.0\n",
       "3              0 -121.172081  35.644104     3.0     0.0  122190.0  3952500.0\n",
       "4              0 -121.171753  35.644115     4.0     0.0  122220.0  3952500.0\n",
       "...          ...         ...        ...     ...     ...       ...        ...\n",
       "62342586       0 -118.541695  33.553364  7826.0  7960.0  356880.0  3713700.0\n",
       "62342587       0 -118.541374  33.553368  7827.0  7960.0  356910.0  3713700.0\n",
       "62342588       0 -118.541054  33.553371  7828.0  7960.0  356940.0  3713700.0\n",
       "62342589       0 -118.540726  33.553375  7829.0  7960.0  356970.0  3713700.0\n",
       "62342590       0 -118.540405  33.553379  7830.0  7960.0  357000.0  3713700.0\n",
       "\n",
       "[62342591 rows x 7 columns]"
      ]
     },
     "execution_count": 9,
     "metadata": {},
     "output_type": "execute_result"
    }
   ],
   "source": [
    "# starepandas.read_geotiff(fname, add_xy=True, add_coordinates=True, add_latlon=True, add_sids=False)"
   ]
  }
 ],
 "metadata": {
  "kernelspec": {
   "display_name": "Python 3 (ipykernel)",
   "language": "python",
   "name": "python3"
  },
  "language_info": {
   "codemirror_mode": {
    "name": "ipython",
    "version": 3
   },
   "file_extension": ".py",
   "mimetype": "text/x-python",
   "name": "python",
   "nbconvert_exporter": "python",
   "pygments_lexer": "ipython3",
   "version": "3.10.4"
  }
 },
 "nbformat": 4,
 "nbformat_minor": 5
}
