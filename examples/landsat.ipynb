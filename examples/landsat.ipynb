{
 "cells": [
  {
   "cell_type": "code",
   "execution_count": 1,
   "id": "successful-suggestion",
   "metadata": {
    "execution": {
     "iopub.execute_input": "2022-09-15T05:02:45.989405Z",
     "iopub.status.busy": "2022-09-15T05:02:45.988821Z",
     "iopub.status.idle": "2022-09-15T05:02:50.701842Z",
     "shell.execute_reply": "2022-09-15T05:02:50.701208Z"
    }
   },
   "outputs": [],
   "source": [
    "import rasterio\n",
    "import rasterio.warp\n",
    "import matplotlib.pyplot as plt\n",
    "import affine\n",
    "import numpy\n",
    "import pyproj\n",
    "import pandas\n",
    "\n",
    "import starepandas\n",
    "import pystare"
   ]
  },
  {
   "cell_type": "markdown",
   "id": "seasonal-faith",
   "metadata": {},
   "source": [
    "# Load Landsat Granule/Scene"
   ]
  },
  {
   "cell_type": "code",
   "execution_count": 2,
   "id": "opponent-corpus",
   "metadata": {
    "execution": {
     "iopub.execute_input": "2022-09-15T05:02:50.706098Z",
     "iopub.status.busy": "2022-09-15T05:02:50.705772Z",
     "iopub.status.idle": "2022-09-15T05:02:53.617484Z",
     "shell.execute_reply": "2022-09-15T05:02:53.616337Z"
    }
   },
   "outputs": [],
   "source": [
    "fname = '../tests/data/LC08_L2SP_042036_20210729_20210804_02_T1_SR_B1.TIF'\n",
    "with rasterio.open(fname) as dataset:\n",
    "    data = dataset.read()\n",
    "    mask = dataset.dataset_mask()\n",
    "    crs = dataset.crs\n",
    "\n",
    "    # Pixel center instead of pixel corner\n",
    "    transform = dataset.transform * affine.Affine.translation(0.5, 0.5)"
   ]
  },
  {
   "cell_type": "code",
   "execution_count": 3,
   "id": "3612620f-ffa1-4953-8db0-6efc69e6d054",
   "metadata": {
    "execution": {
     "iopub.execute_input": "2022-09-15T05:02:53.624279Z",
     "iopub.status.busy": "2022-09-15T05:02:53.622729Z",
     "iopub.status.idle": "2022-09-15T05:02:53.663981Z",
     "shell.execute_reply": "2022-09-15T05:02:53.662713Z"
    }
   },
   "outputs": [],
   "source": [
    "data = data[0, 0:500, 0:500]"
   ]
  },
  {
   "cell_type": "code",
   "execution_count": 4,
   "id": "usual-grain",
   "metadata": {
    "execution": {
     "iopub.execute_input": "2022-09-15T05:02:53.673484Z",
     "iopub.status.busy": "2022-09-15T05:02:53.670904Z",
     "iopub.status.idle": "2022-09-15T05:02:53.714663Z",
     "shell.execute_reply": "2022-09-15T05:02:53.712725Z"
    }
   },
   "outputs": [],
   "source": [
    "indices = numpy.indices(data.shape, dtype='int16')\n",
    "xy = numpy.array(transform*indices, dtype='int32')"
   ]
  },
  {
   "cell_type": "code",
   "execution_count": 5,
   "id": "technical-absorption",
   "metadata": {
    "execution": {
     "iopub.execute_input": "2022-09-15T05:02:53.724566Z",
     "iopub.status.busy": "2022-09-15T05:02:53.721826Z",
     "iopub.status.idle": "2022-09-15T05:02:53.964598Z",
     "shell.execute_reply": "2022-09-15T05:02:53.936841Z"
    }
   },
   "outputs": [],
   "source": [
    "transformer = pyproj.Transformer.from_crs(crs, \"epsg:4326\")\n",
    "lat, lon = transformer.transform(xy[0], xy[1])"
   ]
  },
  {
   "cell_type": "code",
   "execution_count": 6,
   "id": "bibliographic-daily",
   "metadata": {
    "execution": {
     "iopub.execute_input": "2022-09-15T05:02:53.973331Z",
     "iopub.status.busy": "2022-09-15T05:02:53.972729Z",
     "iopub.status.idle": "2022-09-15T05:02:56.893660Z",
     "shell.execute_reply": "2022-09-15T05:02:56.893090Z"
    }
   },
   "outputs": [],
   "source": [
    "sids = pystare.from_latlon_2d(lat, lon, adapt_level=True)"
   ]
  },
  {
   "cell_type": "code",
   "execution_count": 7,
   "id": "beginning-coverage",
   "metadata": {
    "execution": {
     "iopub.execute_input": "2022-09-15T05:02:56.896189Z",
     "iopub.status.busy": "2022-09-15T05:02:56.895926Z",
     "iopub.status.idle": "2022-09-15T05:02:56.923434Z",
     "shell.execute_reply": "2022-09-15T05:02:56.922924Z"
    }
   },
   "outputs": [],
   "source": [
    "landsat = starepandas.STAREDataFrame({'lon': lon.flatten(),\n",
    "                                      'lat': lat.flatten(),\n",
    "                                      'band_1': data.flatten()})"
   ]
  },
  {
   "cell_type": "code",
   "execution_count": 8,
   "id": "closed-retailer",
   "metadata": {
    "execution": {
     "iopub.execute_input": "2022-09-15T05:02:56.930629Z",
     "iopub.status.busy": "2022-09-15T05:02:56.930314Z",
     "iopub.status.idle": "2022-09-15T05:02:56.935312Z",
     "shell.execute_reply": "2022-09-15T05:02:56.934785Z"
    }
   },
   "outputs": [],
   "source": [
    "landsat = starepandas.STAREDataFrame(landsat, sids=sids.flatten())"
   ]
  },
  {
   "cell_type": "markdown",
   "id": "2320bffe-2cfd-469f-bd7f-32193f75a49d",
   "metadata": {},
   "source": [
    "# High-Level"
   ]
  },
  {
   "cell_type": "code",
   "execution_count": 9,
   "id": "d2d6437a-4cfa-4022-a4f5-e37e51238f9d",
   "metadata": {
    "execution": {
     "iopub.execute_input": "2022-09-15T05:02:56.937424Z",
     "iopub.status.busy": "2022-09-15T05:02:56.937182Z",
     "iopub.status.idle": "2022-09-15T05:02:56.939664Z",
     "shell.execute_reply": "2022-09-15T05:02:56.939281Z"
    }
   },
   "outputs": [],
   "source": [
    "# starepandas.read_geotiff(fname, add_xy=True, add_coordinates=True, add_latlon=True, add_sids=False)"
   ]
  }
 ],
 "metadata": {
  "kernelspec": {
   "display_name": "Python 3 (ipykernel)",
   "language": "python",
   "name": "python3"
  },
  "language_info": {
   "codemirror_mode": {
    "name": "ipython",
    "version": 3
   },
   "file_extension": ".py",
   "mimetype": "text/x-python",
   "name": "python",
   "nbconvert_exporter": "python",
   "pygments_lexer": "ipython3",
   "version": "3.10.4"
  }
 },
 "nbformat": 4,
 "nbformat_minor": 5
}
