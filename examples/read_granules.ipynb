{
 "cells": [
  {
   "cell_type": "markdown",
   "id": "6fb1386c",
   "metadata": {},
   "source": [
    "# Read Granules"
   ]
  },
  {
   "cell_type": "code",
   "execution_count": 1,
   "id": "d74b0c0e",
   "metadata": {
    "tags": []
   },
   "outputs": [],
   "source": [
    "import starepandas\n",
    "import matplotlib.pyplot as plt\n",
    "import numpy\n",
    "import pandas\n",
    "import geopandas\n",
    "import pystare\n",
    "import pyhdf\n",
    "import gc"
   ]
  },
  {
   "cell_type": "markdown",
   "id": "6962199e",
   "metadata": {},
   "source": [
    "## Manually reading "
   ]
  },
  {
   "cell_type": "code",
   "execution_count": 2,
   "id": "81aa6cf3",
   "metadata": {
    "tags": []
   },
   "outputs": [],
   "source": [
    "vnp03_name = '../tests/data/granules/viirs/VNP03DNB.A2022308.1930.002.2022309041547.nc'\n",
    "vnp03 = starepandas.io.granules.VNP03DNB(vnp03_name)\n",
    "vnp03.read_latlon()\n",
    "vnp03.read_data()\n",
    "vnp03 = vnp03.to_df(xy=True)"
   ]
  },
  {
   "cell_type": "markdown",
   "id": "dad801a5-4733-42e3-b3f6-56864099885b",
   "metadata": {},
   "source": [
    "# VNP03"
   ]
  },
  {
   "cell_type": "code",
   "execution_count": 17,
   "id": "03865566-800a-48ec-88dd-5abe543262cf",
   "metadata": {},
   "outputs": [],
   "source": [
    "file_path = '../tests/data/granules/viirs/VNP09.A2022308.1930.001.2022309070407.hdf'\n",
    "vnp09 = starepandas.io.granules.viirsl2.VNP09(file_path, nom_res='750m')\n",
    "vnp09.read_data()\n",
    "vnp09.read_timestamps()"
   ]
  },
  {
   "cell_type": "code",
   "execution_count": 18,
   "id": "53e5f804-a21e-40a1-a031-1f230827e72b",
   "metadata": {},
   "outputs": [],
   "source": [
    "vnp03_path = vnp09.guess_companion_path(prefix='VNP03MOD')\n",
    "vnp03 = starepandas.io.granules.VNP03MOD(vnp03_path)\n",
    "vnp03.read_data()\n",
    "vnp03.read_sidecar_index()\n",
    "vnp03.read_sidecar_latlon()"
   ]
  },
  {
   "cell_type": "code",
   "execution_count": 19,
   "id": "2f2523cd-449e-498b-bb79-bb1dc0f7da92",
   "metadata": {},
   "outputs": [],
   "source": [
    "vnp09 = vnp09.to_df(xy=True)\n",
    "vnp03 = vnp03.to_df()\n",
    "vnp09 = vnp09.join(vnp03)\n",
    "vnp09.dropna(inplace=True)"
   ]
  },
  {
   "cell_type": "code",
   "execution_count": 21,
   "id": "0bb84b98-5fbc-4498-b8d5-47a54f001116",
   "metadata": {},
   "outputs": [],
   "source": [
    "#qf1 = starepandas.io.granules.viirsl2.decode_qf1(vnp09['QF1 Surface Reflectance'])\n",
    "#qf2 = starepandas.io.granules.viirsl2.decode_qf2(vnp09['QF2 Surface Reflectance'])\n",
    "#vnp09 = vnp09.join(qf1).join(qf2)"
   ]
  },
  {
   "cell_type": "code",
   "execution_count": 24,
   "id": "b4ae60d5-efc6-4ee0-bd7b-1ed5dfc14643",
   "metadata": {},
   "outputs": [
    {
     "data": {
      "text/plain": [
       "<AxesSubplot:xlabel='x', ylabel='sensor_zenith'>"
      ]
     },
     "execution_count": 24,
     "metadata": {},
     "output_type": "execute_result"
    },
    {
     "data": {
      "image/png": "[encoded data removed]",
      "text/plain": [
       "<Figure size 432x288 with 1 Axes>"
      ]
     },
     "metadata": {
      "needs_background": "light"
     },
     "output_type": "display_data"
    }
   ],
   "source": [
    "#pandas.DataFrame(vnp09).plot(x='x', y='sensor_zenith', kind='scatter')"
   ]
  },
  {
   "cell_type": "code",
   "execution_count": 23,
   "id": "0340348b-84a5-4cca-ad78-a07a7419154b",
   "metadata": {},
   "outputs": [
    {
     "name": "stdout",
     "output_type": "stream",
     "text": [
      "<class 'starepandas.staredataframe.STAREDataFrame'>\n",
      "Int64Index: 8993654 entries, 1008 to 10341391\n",
      "Data columns (total 24 columns):\n",
      " #   Column                             Dtype         \n",
      "---  ------                             -----         \n",
      " 0   ts_start                           datetime64[ns]\n",
      " 1   ts_end                             datetime64[ns]\n",
      " 2   x                                  uint16        \n",
      " 3   y                                  uint16        \n",
      " 4   750m Surface Reflectance Band M1   float64       \n",
      " 5   750m Surface Reflectance Band M2   float64       \n",
      " 6   750m Surface Reflectance Band M3   float64       \n",
      " 7   750m Surface Reflectance Band M4   float64       \n",
      " 8   750m Surface Reflectance Band M5   float64       \n",
      " 9   750m Surface Reflectance Band M7   float64       \n",
      " 10  750m Surface Reflectance Band M8   float64       \n",
      " 11  750m Surface Reflectance Band M10  float64       \n",
      " 12  750m Surface Reflectance Band M11  float64       \n",
      " 13  QF1 Surface Reflectance            UInt8         \n",
      " 14  QF2 Surface Reflectance            UInt8         \n",
      " 15  lat                                float32       \n",
      " 16  lon                                float32       \n",
      " 17  sids                               Int64         \n",
      " 18  land_water_mask                    UInt8         \n",
      " 19  quality_flag                       UInt8         \n",
      " 20  sensor_azimuth                     float32       \n",
      " 21  sensor_zenith                      float32       \n",
      " 22  solar_azimuth                      float32       \n",
      " 23  solar_zenith                       float32       \n",
      "dtypes: Int64(1), UInt8(4), datetime64[ns](2), float32(6), float64(9), uint16(2)\n",
      "memory usage: 1.2 GB\n"
     ]
    }
   ],
   "source": [
    "vnp09.info(memory_usage='deep')"
   ]
  },
  {
   "cell_type": "code",
   "execution_count": 26,
   "id": "d1fd85c9-087b-436c-9e5e-3227c74e9b4d",
   "metadata": {},
   "outputs": [
    {
     "data": {
      "text/plain": [
       "363"
      ]
     },
     "execution_count": 26,
     "metadata": {},
     "output_type": "execute_result"
    }
   ],
   "source": [
    "del vnp03, vnp09\n",
    "gc.collect()"
   ]
  },
  {
   "cell_type": "markdown",
   "id": "0c567ac5-758b-45ee-a71a-3f901220f011",
   "metadata": {},
   "source": [
    "## MOD09GA"
   ]
  },
  {
   "cell_type": "code",
   "execution_count": null,
   "id": "a60b5bdf-a527-401e-bb4e-cb3dc368db92",
   "metadata": {
    "tags": []
   },
   "outputs": [],
   "source": [
    "file_name = '../tests/data/granules/MOD09GA.A2020009.h00v08.006.2020011025435.hdf'"
   ]
  },
  {
   "cell_type": "code",
   "execution_count": 27,
   "id": "1eb575cb-43e2-4840-8c6d-20b653788d68",
   "metadata": {
    "tags": []
   },
   "outputs": [
    {
     "data": {
      "text/html": [
       "<div>\n",
       "<style scoped>\n",
       "    .dataframe tbody tr th:only-of-type {\n",
       "        vertical-align: middle;\n",
       "    }\n",
       "\n",
       "    .dataframe tbody tr th {\n",
       "        vertical-align: top;\n",
       "    }\n",
       "\n",
       "    .dataframe thead th {\n",
       "        text-align: right;\n",
       "    }\n",
       "</style>\n",
       "<table border=\"1\" class=\"dataframe\">\n",
       "  <thead>\n",
       "    <tr style=\"text-align: right;\">\n",
       "      <th></th>\n",
       "      <th>x</th>\n",
       "      <th>y</th>\n",
       "      <th>sur_refl_b01_1</th>\n",
       "      <th>sur_refl_b02_1</th>\n",
       "      <th>sur_refl_b03_1</th>\n",
       "      <th>sur_refl_b04_1</th>\n",
       "      <th>sur_refl_b05_1</th>\n",
       "      <th>sur_refl_b06_1</th>\n",
       "      <th>sur_refl_b07_1</th>\n",
       "      <th>QC_500m_1</th>\n",
       "      <th>obscov_500m_1</th>\n",
       "    </tr>\n",
       "  </thead>\n",
       "  <tbody>\n",
       "    <tr>\n",
       "      <th>0</th>\n",
       "      <td>0</td>\n",
       "      <td>0</td>\n",
       "      <td>NaN</td>\n",
       "      <td>NaN</td>\n",
       "      <td>NaN</td>\n",
       "      <td>NaN</td>\n",
       "      <td>NaN</td>\n",
       "      <td>NaN</td>\n",
       "      <td>NaN</td>\n",
       "      <td>&lt;NA&gt;</td>\n",
       "      <td>NaN</td>\n",
       "    </tr>\n",
       "    <tr>\n",
       "      <th>1</th>\n",
       "      <td>1</td>\n",
       "      <td>0</td>\n",
       "      <td>NaN</td>\n",
       "      <td>NaN</td>\n",
       "      <td>NaN</td>\n",
       "      <td>NaN</td>\n",
       "      <td>NaN</td>\n",
       "      <td>NaN</td>\n",
       "      <td>NaN</td>\n",
       "      <td>&lt;NA&gt;</td>\n",
       "      <td>NaN</td>\n",
       "    </tr>\n",
       "    <tr>\n",
       "      <th>2</th>\n",
       "      <td>2</td>\n",
       "      <td>0</td>\n",
       "      <td>NaN</td>\n",
       "      <td>NaN</td>\n",
       "      <td>NaN</td>\n",
       "      <td>NaN</td>\n",
       "      <td>NaN</td>\n",
       "      <td>NaN</td>\n",
       "      <td>NaN</td>\n",
       "      <td>&lt;NA&gt;</td>\n",
       "      <td>NaN</td>\n",
       "    </tr>\n",
       "    <tr>\n",
       "      <th>3</th>\n",
       "      <td>3</td>\n",
       "      <td>0</td>\n",
       "      <td>NaN</td>\n",
       "      <td>NaN</td>\n",
       "      <td>NaN</td>\n",
       "      <td>NaN</td>\n",
       "      <td>NaN</td>\n",
       "      <td>NaN</td>\n",
       "      <td>NaN</td>\n",
       "      <td>&lt;NA&gt;</td>\n",
       "      <td>NaN</td>\n",
       "    </tr>\n",
       "    <tr>\n",
       "      <th>4</th>\n",
       "      <td>4</td>\n",
       "      <td>0</td>\n",
       "      <td>NaN</td>\n",
       "      <td>NaN</td>\n",
       "      <td>NaN</td>\n",
       "      <td>NaN</td>\n",
       "      <td>NaN</td>\n",
       "      <td>NaN</td>\n",
       "      <td>NaN</td>\n",
       "      <td>&lt;NA&gt;</td>\n",
       "      <td>NaN</td>\n",
       "    </tr>\n",
       "    <tr>\n",
       "      <th>...</th>\n",
       "      <td>...</td>\n",
       "      <td>...</td>\n",
       "      <td>...</td>\n",
       "      <td>...</td>\n",
       "      <td>...</td>\n",
       "      <td>...</td>\n",
       "      <td>...</td>\n",
       "      <td>...</td>\n",
       "      <td>...</td>\n",
       "      <td>...</td>\n",
       "      <td>...</td>\n",
       "    </tr>\n",
       "    <tr>\n",
       "      <th>5759995</th>\n",
       "      <td>2395</td>\n",
       "      <td>2399</td>\n",
       "      <td>0.2020</td>\n",
       "      <td>0.1939</td>\n",
       "      <td>0.2187</td>\n",
       "      <td>0.2053</td>\n",
       "      <td>0.1872</td>\n",
       "      <td>0.1359</td>\n",
       "      <td>0.0817</td>\n",
       "      <td>1073741824</td>\n",
       "      <td>0.15</td>\n",
       "    </tr>\n",
       "    <tr>\n",
       "      <th>5759996</th>\n",
       "      <td>2396</td>\n",
       "      <td>2399</td>\n",
       "      <td>0.2122</td>\n",
       "      <td>0.2043</td>\n",
       "      <td>0.2320</td>\n",
       "      <td>0.2174</td>\n",
       "      <td>0.2015</td>\n",
       "      <td>0.1356</td>\n",
       "      <td>0.0900</td>\n",
       "      <td>1073741824</td>\n",
       "      <td>0.19</td>\n",
       "    </tr>\n",
       "    <tr>\n",
       "      <th>5759997</th>\n",
       "      <td>2397</td>\n",
       "      <td>2399</td>\n",
       "      <td>0.2122</td>\n",
       "      <td>0.2043</td>\n",
       "      <td>0.2320</td>\n",
       "      <td>0.2174</td>\n",
       "      <td>0.2015</td>\n",
       "      <td>0.1356</td>\n",
       "      <td>0.0900</td>\n",
       "      <td>1073741824</td>\n",
       "      <td>0.19</td>\n",
       "    </tr>\n",
       "    <tr>\n",
       "      <th>5759998</th>\n",
       "      <td>2398</td>\n",
       "      <td>2399</td>\n",
       "      <td>0.2174</td>\n",
       "      <td>0.2094</td>\n",
       "      <td>0.2342</td>\n",
       "      <td>0.2225</td>\n",
       "      <td>0.2074</td>\n",
       "      <td>0.1464</td>\n",
       "      <td>0.0867</td>\n",
       "      <td>1073741824</td>\n",
       "      <td>0.11</td>\n",
       "    </tr>\n",
       "    <tr>\n",
       "      <th>5759999</th>\n",
       "      <td>2399</td>\n",
       "      <td>2399</td>\n",
       "      <td>0.2174</td>\n",
       "      <td>0.2094</td>\n",
       "      <td>0.2342</td>\n",
       "      <td>0.2225</td>\n",
       "      <td>0.2074</td>\n",
       "      <td>0.1464</td>\n",
       "      <td>0.0867</td>\n",
       "      <td>1073741824</td>\n",
       "      <td>0.14</td>\n",
       "    </tr>\n",
       "  </tbody>\n",
       "</table>\n",
       "<p>5760000 rows × 11 columns</p>\n",
       "</div>"
      ],
      "text/plain": [
       "            x     y  sur_refl_b01_1  sur_refl_b02_1  sur_refl_b03_1  \\\n",
       "0           0     0             NaN             NaN             NaN   \n",
       "1           1     0             NaN             NaN             NaN   \n",
       "2           2     0             NaN             NaN             NaN   \n",
       "3           3     0             NaN             NaN             NaN   \n",
       "4           4     0             NaN             NaN             NaN   \n",
       "...       ...   ...             ...             ...             ...   \n",
       "5759995  2395  2399          0.2020          0.1939          0.2187   \n",
       "5759996  2396  2399          0.2122          0.2043          0.2320   \n",
       "5759997  2397  2399          0.2122          0.2043          0.2320   \n",
       "5759998  2398  2399          0.2174          0.2094          0.2342   \n",
       "5759999  2399  2399          0.2174          0.2094          0.2342   \n",
       "\n",
       "         sur_refl_b04_1  sur_refl_b05_1  sur_refl_b06_1  sur_refl_b07_1  \\\n",
       "0                   NaN             NaN             NaN             NaN   \n",
       "1                   NaN             NaN             NaN             NaN   \n",
       "2                   NaN             NaN             NaN             NaN   \n",
       "3                   NaN             NaN             NaN             NaN   \n",
       "4                   NaN             NaN             NaN             NaN   \n",
       "...                 ...             ...             ...             ...   \n",
       "5759995          0.2053          0.1872          0.1359          0.0817   \n",
       "5759996          0.2174          0.2015          0.1356          0.0900   \n",
       "5759997          0.2174          0.2015          0.1356          0.0900   \n",
       "5759998          0.2225          0.2074          0.1464          0.0867   \n",
       "5759999          0.2225          0.2074          0.1464          0.0867   \n",
       "\n",
       "          QC_500m_1  obscov_500m_1  \n",
       "0              <NA>            NaN  \n",
       "1              <NA>            NaN  \n",
       "2              <NA>            NaN  \n",
       "3              <NA>            NaN  \n",
       "4              <NA>            NaN  \n",
       "...             ...            ...  \n",
       "5759995  1073741824           0.15  \n",
       "5759996  1073741824           0.19  \n",
       "5759997  1073741824           0.19  \n",
       "5759998  1073741824           0.11  \n",
       "5759999  1073741824           0.14  \n",
       "\n",
       "[5760000 rows x 11 columns]"
      ]
     },
     "execution_count": 27,
     "metadata": {},
     "output_type": "execute_result"
    }
   ],
   "source": [
    "mod09ga = starepandas.read_granule(file_name, xy=True)\n",
    "mod09ga"
   ]
  },
  {
   "cell_type": "code",
   "execution_count": 31,
   "id": "84a3e0e7-92be-4d62-a948-0c0493860b59",
   "metadata": {},
   "outputs": [
    {
     "name": "stdout",
     "output_type": "stream",
     "text": [
      "<class 'starepandas.staredataframe.STAREDataFrame'>\n",
      "RangeIndex: 5760000 entries, 0 to 5759999\n",
      "Data columns (total 15 columns):\n",
      " #   Column          Dtype  \n",
      "---  ------          -----  \n",
      " 0   sur_refl_b01_1  float64\n",
      " 1   sur_refl_b02_1  float64\n",
      " 2   sur_refl_b03_1  float64\n",
      " 3   sur_refl_b04_1  float64\n",
      " 4   sur_refl_b05_1  float64\n",
      " 5   sur_refl_b06_1  float64\n",
      " 6   sur_refl_b07_1  float64\n",
      " 7   QC_500m_1       UInt32 \n",
      " 8   obscov_500m_1   float64\n",
      " 9   state_1km_1     UInt16 \n",
      " 10  cloud           Int8   \n",
      " 11  cloud_shadow    bool   \n",
      " 12  cloud_internal  bool   \n",
      " 13  snow_mod35      bool   \n",
      " 14  snow_internal   bool   \n",
      "dtypes: Int8(1), UInt16(1), UInt32(1), bool(4), float64(8)\n",
      "memory usage: 428.5 MB\n"
     ]
    }
   ],
   "source": [
    "mod09ga = starepandas.io.granules.Mod09GA(file_name)\n",
    "mod09ga.read_data()\n",
    "\n",
    "ds_name = 'state_1km_1'\n",
    "mod09ga.read_dataset(ds_name, resample_factor=2)\n",
    "mod09ga.decode_state('state_1km_1')\n",
    "mod09ga.to_df()"
   ]
  },
  {
   "cell_type": "code",
   "execution_count": 32,
   "id": "4f8b73ff-a30b-4852-8903-554730bc9a3a",
   "metadata": {},
   "outputs": [
    {
     "data": {
      "text/plain": [
       "977"
      ]
     },
     "execution_count": 32,
     "metadata": {},
     "output_type": "execute_result"
    }
   ],
   "source": [
    "del mod09ga\n",
    "gc.collect()"
   ]
  },
  {
   "cell_type": "markdown",
   "id": "bfba25d6-1077-4c1f-90e6-43b28feb32ec",
   "metadata": {},
   "source": [
    "## MOD09"
   ]
  },
  {
   "cell_type": "code",
   "execution_count": 33,
   "id": "ea8d3869-8e7d-4e0b-8ca6-32daa67eff44",
   "metadata": {},
   "outputs": [],
   "source": [
    "file_name = '../tests/data/granules/MOD09.A2002299.0710.006.2015151173939.hdf'\n",
    "mod09 = starepandas.read_granule(file_name)"
   ]
  },
  {
   "cell_type": "code",
   "execution_count": 34,
   "id": "003a8e29-3416-4527-aaf0-516bb20139c7",
   "metadata": {},
   "outputs": [
    {
     "data": {
      "text/html": [
       "<div>\n",
       "<style scoped>\n",
       "    .dataframe tbody tr th:only-of-type {\n",
       "        vertical-align: middle;\n",
       "    }\n",
       "\n",
       "    .dataframe tbody tr th {\n",
       "        vertical-align: top;\n",
       "    }\n",
       "\n",
       "    .dataframe thead th {\n",
       "        text-align: right;\n",
       "    }\n",
       "</style>\n",
       "<table border=\"1\" class=\"dataframe\">\n",
       "  <thead>\n",
       "    <tr style=\"text-align: right;\">\n",
       "      <th></th>\n",
       "      <th>cloud</th>\n",
       "      <th>cloud_shadow</th>\n",
       "      <th>cloud_internal</th>\n",
       "      <th>snow_mod35</th>\n",
       "      <th>snow_internal</th>\n",
       "    </tr>\n",
       "  </thead>\n",
       "  <tbody>\n",
       "    <tr>\n",
       "      <th>0</th>\n",
       "      <td>00</td>\n",
       "      <td>False</td>\n",
       "      <td>False</td>\n",
       "      <td>False</td>\n",
       "      <td>False</td>\n",
       "    </tr>\n",
       "    <tr>\n",
       "      <th>1</th>\n",
       "      <td>00</td>\n",
       "      <td>False</td>\n",
       "      <td>False</td>\n",
       "      <td>False</td>\n",
       "      <td>False</td>\n",
       "    </tr>\n",
       "    <tr>\n",
       "      <th>2</th>\n",
       "      <td>00</td>\n",
       "      <td>False</td>\n",
       "      <td>False</td>\n",
       "      <td>False</td>\n",
       "      <td>False</td>\n",
       "    </tr>\n",
       "    <tr>\n",
       "      <th>3</th>\n",
       "      <td>00</td>\n",
       "      <td>False</td>\n",
       "      <td>False</td>\n",
       "      <td>False</td>\n",
       "      <td>False</td>\n",
       "    </tr>\n",
       "    <tr>\n",
       "      <th>4</th>\n",
       "      <td>00</td>\n",
       "      <td>False</td>\n",
       "      <td>False</td>\n",
       "      <td>False</td>\n",
       "      <td>False</td>\n",
       "    </tr>\n",
       "    <tr>\n",
       "      <th>...</th>\n",
       "      <td>...</td>\n",
       "      <td>...</td>\n",
       "      <td>...</td>\n",
       "      <td>...</td>\n",
       "      <td>...</td>\n",
       "    </tr>\n",
       "    <tr>\n",
       "      <th>2748615</th>\n",
       "      <td>00</td>\n",
       "      <td>False</td>\n",
       "      <td>False</td>\n",
       "      <td>False</td>\n",
       "      <td>False</td>\n",
       "    </tr>\n",
       "    <tr>\n",
       "      <th>2748616</th>\n",
       "      <td>00</td>\n",
       "      <td>False</td>\n",
       "      <td>False</td>\n",
       "      <td>False</td>\n",
       "      <td>False</td>\n",
       "    </tr>\n",
       "    <tr>\n",
       "      <th>2748617</th>\n",
       "      <td>00</td>\n",
       "      <td>False</td>\n",
       "      <td>False</td>\n",
       "      <td>False</td>\n",
       "      <td>False</td>\n",
       "    </tr>\n",
       "    <tr>\n",
       "      <th>2748618</th>\n",
       "      <td>00</td>\n",
       "      <td>False</td>\n",
       "      <td>False</td>\n",
       "      <td>False</td>\n",
       "      <td>False</td>\n",
       "    </tr>\n",
       "    <tr>\n",
       "      <th>2748619</th>\n",
       "      <td>00</td>\n",
       "      <td>False</td>\n",
       "      <td>False</td>\n",
       "      <td>False</td>\n",
       "      <td>False</td>\n",
       "    </tr>\n",
       "  </tbody>\n",
       "</table>\n",
       "<p>2748620 rows × 5 columns</p>\n",
       "</div>"
      ],
      "text/plain": [
       "        cloud  cloud_shadow  cloud_internal  snow_mod35  snow_internal\n",
       "0          00         False           False       False          False\n",
       "1          00         False           False       False          False\n",
       "2          00         False           False       False          False\n",
       "3          00         False           False       False          False\n",
       "4          00         False           False       False          False\n",
       "...       ...           ...             ...         ...            ...\n",
       "2748615    00         False           False       False          False\n",
       "2748616    00         False           False       False          False\n",
       "2748617    00         False           False       False          False\n",
       "2748618    00         False           False       False          False\n",
       "2748619    00         False           False       False          False\n",
       "\n",
       "[2748620 rows x 5 columns]"
      ]
     },
     "execution_count": 34,
     "metadata": {},
     "output_type": "execute_result"
    }
   ],
   "source": [
    "starepandas.io.granules.modis.decode_state(mod09['1km Reflectance Data State QA'])"
   ]
  },
  {
   "cell_type": "code",
   "execution_count": null,
   "id": "aa37d136-d822-4395-aab8-b50a1e8fd586",
   "metadata": {},
   "outputs": [],
   "source": [
    "del mod09\n",
    "gc.collect()"
   ]
  },
  {
   "cell_type": "markdown",
   "id": "1f32d2eb",
   "metadata": {},
   "source": [
    "## MOD05"
   ]
  },
  {
   "cell_type": "code",
   "execution_count": 36,
   "id": "d3f3faf4",
   "metadata": {},
   "outputs": [],
   "source": [
    "fname = '../tests/data/granules/MOD05_L2.A2019336.0000.061.2019336211522.hdf'\n",
    "mod05 = starepandas.read_granule(fname, sidecar=True, latlon=True, xy=True, read_timestamp=True)\n",
    "sids = mod05.to_array(mod05._sid_column_name)\n",
    "#mod05.to_sidecar('test.nc')"
   ]
  },
  {
   "cell_type": "code",
   "execution_count": 37,
   "id": "a77e9851-5e55-4cfa-a9c0-89da5f449134",
   "metadata": {},
   "outputs": [
    {
     "data": {
      "text/html": [
       "<div>\n",
       "<style scoped>\n",
       "    .dataframe tbody tr th:only-of-type {\n",
       "        vertical-align: middle;\n",
       "    }\n",
       "\n",
       "    .dataframe tbody tr th {\n",
       "        vertical-align: top;\n",
       "    }\n",
       "\n",
       "    .dataframe thead th {\n",
       "        text-align: right;\n",
       "    }\n",
       "</style>\n",
       "<table border=\"1\" class=\"dataframe\">\n",
       "  <thead>\n",
       "    <tr style=\"text-align: right;\">\n",
       "      <th></th>\n",
       "      <th>lat</th>\n",
       "      <th>lon</th>\n",
       "      <th>sids</th>\n",
       "      <th>ts_start</th>\n",
       "      <th>ts_end</th>\n",
       "      <th>x</th>\n",
       "      <th>y</th>\n",
       "      <th>Scan_Start_Time</th>\n",
       "      <th>Solar_Zenith</th>\n",
       "      <th>Solar_Azimuth</th>\n",
       "      <th>Sensor_Zenith</th>\n",
       "      <th>Sensor_Azimuth</th>\n",
       "      <th>Water_Vapor_Infrared</th>\n",
       "    </tr>\n",
       "  </thead>\n",
       "  <tbody>\n",
       "    <tr>\n",
       "      <th>0</th>\n",
       "      <td>53.201778</td>\n",
       "      <td>-15.933996</td>\n",
       "      <td>4298473764500464809</td>\n",
       "      <td>2019-12-02</td>\n",
       "      <td>2019-12-02 00:05:00</td>\n",
       "      <td>0</td>\n",
       "      <td>0</td>\n",
       "      <td>8.493984e+08</td>\n",
       "      <td>147.089997</td>\n",
       "      <td>-22.959999</td>\n",
       "      <td>65.339999</td>\n",
       "      <td>-89.519998</td>\n",
       "      <td>NaN</td>\n",
       "    </tr>\n",
       "    <tr>\n",
       "      <th>1</th>\n",
       "      <td>53.203171</td>\n",
       "      <td>-16.288101</td>\n",
       "      <td>4298458168380511209</td>\n",
       "      <td>2019-12-02</td>\n",
       "      <td>2019-12-02 00:05:00</td>\n",
       "      <td>1</td>\n",
       "      <td>0</td>\n",
       "      <td>8.493984e+08</td>\n",
       "      <td>146.999997</td>\n",
       "      <td>-23.539999</td>\n",
       "      <td>64.719999</td>\n",
       "      <td>-89.799998</td>\n",
       "      <td>NaN</td>\n",
       "    </tr>\n",
       "    <tr>\n",
       "      <th>2</th>\n",
       "      <td>53.203518</td>\n",
       "      <td>-16.629105</td>\n",
       "      <td>4297394569014717897</td>\n",
       "      <td>2019-12-02</td>\n",
       "      <td>2019-12-02 00:05:00</td>\n",
       "      <td>2</td>\n",
       "      <td>0</td>\n",
       "      <td>8.493984e+08</td>\n",
       "      <td>146.919997</td>\n",
       "      <td>-24.099999</td>\n",
       "      <td>64.109999</td>\n",
       "      <td>-90.079998</td>\n",
       "      <td>NaN</td>\n",
       "    </tr>\n",
       "    <tr>\n",
       "      <th>3</th>\n",
       "      <td>53.202934</td>\n",
       "      <td>-16.957928</td>\n",
       "      <td>4297300698872999369</td>\n",
       "      <td>2019-12-02</td>\n",
       "      <td>2019-12-02 00:05:00</td>\n",
       "      <td>3</td>\n",
       "      <td>0</td>\n",
       "      <td>8.493984e+08</td>\n",
       "      <td>146.839997</td>\n",
       "      <td>-24.639999</td>\n",
       "      <td>63.509999</td>\n",
       "      <td>-90.339998</td>\n",
       "      <td>NaN</td>\n",
       "    </tr>\n",
       "    <tr>\n",
       "      <th>4</th>\n",
       "      <td>53.201508</td>\n",
       "      <td>-17.275316</td>\n",
       "      <td>4297290857922121161</td>\n",
       "      <td>2019-12-02</td>\n",
       "      <td>2019-12-02 00:05:00</td>\n",
       "      <td>4</td>\n",
       "      <td>0</td>\n",
       "      <td>8.493984e+08</td>\n",
       "      <td>146.759997</td>\n",
       "      <td>-25.159999</td>\n",
       "      <td>62.909999</td>\n",
       "      <td>-90.589998</td>\n",
       "      <td>NaN</td>\n",
       "    </tr>\n",
       "    <tr>\n",
       "      <th>...</th>\n",
       "      <td>...</td>\n",
       "      <td>...</td>\n",
       "      <td>...</td>\n",
       "      <td>...</td>\n",
       "      <td>...</td>\n",
       "      <td>...</td>\n",
       "      <td>...</td>\n",
       "      <td>...</td>\n",
       "      <td>...</td>\n",
       "      <td>...</td>\n",
       "      <td>...</td>\n",
       "      <td>...</td>\n",
       "      <td>...</td>\n",
       "    </tr>\n",
       "    <tr>\n",
       "      <th>109615</th>\n",
       "      <td>64.084297</td>\n",
       "      <td>-66.281410</td>\n",
       "      <td>3727686638370615689</td>\n",
       "      <td>2019-12-02</td>\n",
       "      <td>2019-12-02 00:05:00</td>\n",
       "      <td>265</td>\n",
       "      <td>405</td>\n",
       "      <td>8.493987e+08</td>\n",
       "      <td>121.569997</td>\n",
       "      <td>-74.679998</td>\n",
       "      <td>62.229999</td>\n",
       "      <td>47.999999</td>\n",
       "      <td>NaN</td>\n",
       "    </tr>\n",
       "    <tr>\n",
       "      <th>109616</th>\n",
       "      <td>63.960953</td>\n",
       "      <td>-66.591354</td>\n",
       "      <td>3727661374545790857</td>\n",
       "      <td>2019-12-02</td>\n",
       "      <td>2019-12-02 00:05:00</td>\n",
       "      <td>266</td>\n",
       "      <td>405</td>\n",
       "      <td>8.493987e+08</td>\n",
       "      <td>121.469997</td>\n",
       "      <td>-75.049998</td>\n",
       "      <td>62.819999</td>\n",
       "      <td>47.719999</td>\n",
       "      <td>NaN</td>\n",
       "    </tr>\n",
       "    <tr>\n",
       "      <th>109617</th>\n",
       "      <td>63.831799</td>\n",
       "      <td>-66.911255</td>\n",
       "      <td>3727838256925064969</td>\n",
       "      <td>2019-12-02</td>\n",
       "      <td>2019-12-02 00:05:00</td>\n",
       "      <td>267</td>\n",
       "      <td>405</td>\n",
       "      <td>8.493987e+08</td>\n",
       "      <td>121.369997</td>\n",
       "      <td>-75.439998</td>\n",
       "      <td>63.419999</td>\n",
       "      <td>47.429999</td>\n",
       "      <td>NaN</td>\n",
       "    </tr>\n",
       "    <tr>\n",
       "      <th>109618</th>\n",
       "      <td>63.698635</td>\n",
       "      <td>-67.236229</td>\n",
       "      <td>3727843063731949801</td>\n",
       "      <td>2019-12-02</td>\n",
       "      <td>2019-12-02 00:05:00</td>\n",
       "      <td>268</td>\n",
       "      <td>405</td>\n",
       "      <td>8.493987e+08</td>\n",
       "      <td>121.259997</td>\n",
       "      <td>-75.829998</td>\n",
       "      <td>64.019999</td>\n",
       "      <td>47.139999</td>\n",
       "      <td>NaN</td>\n",
       "    </tr>\n",
       "    <tr>\n",
       "      <th>109619</th>\n",
       "      <td>63.551617</td>\n",
       "      <td>-67.589508</td>\n",
       "      <td>3727853163225616425</td>\n",
       "      <td>2019-12-02</td>\n",
       "      <td>2019-12-02 00:05:00</td>\n",
       "      <td>269</td>\n",
       "      <td>405</td>\n",
       "      <td>8.493987e+08</td>\n",
       "      <td>121.149997</td>\n",
       "      <td>-76.249998</td>\n",
       "      <td>64.639999</td>\n",
       "      <td>46.819999</td>\n",
       "      <td>NaN</td>\n",
       "    </tr>\n",
       "  </tbody>\n",
       "</table>\n",
       "<p>109620 rows × 13 columns</p>\n",
       "</div>"
      ],
      "text/plain": [
       "              lat        lon                 sids   ts_start  \\\n",
       "0       53.201778 -15.933996  4298473764500464809 2019-12-02   \n",
       "1       53.203171 -16.288101  4298458168380511209 2019-12-02   \n",
       "2       53.203518 -16.629105  4297394569014717897 2019-12-02   \n",
       "3       53.202934 -16.957928  4297300698872999369 2019-12-02   \n",
       "4       53.201508 -17.275316  4297290857922121161 2019-12-02   \n",
       "...           ...        ...                  ...        ...   \n",
       "109615  64.084297 -66.281410  3727686638370615689 2019-12-02   \n",
       "109616  63.960953 -66.591354  3727661374545790857 2019-12-02   \n",
       "109617  63.831799 -66.911255  3727838256925064969 2019-12-02   \n",
       "109618  63.698635 -67.236229  3727843063731949801 2019-12-02   \n",
       "109619  63.551617 -67.589508  3727853163225616425 2019-12-02   \n",
       "\n",
       "                    ts_end    x    y  Scan_Start_Time  Solar_Zenith  \\\n",
       "0      2019-12-02 00:05:00    0    0     8.493984e+08    147.089997   \n",
       "1      2019-12-02 00:05:00    1    0     8.493984e+08    146.999997   \n",
       "2      2019-12-02 00:05:00    2    0     8.493984e+08    146.919997   \n",
       "3      2019-12-02 00:05:00    3    0     8.493984e+08    146.839997   \n",
       "4      2019-12-02 00:05:00    4    0     8.493984e+08    146.759997   \n",
       "...                    ...  ...  ...              ...           ...   \n",
       "109615 2019-12-02 00:05:00  265  405     8.493987e+08    121.569997   \n",
       "109616 2019-12-02 00:05:00  266  405     8.493987e+08    121.469997   \n",
       "109617 2019-12-02 00:05:00  267  405     8.493987e+08    121.369997   \n",
       "109618 2019-12-02 00:05:00  268  405     8.493987e+08    121.259997   \n",
       "109619 2019-12-02 00:05:00  269  405     8.493987e+08    121.149997   \n",
       "\n",
       "        Solar_Azimuth  Sensor_Zenith  Sensor_Azimuth  Water_Vapor_Infrared  \n",
       "0          -22.959999      65.339999      -89.519998                   NaN  \n",
       "1          -23.539999      64.719999      -89.799998                   NaN  \n",
       "2          -24.099999      64.109999      -90.079998                   NaN  \n",
       "3          -24.639999      63.509999      -90.339998                   NaN  \n",
       "4          -25.159999      62.909999      -90.589998                   NaN  \n",
       "...               ...            ...             ...                   ...  \n",
       "109615     -74.679998      62.229999       47.999999                   NaN  \n",
       "109616     -75.049998      62.819999       47.719999                   NaN  \n",
       "109617     -75.439998      63.419999       47.429999                   NaN  \n",
       "109618     -75.829998      64.019999       47.139999                   NaN  \n",
       "109619     -76.249998      64.639999       46.819999                   NaN  \n",
       "\n",
       "[109620 rows x 13 columns]"
      ]
     },
     "execution_count": 37,
     "metadata": {},
     "output_type": "execute_result"
    }
   ],
   "source": [
    "mod05"
   ]
  },
  {
   "cell_type": "markdown",
   "id": "68aad75a-0e06-4f27-a438-6fa5cc9a4c21",
   "metadata": {},
   "source": [
    "### Subset Loading"
   ]
  },
  {
   "cell_type": "code",
   "execution_count": 38,
   "id": "4a4da8f7-3279-4e94-9db6-22059770f66f",
   "metadata": {},
   "outputs": [],
   "source": [
    "import shapely\n",
    "roi = shapely.geometry.Polygon([[-120, 37],[-120, 38],[-119, 38],[-119, 37]])\n",
    "roi = geopandas.GeoDataFrame(geometry=[roi], crs=4326)\n",
    "roi = starepandas.STAREDataFrame(roi)\n",
    "roi['sids'] = roi.make_sids(level=10)\n",
    "sids = roi.sids.iloc[0]"
   ]
  },
  {
   "cell_type": "code",
   "execution_count": 39,
   "id": "935404ad-29c3-4f7b-9f64-930f552ed5e8",
   "metadata": {},
   "outputs": [
    {
     "data": {
      "text/plain": [
       "<AxesSubplot:>"
      ]
     },
     "execution_count": 39,
     "metadata": {},
     "output_type": "execute_result"
    },
    {
     "data": {
      "image/png": "[encoded data removed]",
      "text/plain": [
       "<Figure size 432x288 with 1 Axes>"
      ]
     },
     "metadata": {
      "needs_background": "light"
     },
     "output_type": "display_data"
    }
   ],
   "source": [
    "roi.plot(trixels=False)"
   ]
  },
  {
   "cell_type": "code",
   "execution_count": 40,
   "id": "35dc0658-b138-4276-a4a6-0c979cf33187",
   "metadata": {},
   "outputs": [],
   "source": [
    "fname = '../tests/data/granules/MOD05_L2.A2019336.0000.061.2019336211522.hdf'\n",
    "mod = starepandas.io.granules.Mod05(fname)\n",
    "mod.read_sidecar_index()"
   ]
  },
  {
   "cell_type": "code",
   "execution_count": 41,
   "id": "a0c3c7ea-a9ec-49bf-9084-1c97b4b1b595",
   "metadata": {},
   "outputs": [
    {
     "data": {
      "text/plain": [
       "array([[False, False, False, ..., False, False, False],\n",
       "       [False, False, False, ..., False, False, False],\n",
       "       [False, False, False, ..., False, False, False],\n",
       "       ...,\n",
       "       [False, False, False, ..., False, False, False],\n",
       "       [False, False, False, ..., False, False, False],\n",
       "       [False, False, False, ..., False, False, False]])"
      ]
     },
     "execution_count": 41,
     "metadata": {},
     "output_type": "execute_result"
    }
   ],
   "source": [
    "intersects = pystare.intersects(sids, mod.sids.flatten())\n",
    "intersects = numpy.reshape(intersects, mod.sids.shape)\n",
    "intersects"
   ]
  },
  {
   "cell_type": "markdown",
   "id": "16162b1b",
   "metadata": {},
   "source": [
    "## VNP02"
   ]
  },
  {
   "cell_type": "code",
   "execution_count": null,
   "id": "622c6ca1",
   "metadata": {},
   "outputs": [],
   "source": [
    "vnp02_name = '../tests/data/granules/viirs/VNP02DNB.A2022308.1930.002.2022309051542.nc'\n",
    "vnp02 = starepandas.read_granule(vnp02_name, sidecar=False, latlon=False)\n",
    "\n",
    "vnp03_name = '../tests/data/granules/viirs/VNP03DNB.A2022308.1930.002.2022309041547.nc'\n",
    "vnp03 = starepandas.read_granule(vnp03_name, sidecar=True, latlon=False)"
   ]
  },
  {
   "cell_type": "code",
   "execution_count": null,
   "id": "67315c2b",
   "metadata": {},
   "outputs": [],
   "source": [
    "vnp02 = vnp03.join(vnp02)"
   ]
  },
  {
   "cell_type": "code",
   "execution_count": null,
   "id": "e93de612",
   "metadata": {},
   "outputs": [],
   "source": [
    "vnp02[(vnp02.land_water_mask==2) | (vnp02.land_water_mask==4) | (vnp02.land_water_mask==6) | (vnp02.land_water_mask==7)]"
   ]
  },
  {
   "cell_type": "code",
   "execution_count": null,
   "id": "c6b22c3d-7403-4be8-81b1-940c685979ea",
   "metadata": {},
   "outputs": [],
   "source": [
    "del vnp02, vnp03\n",
    "gc.collect()"
   ]
  },
  {
   "cell_type": "markdown",
   "id": "efbd5e95",
   "metadata": {},
   "source": [
    "## VNP CLDMSK"
   ]
  },
  {
   "cell_type": "code",
   "execution_count": null,
   "id": "424c9c08",
   "metadata": {},
   "outputs": [],
   "source": [
    "cldmsk_name = '../tests/data/granules/CLDMSK_L2_VIIRS_SNPP.A2020219.0742.001.2020219190616.nc'\n",
    "cldmsk = starepandas.io.granules.CLDMSKL2VIIRS(cldmsk_name)"
   ]
  },
  {
   "cell_type": "code",
   "execution_count": null,
   "id": "86eb7fae",
   "metadata": {},
   "outputs": [],
   "source": [
    "cldmsk.read_latlon()\n",
    "cldmsk.read_data()\n",
    "cldmsk.to_df()"
   ]
  },
  {
   "cell_type": "code",
   "execution_count": null,
   "id": "e94242a0-2435-4764-bfb5-fe60a7e58209",
   "metadata": {},
   "outputs": [],
   "source": [
    "del cldmsk\n",
    "gc.collect()"
   ]
  },
  {
   "cell_type": "markdown",
   "id": "5ccc701d",
   "metadata": {},
   "source": [
    "## Plotting"
   ]
  },
  {
   "cell_type": "code",
   "execution_count": null,
   "id": "e50b81d3",
   "metadata": {},
   "outputs": [],
   "source": [
    "path = '../tests/data/granules/viirs/VNP03DNB.A2022308.1930.002.2022309041547.nc'\n",
    "vnp03dnb = starepandas.io.granules.VNP03DNB(path)\n",
    "vnp03dnb.read_latlon()\n",
    "\n",
    "path = '../tests/data/granules/viirs/VNP03MOD.A2022308.1930.002.2022309041547.nc'\n",
    "vnp03mod = starepandas.io.granules.VNP03MOD(path)\n",
    "vnp03mod.read_latlon()\n",
    "\n",
    "path = '../tests/data/granules/CLDMSK_L2_VIIRS_SNPP.A2020219.0742.001.2020219190616.nc'\n",
    "cldmsk = starepandas.io.granules.CLDMSKL2VIIRS(path)\n",
    "cldmsk.read_latlon()"
   ]
  },
  {
   "cell_type": "code",
   "execution_count": null,
   "id": "023a29c9",
   "metadata": {},
   "outputs": [],
   "source": [
    "fig, ax = plt.subplots(figsize=(5,5), dpi=100)\n",
    "\n",
    "n = 20\n",
    "ns = 0\n",
    "nt = 0\n",
    "\n",
    "ax.grid('on')\n",
    "\n",
    "ax.plot(cldmsk.lon[ns:ns+n, nt:nt+n].flatten(), cldmsk.lat[ns:ns+n, nt:nt+n].flatten(), \n",
    "        color='r', lw=0, marker='.')\n",
    "\n",
    "ax.plot(vnp03mod.lon[ns:ns+n, nt:nt+n].flatten(), vnp03mod.lat[ns:ns+n, nt:nt+n].flatten(), \n",
    "        color='g',lw=0, marker='.')\n",
    "\n",
    "ax.plot(vnp03dnb.lon[ns:ns+n, nt:nt+n].flatten(), vnp03dnb.lat[ns:ns+n, nt:nt+n].flatten(), \n",
    "        color='b',lw=0, marker='.')"
   ]
  },
  {
   "cell_type": "code",
   "execution_count": null,
   "id": "4421e5ee",
   "metadata": {},
   "outputs": [],
   "source": []
  }
 ],
 "metadata": {
  "kernelspec": {
   "display_name": "Python 3 (ipykernel)",
   "language": "python",
   "name": "python3"
  },
  "language_info": {
   "codemirror_mode": {
    "name": "ipython",
    "version": 3
   },
   "file_extension": ".py",
   "mimetype": "text/x-python",
   "name": "python",
   "nbconvert_exporter": "python",
   "pygments_lexer": "ipython3",
   "version": "3.10.6"
  }
 },
 "nbformat": 4,
 "nbformat_minor": 5
}
