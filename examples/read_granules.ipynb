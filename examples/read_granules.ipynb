{
 "cells": [
  {
   "cell_type": "markdown",
   "id": "6fb1386c",
   "metadata": {},
   "source": [
    "# Read Granules"
   ]
  },
  {
   "cell_type": "code",
   "execution_count": null,
   "id": "d74b0c0e",
   "metadata": {},
   "outputs": [],
   "source": [
    "import starepandas\n",
    "import netCDF4\n",
    "import matplotlib.pyplot as plt\n",
    "import numpy\n",
    "import pandas\n",
    "import time\n",
    "import copy\n",
    "import geopandas\n",
    "import pystare"
   ]
  },
  {
   "cell_type": "markdown",
   "id": "6962199e",
   "metadata": {},
   "source": [
    "## Manually reading "
   ]
  },
  {
   "cell_type": "code",
   "execution_count": null,
   "id": "81aa6cf3",
   "metadata": {},
   "outputs": [],
   "source": [
    "vnp03_name = '../tests/data/granules/VNP03DNB.A2020219.0742.001.2020219124651.nc'\n",
    "vnp03 = starepandas.io.granules.VNP03DNB(vnp03_name)\n",
    "vnp03.read_latlon()\n",
    "vnp03.read_data()\n",
    "vnp03 = vnp03.to_df(xy=True)"
   ]
  },
  {
   "cell_type": "markdown",
   "id": "1f32d2eb",
   "metadata": {},
   "source": [
    "## MOD05"
   ]
  },
  {
   "cell_type": "code",
   "execution_count": null,
   "id": "d3f3faf4",
   "metadata": {},
   "outputs": [],
   "source": [
    "fname = '../tests/data/granules/MOD05_L2.A2019336.0000.061.2019336211522.hdf'\n",
    "mod05 = starepandas.read_granule(fname, sidecar=True, latlon=True, xy=True, read_timestamp=True)\n",
    "sids = mod05.to_array(mod05._sid_column_name)\n",
    "mod05.to_sidecar('test.nc')"
   ]
  },
  {
   "cell_type": "code",
   "execution_count": null,
   "id": "a77e9851-5e55-4cfa-a9c0-89da5f449134",
   "metadata": {},
   "outputs": [],
   "source": [
    "mod05"
   ]
  },
  {
   "cell_type": "code",
   "execution_count": null,
   "id": "3b135eca-836c-4a67-ae6f-689da4878a5b",
   "metadata": {},
   "outputs": [],
   "source": [
    "geom = geopandas.points_from_xy(mod05.lon, mod05.lat)\n",
    "trixels = mod05.make_trixels(n_workers=6)\n",
    "mod05.set_trixels(trixels, inplace=True)\n",
    "mod05.set_geometry(geom, inplace=True)\n",
    "mod05 = mod05.set_crs(4326)"
   ]
  },
  {
   "cell_type": "markdown",
   "id": "68aad75a-0e06-4f27-a438-6fa5cc9a4c21",
   "metadata": {},
   "source": [
    "### Subset Loading"
   ]
  },
  {
   "cell_type": "code",
   "execution_count": null,
   "id": "4a4da8f7-3279-4e94-9db6-22059770f66f",
   "metadata": {},
   "outputs": [],
   "source": [
    "import shapely\n",
    "#roi = shapely.geometry.Polygon([[-30, 50],[-30, 55],[-25, 55],[-25, 50]])\n",
    "roi = shapely.geometry.Polygon([[-120, 37],[-120, 38],[-119, 38],[-119, 37]])\n",
    "roi = geopandas.GeoDataFrame(geometry=[roi], crs=4326)\n",
    "roi = starepandas.STAREDataFrame(roi)\n",
    "roi['sids'] = roi.make_sids(resolution=10)\n",
    "sids = roi.sids.iloc[0]"
   ]
  },
  {
   "cell_type": "code",
   "execution_count": null,
   "id": "935404ad-29c3-4f7b-9f64-930f552ed5e8",
   "metadata": {},
   "outputs": [],
   "source": [
    "roi.plot(trixels=False)"
   ]
  },
  {
   "cell_type": "code",
   "execution_count": null,
   "id": "35dc0658-b138-4276-a4a6-0c979cf33187",
   "metadata": {},
   "outputs": [],
   "source": [
    "#fname = '../tests/data/granules/MOD05_L2.A2019336.0000.061.2019336211522.hdf'\n",
    "fname = '/home/griessbaum/MOD09.A2012244.1835.006.2015248083747.hdf'\n",
    "mod = starepandas.io.granules.Mod09(fname)\n",
    "mod.read_sidecar_index()"
   ]
  },
  {
   "cell_type": "code",
   "execution_count": null,
   "id": "a0c3c7ea-a9ec-49bf-9084-1c97b4b1b595",
   "metadata": {},
   "outputs": [],
   "source": [
    "intersects = pystare.intersects(sids, mod.sids.flatten())\n",
    "intersects = numpy.reshape(intersects, mod.sids.shape)\n",
    "intersects"
   ]
  },
  {
   "cell_type": "code",
   "execution_count": null,
   "id": "87ca92db-57fb-4953-ad1b-6a4640d8407c",
   "metadata": {},
   "outputs": [],
   "source": [
    "import pyhdf\n",
    "import time\n",
    "hdf = pyhdf.SD.SD(fname)\n",
    "\n",
    "start = time.time()\n",
    "for i in range(0, 100):\n",
    "    d = hdf.select('Longitude').get()#[intersects]\n",
    "time.time() - start"
   ]
  },
  {
   "cell_type": "markdown",
   "id": "16162b1b",
   "metadata": {},
   "source": [
    "## VNP02"
   ]
  },
  {
   "cell_type": "code",
   "execution_count": null,
   "id": "622c6ca1",
   "metadata": {},
   "outputs": [],
   "source": [
    "vnp02_name = '../tests/data/granules/VNP02DNB.A2020219.0742.001.2020219125654.nc'\n",
    "vnp02 = starepandas.read_granule(vnp02_name, sidecar=False, latlon=False)"
   ]
  },
  {
   "cell_type": "code",
   "execution_count": null,
   "id": "67315c2b",
   "metadata": {},
   "outputs": [],
   "source": [
    "vnp02 = vnp03.join(vnp02)"
   ]
  },
  {
   "cell_type": "code",
   "execution_count": null,
   "id": "e93de612",
   "metadata": {},
   "outputs": [],
   "source": [
    "vnp02[(vnp02.land_water_mask==2) | (vnp02.land_water_mask==4) | (vnp02.land_water_mask==6) | (vnp02.land_water_mask==7)]"
   ]
  },
  {
   "cell_type": "markdown",
   "id": "efbd5e95",
   "metadata": {},
   "source": [
    "## VNP CLDMSK"
   ]
  },
  {
   "cell_type": "code",
   "execution_count": null,
   "id": "424c9c08",
   "metadata": {},
   "outputs": [],
   "source": [
    "cldmsk_name = '../tests/data/granules/CLDMSK_L2_VIIRS_SNPP.A2020219.0742.001.2020219190616.nc'"
   ]
  },
  {
   "cell_type": "code",
   "execution_count": null,
   "id": "b00fe1b3",
   "metadata": {},
   "outputs": [],
   "source": [
    "cldmsk = starepandas.io.granules.CLDMSKL2VIIRS(cldmsk_name)"
   ]
  },
  {
   "cell_type": "code",
   "execution_count": null,
   "id": "86eb7fae",
   "metadata": {},
   "outputs": [],
   "source": [
    "cldmsk.read_latlon()\n",
    "cldmsk.read_data()\n",
    "cldmsk.to_df()"
   ]
  },
  {
   "cell_type": "markdown",
   "id": "5ccc701d",
   "metadata": {},
   "source": [
    "## Plotting"
   ]
  },
  {
   "cell_type": "code",
   "execution_count": null,
   "id": "e50b81d3",
   "metadata": {},
   "outputs": [],
   "source": [
    "path = '../tests/data/granules/VNP03DNB.A2020219.0742.001.2020219124651.nc'\n",
    "vnp03dnb = starepandas.io.granules.VIIRSL2(path)\n",
    "vnp03dnb.read_latlon()\n",
    "\n",
    "path = '../tests/data/granules/VNP03MOD.A2020219.0742.001.2020219124651.nc'\n",
    "vnp03mod = starepandas.io.granules.VIIRSL2(path)\n",
    "vnp03mod.read_latlon()\n",
    "\n",
    "path = '../tests/data/granules/CLDMSK_L2_VIIRS_SNPP.A2020219.0742.001.2020219190616.nc'\n",
    "cldmsk = starepandas.io.granules.VIIRSL2(path)\n",
    "cldmsk.read_latlon()"
   ]
  },
  {
   "cell_type": "code",
   "execution_count": null,
   "id": "023a29c9",
   "metadata": {},
   "outputs": [],
   "source": [
    "fig, ax = plt.subplots(figsize=(5,5), dpi=200)\n",
    "\n",
    "n = 20\n",
    "ns = 0\n",
    "nt = 0\n",
    "\n",
    "ax.grid('on')\n",
    "\n",
    "ax.plot(cldmsk.lon[ns:ns+n, nt:nt+n].flatten(), cldmsk.lat[ns:ns+n, nt:nt+n].flatten(), \n",
    "        color='r', lw=0, marker='.')\n",
    "\n",
    "ax.plot(vnp03mod.lon[ns:ns+n, nt:nt+n].flatten(), vnp03mod.lat[ns:ns+n, nt:nt+n].flatten(), \n",
    "        color='g',lw=0, marker='.')\n",
    "\n",
    "ax.plot(vnp03dnb.lon[ns:ns+n, nt:nt+n].flatten(), vnp03dnb.lat[ns:ns+n, nt:nt+n].flatten(), \n",
    "        color='b',lw=0, marker='.')"
   ]
  },
  {
   "cell_type": "code",
   "execution_count": null,
   "id": "4421e5ee",
   "metadata": {},
   "outputs": [],
   "source": []
  }
 ],
 "metadata": {
  "kernelspec": {
   "display_name": "Python 3",
   "language": "python",
   "name": "python3"
  },
  "language_info": {
   "codemirror_mode": {
    "name": "ipython",
    "version": 3
   },
   "file_extension": ".py",
   "mimetype": "text/x-python",
   "name": "python",
   "nbconvert_exporter": "python",
   "pygments_lexer": "ipython3",
   "version": "3.8.10"
  }
 },
 "nbformat": 4,
 "nbformat_minor": 5
}
