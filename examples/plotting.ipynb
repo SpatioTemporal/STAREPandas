{
 "cells": [
  {
   "cell_type": "markdown",
   "id": "2a687cb1-1274-4c3e-94b6-8220c6509e96",
   "metadata": {},
   "source": [
    "# Plotting"
   ]
  },
  {
   "cell_type": "code",
   "execution_count": 1,
   "id": "0c88bb56-3951-4c84-b7b7-b30757b7d0fe",
   "metadata": {
    "execution": {
     "iopub.execute_input": "2022-09-15T05:09:12.596965Z",
     "iopub.status.busy": "2022-09-15T05:09:12.596749Z",
     "iopub.status.idle": "2022-09-15T05:09:13.947892Z",
     "shell.execute_reply": "2022-09-15T05:09:13.947404Z"
    }
   },
   "outputs": [],
   "source": [
    "import starepandas\n",
    "import pandas\n",
    "import geopandas"
   ]
  },
  {
   "cell_type": "code",
   "execution_count": 2,
   "id": "39874b42-065b-4d19-bc73-5225c45ebd0a",
   "metadata": {
    "execution": {
     "iopub.execute_input": "2022-09-15T05:09:13.951265Z",
     "iopub.status.busy": "2022-09-15T05:09:13.950804Z",
     "iopub.status.idle": "2022-09-15T05:09:13.958814Z",
     "shell.execute_reply": "2022-09-15T05:09:13.958313Z"
    }
   },
   "outputs": [
    {
     "data": {
      "text/plain": [
       "'0.6.0+2.g3287417.dirty'"
      ]
     },
     "execution_count": 2,
     "metadata": {},
     "output_type": "execute_result"
    }
   ],
   "source": [
    "starepandas.__version__"
   ]
  },
  {
   "cell_type": "code",
   "execution_count": 3,
   "id": "513dce01-bc80-4450-a281-cebbd69392ef",
   "metadata": {
    "execution": {
     "iopub.execute_input": "2022-09-15T05:09:13.961354Z",
     "iopub.status.busy": "2022-09-15T05:09:13.961103Z",
     "iopub.status.idle": "2022-09-15T05:09:13.964693Z",
     "shell.execute_reply": "2022-09-15T05:09:13.964109Z"
    }
   },
   "outputs": [],
   "source": [
    "cities = ['Buenos Aires', 'Brasilia', 'Santiago', 'Bogota', 'Caracas']\n",
    "countries = ['Argentina', 'Brazil', 'Chile', 'Colombia', 'Venezuela']\n",
    "latitudes = [-34.58, -15.78, -33.45, 4.60, 10.48]\n",
    "longitudes = [-58.66, -47.91, -70.66, -74.08, -66.86]\n",
    "data = {'City': cities,  'Country': countries,\n",
    "        'Latitude': latitudes, 'Longitude': longitudes}"
   ]
  },
  {
   "cell_type": "code",
   "execution_count": 4,
   "id": "f9086c7a-d3a2-4e36-9d08-fdfb3cc794c0",
   "metadata": {
    "execution": {
     "iopub.execute_input": "2022-09-15T05:09:13.966990Z",
     "iopub.status.busy": "2022-09-15T05:09:13.966723Z",
     "iopub.status.idle": "2022-09-15T05:09:13.980803Z",
     "shell.execute_reply": "2022-09-15T05:09:13.980260Z"
    }
   },
   "outputs": [],
   "source": [
    "df = pandas.DataFrame(data)\n",
    "geom = geopandas.points_from_xy(df.Longitude, df.Latitude)\n",
    "gdf = geopandas.GeoDataFrame(df, geometry=geom)\n",
    "\n",
    "stare = starepandas.sids_from_gdf(gdf, level=5)\n",
    "sdf = starepandas.STAREDataFrame(gdf)\n",
    "sdf.set_sids(stare, inplace=True)\n",
    "\n",
    "trixels = sdf.make_trixels()\n",
    "trixel_df = sdf.set_trixels(trixels, inplace=False)"
   ]
  },
  {
   "cell_type": "code",
   "execution_count": 5,
   "id": "fa5a0676-f8f4-4718-b0bc-dc4a687a66a2",
   "metadata": {
    "execution": {
     "iopub.execute_input": "2022-09-15T05:09:13.983403Z",
     "iopub.status.busy": "2022-09-15T05:09:13.983028Z",
     "iopub.status.idle": "2022-09-15T05:09:14.458935Z",
     "shell.execute_reply": "2022-09-15T05:09:14.458253Z"
    }
   },
   "outputs": [
    {
     "data": {
      "text/plain": [
       "<AxesSubplot:>"
      ]
     },
     "execution_count": 5,
     "metadata": {},
     "output_type": "execute_result"
    },
    {
     "data": {
      "image/png": "[encoded data removed]",
      "text/plain": [
       "<Figure size 432x288 with 1 Axes>"
      ]
     },
     "metadata": {
      "needs_background": "light"
     },
     "output_type": "display_data"
    }
   ],
   "source": [
    "trixel_df.plot(trixels=False, boundary=False)"
   ]
  },
  {
   "cell_type": "code",
   "execution_count": 6,
   "id": "c90aa74d-2575-448b-946a-07d240e609c6",
   "metadata": {
    "execution": {
     "iopub.execute_input": "2022-09-15T05:09:14.461739Z",
     "iopub.status.busy": "2022-09-15T05:09:14.461498Z",
     "iopub.status.idle": "2022-09-15T05:09:14.468045Z",
     "shell.execute_reply": "2022-09-15T05:09:14.467613Z"
    }
   },
   "outputs": [
    {
     "data": {
      "text/plain": [
       "0    POINT (-58.66000 -34.58000)\n",
       "1    POINT (-47.91000 -15.78000)\n",
       "2    POINT (-70.66000 -33.45000)\n",
       "3      POINT (-74.08000 4.60000)\n",
       "4     POINT (-66.86000 10.48000)\n",
       "Name: geometry, dtype: geometry"
      ]
     },
     "execution_count": 6,
     "metadata": {},
     "output_type": "execute_result"
    }
   ],
   "source": [
    "trixel_df[trixel_df._geometry_column_name]"
   ]
  },
  {
   "cell_type": "code",
   "execution_count": 7,
   "id": "9a5a0420-61e5-467f-b272-62d74f98ba88",
   "metadata": {
    "execution": {
     "iopub.execute_input": "2022-09-15T05:09:14.469867Z",
     "iopub.status.busy": "2022-09-15T05:09:14.469656Z",
     "iopub.status.idle": "2022-09-15T05:09:14.472892Z",
     "shell.execute_reply": "2022-09-15T05:09:14.472462Z"
    }
   },
   "outputs": [
    {
     "data": {
      "text/plain": [
       "'geometry'"
      ]
     },
     "execution_count": 7,
     "metadata": {},
     "output_type": "execute_result"
    }
   ],
   "source": [
    "trixel_df._geometry_column_name"
   ]
  },
  {
   "cell_type": "code",
   "execution_count": 8,
   "id": "ba94d9b4-8422-4dc2-b693-2588da5aea68",
   "metadata": {
    "execution": {
     "iopub.execute_input": "2022-09-15T05:09:14.474734Z",
     "iopub.status.busy": "2022-09-15T05:09:14.474526Z",
     "iopub.status.idle": "2022-09-15T05:09:14.477324Z",
     "shell.execute_reply": "2022-09-15T05:09:14.476884Z"
    }
   },
   "outputs": [],
   "source": [
    "import shapely\n",
    "polygon = shapely.geometry.Polygon([(0, 0), (1, 1), (1, 0)])"
   ]
  },
  {
   "cell_type": "code",
   "execution_count": 9,
   "id": "e8f33b9c-05ee-489e-971b-5e588ac57c4f",
   "metadata": {
    "execution": {
     "iopub.execute_input": "2022-09-15T05:09:14.479033Z",
     "iopub.status.busy": "2022-09-15T05:09:14.478841Z",
     "iopub.status.idle": "2022-09-15T05:09:14.487449Z",
     "shell.execute_reply": "2022-09-15T05:09:14.486892Z"
    }
   },
   "outputs": [
    {
     "data": {
      "text/plain": [
       "array([4430697608402436102, 4430838345890791430, 4430979083379146758])"
      ]
     },
     "execution_count": 9,
     "metadata": {},
     "output_type": "execute_result"
    }
   ],
   "source": [
    "starepandas.sids_from_ring(polygon.exterior, force_ccw=True, level=6)"
   ]
  },
  {
   "cell_type": "code",
   "execution_count": 10,
   "id": "220e28b9-a300-4930-9d41-66c2a889eba8",
   "metadata": {
    "execution": {
     "iopub.execute_input": "2022-09-15T05:09:14.489770Z",
     "iopub.status.busy": "2022-09-15T05:09:14.489454Z",
     "iopub.status.idle": "2022-09-15T05:09:14.494664Z",
     "shell.execute_reply": "2022-09-15T05:09:14.494315Z"
    }
   },
   "outputs": [
    {
     "data": {
      "image/svg+xml": [
       "<svg xmlns=\"http://www.w3.org/2000/svg\" xmlns:xlink=\"http://www.w3.org/1999/xlink\" width=\"100.0\" height=\"100.0\" viewBox=\"-0.04 -0.04 1.08 1.08\" preserveAspectRatio=\"xMinYMin meet\"><g transform=\"matrix(1,0,0,-1,0,1.0)\"><polyline fill=\"none\" stroke=\"#66cc99\" stroke-width=\"0.0216\" points=\"0.0,0.0 1.0,1.0 1.0,0.0 0.0,0.0\" opacity=\"0.8\" /></g></svg>"
      ],
      "text/plain": [
       "<shapely.geometry.polygon.LinearRing at 0x7f03665dc880>"
      ]
     },
     "execution_count": 10,
     "metadata": {},
     "output_type": "execute_result"
    }
   ],
   "source": [
    "polygon.exterior"
   ]
  },
  {
   "cell_type": "code",
   "execution_count": 11,
   "id": "03071cc2-0d4a-41c3-b2ba-97ae966e942b",
   "metadata": {
    "execution": {
     "iopub.execute_input": "2022-09-15T05:09:14.496584Z",
     "iopub.status.busy": "2022-09-15T05:09:14.496366Z",
     "iopub.status.idle": "2022-09-15T05:09:14.500551Z",
     "shell.execute_reply": "2022-09-15T05:09:14.499995Z"
    }
   },
   "outputs": [
    {
     "data": {
      "image/svg+xml": [
       "<svg xmlns=\"http://www.w3.org/2000/svg\" xmlns:xlink=\"http://www.w3.org/1999/xlink\" width=\"100.0\" height=\"100.0\" viewBox=\"-0.04 -0.04 1.08 1.08\" preserveAspectRatio=\"xMinYMin meet\"><g transform=\"matrix(1,0,0,-1,0,1.0)\"><polyline fill=\"none\" stroke=\"#66cc99\" stroke-width=\"0.0216\" points=\"0.0,0.0 1.0,0.0 1.0,1.0 0.0,0.0\" opacity=\"0.8\" /></g></svg>"
      ],
      "text/plain": [
       "<shapely.geometry.polygon.LinearRing at 0x7f03661492a0>"
      ]
     },
     "execution_count": 11,
     "metadata": {},
     "output_type": "execute_result"
    }
   ],
   "source": [
    "shapely.geometry.LinearRing(polygon.exterior.coords[::-1])"
   ]
  },
  {
   "cell_type": "code",
   "execution_count": null,
   "id": "951d4a3a-7528-455f-8132-c630a19052a1",
   "metadata": {},
   "outputs": [],
   "source": []
  }
 ],
 "metadata": {
  "kernelspec": {
   "display_name": "Python 3 (ipykernel)",
   "language": "python",
   "name": "python3"
  },
  "language_info": {
   "codemirror_mode": {
    "name": "ipython",
    "version": 3
   },
   "file_extension": ".py",
   "mimetype": "text/x-python",
   "name": "python",
   "nbconvert_exporter": "python",
   "pygments_lexer": "ipython3",
   "version": "3.10.4"
  }
 },
 "nbformat": 4,
 "nbformat_minor": 5
}
