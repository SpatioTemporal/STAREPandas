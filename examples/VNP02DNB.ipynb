{
 "cells": [
  {
   "cell_type": "code",
   "execution_count": 1,
   "metadata": {},
   "outputs": [],
   "source": [
    "import starepandas\n",
    "import matplotlib.pyplot as plt"
   ]
  },
  {
   "cell_type": "code",
   "execution_count": 2,
   "metadata": {},
   "outputs": [],
   "source": [
    "vnp03_name = '../tests/data/granules/VNP03DNB.A2020219.0742.001.2020219124651.nc'"
   ]
  },
  {
   "cell_type": "code",
   "execution_count": 3,
   "metadata": {},
   "outputs": [],
   "source": [
    "# Option 1: bootstrap\n",
    "#df = starepandas.read_granule(vnp03_name)"
   ]
  },
  {
   "cell_type": "code",
   "execution_count": 4,
   "metadata": {},
   "outputs": [],
   "source": [
    "# Option 2: read sidecar\n",
    "#df = starepandas.read_granule(vnp03_name, sidecar=True)"
   ]
  },
  {
   "cell_type": "code",
   "execution_count": 5,
   "metadata": {},
   "outputs": [],
   "source": [
    "# Option 3: Manual\n",
    "vnp03 = starepandas.io.granules.VNP03DNB(vnp03_name)\n",
    "vnp03.read_latlon()\n",
    "vnp03.read_data()\n",
    "vnp03 = vnp03.to_df()"
   ]
  },
  {
   "cell_type": "markdown",
   "metadata": {},
   "source": [
    "# VNP02"
   ]
  },
  {
   "cell_type": "code",
   "execution_count": 6,
   "metadata": {},
   "outputs": [],
   "source": [
    "vnp02_name = '../tests/data/granules/VNP02DNB.A2020219.0742.001.2020219125654.nc'\n",
    "vnp02 = starepandas.read_granule(vnp02_name, sidecar=False, read_latlon=False)"
   ]
  },
  {
   "cell_type": "code",
   "execution_count": 7,
   "metadata": {},
   "outputs": [],
   "source": [
    "vnp02 = vnp03.join(vnp02)"
   ]
  },
  {
   "cell_type": "code",
   "execution_count": 8,
   "metadata": {},
   "outputs": [
    {
     "data": {
      "text/html": [
       "<div>\n",
       "<style scoped>\n",
       "    .dataframe tbody tr th:only-of-type {\n",
       "        vertical-align: middle;\n",
       "    }\n",
       "\n",
       "    .dataframe tbody tr th {\n",
       "        vertical-align: top;\n",
       "    }\n",
       "\n",
       "    .dataframe thead th {\n",
       "        text-align: right;\n",
       "    }\n",
       "</style>\n",
       "<table border=\"1\" class=\"dataframe\">\n",
       "  <thead>\n",
       "    <tr style=\"text-align: right;\">\n",
       "      <th></th>\n",
       "      <th>lat</th>\n",
       "      <th>lon</th>\n",
       "      <th>moon_illumination_fraction</th>\n",
       "      <th>land_water_mask</th>\n",
       "      <th>quality_flag</th>\n",
       "      <th>DNB_observations</th>\n",
       "      <th>DNB_quality_flags</th>\n",
       "    </tr>\n",
       "  </thead>\n",
       "  <tbody>\n",
       "    <tr>\n",
       "      <th>267</th>\n",
       "      <td>41.680256</td>\n",
       "      <td>-102.596710</td>\n",
       "      <td>92.790001</td>\n",
       "      <td>2</td>\n",
       "      <td>0</td>\n",
       "      <td>3.503916e-09</td>\n",
       "      <td>16</td>\n",
       "    </tr>\n",
       "    <tr>\n",
       "      <th>368</th>\n",
       "      <td>41.663277</td>\n",
       "      <td>-101.661072</td>\n",
       "      <td>92.799995</td>\n",
       "      <td>2</td>\n",
       "      <td>0</td>\n",
       "      <td>6.539059e-09</td>\n",
       "      <td>16</td>\n",
       "    </tr>\n",
       "    <tr>\n",
       "      <th>369</th>\n",
       "      <td>41.663055</td>\n",
       "      <td>-101.652069</td>\n",
       "      <td>92.799995</td>\n",
       "      <td>2</td>\n",
       "      <td>0</td>\n",
       "      <td>7.083299e-09</td>\n",
       "      <td>16</td>\n",
       "    </tr>\n",
       "    <tr>\n",
       "      <th>403</th>\n",
       "      <td>41.654938</td>\n",
       "      <td>-101.342972</td>\n",
       "      <td>92.799995</td>\n",
       "      <td>2</td>\n",
       "      <td>0</td>\n",
       "      <td>8.231430e-09</td>\n",
       "      <td>16</td>\n",
       "    </tr>\n",
       "    <tr>\n",
       "      <th>883</th>\n",
       "      <td>41.460007</td>\n",
       "      <td>-96.951828</td>\n",
       "      <td>92.820000</td>\n",
       "      <td>2</td>\n",
       "      <td>0</td>\n",
       "      <td>2.414932e-09</td>\n",
       "      <td>16</td>\n",
       "    </tr>\n",
       "    <tr>\n",
       "      <th>...</th>\n",
       "      <td>...</td>\n",
       "      <td>...</td>\n",
       "      <td>...</td>\n",
       "      <td>...</td>\n",
       "      <td>...</td>\n",
       "      <td>...</td>\n",
       "      <td>...</td>\n",
       "    </tr>\n",
       "    <tr>\n",
       "      <th>13134843</th>\n",
       "      <td>16.577330</td>\n",
       "      <td>-78.576134</td>\n",
       "      <td>92.879997</td>\n",
       "      <td>7</td>\n",
       "      <td>0</td>\n",
       "      <td>2.087984e-09</td>\n",
       "      <td>0</td>\n",
       "    </tr>\n",
       "    <tr>\n",
       "      <th>13134844</th>\n",
       "      <td>16.575632</td>\n",
       "      <td>-78.569000</td>\n",
       "      <td>92.879997</td>\n",
       "      <td>7</td>\n",
       "      <td>0</td>\n",
       "      <td>1.579183e-09</td>\n",
       "      <td>0</td>\n",
       "    </tr>\n",
       "    <tr>\n",
       "      <th>13134845</th>\n",
       "      <td>16.573931</td>\n",
       "      <td>-78.561844</td>\n",
       "      <td>92.879997</td>\n",
       "      <td>7</td>\n",
       "      <td>0</td>\n",
       "      <td>1.579183e-09</td>\n",
       "      <td>0</td>\n",
       "    </tr>\n",
       "    <tr>\n",
       "      <th>13134846</th>\n",
       "      <td>16.572226</td>\n",
       "      <td>-78.554688</td>\n",
       "      <td>92.879997</td>\n",
       "      <td>7</td>\n",
       "      <td>0</td>\n",
       "      <td>2.393264e-09</td>\n",
       "      <td>0</td>\n",
       "    </tr>\n",
       "    <tr>\n",
       "      <th>13134847</th>\n",
       "      <td>16.570518</td>\n",
       "      <td>-78.547523</td>\n",
       "      <td>92.879997</td>\n",
       "      <td>7</td>\n",
       "      <td>0</td>\n",
       "      <td>1.986224e-09</td>\n",
       "      <td>0</td>\n",
       "    </tr>\n",
       "  </tbody>\n",
       "</table>\n",
       "<p>4150456 rows × 7 columns</p>\n",
       "</div>"
      ],
      "text/plain": [
       "                lat         lon  moon_illumination_fraction  land_water_mask  \\\n",
       "267       41.680256 -102.596710                   92.790001                2   \n",
       "368       41.663277 -101.661072                   92.799995                2   \n",
       "369       41.663055 -101.652069                   92.799995                2   \n",
       "403       41.654938 -101.342972                   92.799995                2   \n",
       "883       41.460007  -96.951828                   92.820000                2   \n",
       "...             ...         ...                         ...              ...   \n",
       "13134843  16.577330  -78.576134                   92.879997                7   \n",
       "13134844  16.575632  -78.569000                   92.879997                7   \n",
       "13134845  16.573931  -78.561844                   92.879997                7   \n",
       "13134846  16.572226  -78.554688                   92.879997                7   \n",
       "13134847  16.570518  -78.547523                   92.879997                7   \n",
       "\n",
       "          quality_flag  DNB_observations  DNB_quality_flags  \n",
       "267                  0      3.503916e-09                 16  \n",
       "368                  0      6.539059e-09                 16  \n",
       "369                  0      7.083299e-09                 16  \n",
       "403                  0      8.231430e-09                 16  \n",
       "883                  0      2.414932e-09                 16  \n",
       "...                ...               ...                ...  \n",
       "13134843             0      2.087984e-09                  0  \n",
       "13134844             0      1.579183e-09                  0  \n",
       "13134845             0      1.579183e-09                  0  \n",
       "13134846             0      2.393264e-09                  0  \n",
       "13134847             0      1.986224e-09                  0  \n",
       "\n",
       "[4150456 rows x 7 columns]"
      ]
     },
     "execution_count": 8,
     "metadata": {},
     "output_type": "execute_result"
    }
   ],
   "source": [
    "vnp02[(vnp02.land_water_mask==2) | (vnp02.land_water_mask==4) | (vnp02.land_water_mask==6) | (vnp02.land_water_mask==7)]"
   ]
  },
  {
   "cell_type": "markdown",
   "metadata": {},
   "source": [
    "# CLDMSK"
   ]
  },
  {
   "cell_type": "code",
   "execution_count": 9,
   "metadata": {},
   "outputs": [],
   "source": [
    "cldmsk_name = '../tests/data/granules/CLDMSK_L2_VIIRS_SNPP.A2020219.0742.001.2020219190616.nc'"
   ]
  },
  {
   "cell_type": "code",
   "execution_count": 10,
   "metadata": {},
   "outputs": [],
   "source": [
    "cldmsk = starepandas.io.granules.CLDMSK_L2_VIIRS(cldmsk_name)"
   ]
  },
  {
   "cell_type": "code",
   "execution_count": 11,
   "metadata": {},
   "outputs": [
    {
     "data": {
      "text/html": [
       "<div>\n",
       "<style scoped>\n",
       "    .dataframe tbody tr th:only-of-type {\n",
       "        vertical-align: middle;\n",
       "    }\n",
       "\n",
       "    .dataframe tbody tr th {\n",
       "        vertical-align: top;\n",
       "    }\n",
       "\n",
       "    .dataframe thead th {\n",
       "        text-align: right;\n",
       "    }\n",
       "</style>\n",
       "<table border=\"1\" class=\"dataframe\">\n",
       "  <thead>\n",
       "    <tr style=\"text-align: right;\">\n",
       "      <th></th>\n",
       "      <th>lat</th>\n",
       "      <th>lon</th>\n",
       "      <th>Integer_Cloud_Mask</th>\n",
       "    </tr>\n",
       "  </thead>\n",
       "  <tbody>\n",
       "    <tr>\n",
       "      <th>0</th>\n",
       "      <td>41.747662</td>\n",
       "      <td>-104.969498</td>\n",
       "      <td>3</td>\n",
       "    </tr>\n",
       "    <tr>\n",
       "      <th>1</th>\n",
       "      <td>41.747696</td>\n",
       "      <td>-104.950218</td>\n",
       "      <td>3</td>\n",
       "    </tr>\n",
       "    <tr>\n",
       "      <th>2</th>\n",
       "      <td>41.747730</td>\n",
       "      <td>-104.930237</td>\n",
       "      <td>3</td>\n",
       "    </tr>\n",
       "    <tr>\n",
       "      <th>3</th>\n",
       "      <td>41.747761</td>\n",
       "      <td>-104.910843</td>\n",
       "      <td>3</td>\n",
       "    </tr>\n",
       "    <tr>\n",
       "      <th>4</th>\n",
       "      <td>41.747784</td>\n",
       "      <td>-104.891747</td>\n",
       "      <td>3</td>\n",
       "    </tr>\n",
       "    <tr>\n",
       "      <th>...</th>\n",
       "      <td>...</td>\n",
       "      <td>...</td>\n",
       "      <td>...</td>\n",
       "    </tr>\n",
       "    <tr>\n",
       "      <th>10342395</th>\n",
       "      <td>16.522247</td>\n",
       "      <td>-78.595093</td>\n",
       "      <td>2</td>\n",
       "    </tr>\n",
       "    <tr>\n",
       "      <th>10342396</th>\n",
       "      <td>16.518646</td>\n",
       "      <td>-78.580162</td>\n",
       "      <td>1</td>\n",
       "    </tr>\n",
       "    <tr>\n",
       "      <th>10342397</th>\n",
       "      <td>16.515034</td>\n",
       "      <td>-78.565208</td>\n",
       "      <td>0</td>\n",
       "    </tr>\n",
       "    <tr>\n",
       "      <th>10342398</th>\n",
       "      <td>16.511414</td>\n",
       "      <td>-78.550224</td>\n",
       "      <td>1</td>\n",
       "    </tr>\n",
       "    <tr>\n",
       "      <th>10342399</th>\n",
       "      <td>16.507788</td>\n",
       "      <td>-78.535187</td>\n",
       "      <td>1</td>\n",
       "    </tr>\n",
       "  </tbody>\n",
       "</table>\n",
       "<p>10342400 rows × 3 columns</p>\n",
       "</div>"
      ],
      "text/plain": [
       "                lat         lon  Integer_Cloud_Mask\n",
       "0         41.747662 -104.969498                   3\n",
       "1         41.747696 -104.950218                   3\n",
       "2         41.747730 -104.930237                   3\n",
       "3         41.747761 -104.910843                   3\n",
       "4         41.747784 -104.891747                   3\n",
       "...             ...         ...                 ...\n",
       "10342395  16.522247  -78.595093                   2\n",
       "10342396  16.518646  -78.580162                   1\n",
       "10342397  16.515034  -78.565208                   0\n",
       "10342398  16.511414  -78.550224                   1\n",
       "10342399  16.507788  -78.535187                   1\n",
       "\n",
       "[10342400 rows x 3 columns]"
      ]
     },
     "execution_count": 11,
     "metadata": {},
     "output_type": "execute_result"
    }
   ],
   "source": [
    "cldmsk.read_latlon()\n",
    "cldmsk.read_data()\n",
    "cldmsk.to_df()"
   ]
  },
  {
   "cell_type": "markdown",
   "metadata": {},
   "source": [
    "# Plotting"
   ]
  },
  {
   "cell_type": "code",
   "execution_count": 13,
   "metadata": {},
   "outputs": [],
   "source": [
    "path = '../tests/data/granules/VNP03DNB.A2020219.0742.001.2020219124651.nc'\n",
    "vnp03dnb = starepandas.io.granules.VIIRS_L2(path)\n",
    "vnp03dnb.read_latlon()\n",
    "\n",
    "path = '../tests/data/granules/VNP03MOD.A2020219.0742.001.2020219124651.nc'\n",
    "vnp03mod = starepandas.io.granules.VIIRS_L2(path)\n",
    "vnp03mod.read_latlon()\n",
    "\n",
    "path = '../tests/data/granules/CLDMSK_L2_VIIRS_SNPP.A2020219.0742.001.2020219190616.nc'\n",
    "cldmsk = starepandas.io.granules.VIIRS_L2(path)\n",
    "cldmsk.read_latlon()"
   ]
  },
  {
   "cell_type": "code",
   "execution_count": 17,
   "metadata": {},
   "outputs": [
    {
     "data": {
      "text/plain": [
       "[<matplotlib.lines.Line2D at 0x7f0b9f99e128>]"
      ]
     },
     "execution_count": 17,
     "metadata": {},
     "output_type": "execute_result"
    },
    {
     "data": {
      "image/png": "[encoded data removed]",
      "text/plain": [
       "<Figure size 1000x1000 with 1 Axes>"
      ]
     },
     "metadata": {
      "needs_background": "light"
     },
     "output_type": "display_data"
    }
   ],
   "source": [
    "fig, ax = plt.subplots(figsize=(5,5), dpi=200)\n",
    "\n",
    "n = 20\n",
    "ns = 1000\n",
    "nt = 1000\n",
    "\n",
    "ax.grid('on')\n",
    "\n",
    "ax.plot(cldmsk.lon[ns:ns+n, nt:nt+n].flatten(), cldmsk.lat[ns:ns+n, nt:nt+n].flatten(), \n",
    "        color='r', lw=0, marker='.')\n",
    "ax.plot(vnp03mod.lon[ns:ns+n, nt:nt+n].flatten(), vnp03mod.lat[ns:ns+n, nt:nt+n].flatten(), \n",
    "        color='g',lw=0, marker='.')\n",
    "\n",
    "#ax.plot(vnp03dnb.lon[ns:ns+n, nt:nt+n].flatten(), vnp03dnb.lat[ns:ns+n, nt:nt+n].flatten(), \n",
    "#        color='b',lw=0, marker='.')"
   ]
  },
  {
   "cell_type": "code",
   "execution_count": null,
   "metadata": {},
   "outputs": [],
   "source": []
  }
 ],
 "metadata": {
  "kernelspec": {
   "display_name": "Python 3",
   "language": "python",
   "name": "python3"
  },
  "language_info": {
   "codemirror_mode": {
    "name": "ipython",
    "version": 3
   },
   "file_extension": ".py",
   "mimetype": "text/x-python",
   "name": "python",
   "nbconvert_exporter": "python",
   "pygments_lexer": "ipython3",
   "version": "3.6.8"
  }
 },
 "nbformat": 4,
 "nbformat_minor": 5
}
