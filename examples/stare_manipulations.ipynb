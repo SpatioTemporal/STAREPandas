{
 "cells": [
  {
   "cell_type": "markdown",
   "id": "0fe1e450",
   "metadata": {},
   "source": [
    "# STARE manipulations"
   ]
  },
  {
   "cell_type": "code",
   "execution_count": 1,
   "id": "d8c6b381",
   "metadata": {},
   "outputs": [],
   "source": [
    "import starepandas\n",
    "import pystare\n",
    "import geopandas\n",
    "import matplotlib.pyplot as plt"
   ]
  },
  {
   "cell_type": "code",
   "execution_count": 2,
   "id": "739e8ec9",
   "metadata": {},
   "outputs": [],
   "source": [
    "sids = [2299437706637111721, 2299435211084507593, 2299566194809236969]\n",
    "sdf = starepandas.STAREDataFrame(stare=sids)        "
   ]
  },
  {
   "cell_type": "markdown",
   "id": "dbe7aa83",
   "metadata": {},
   "source": [
    "## Change resolutions"
   ]
  },
  {
   "cell_type": "code",
   "execution_count": 3,
   "id": "3c348183",
   "metadata": {},
   "outputs": [
    {
     "data": {
      "text/plain": [
       "0    2299437706637111718\n",
       "1    2299435211084507590\n",
       "2    2299566194809236966\n",
       "Name: stare, dtype: int64"
      ]
     },
     "execution_count": 3,
     "metadata": {},
     "output_type": "execute_result"
    }
   ],
   "source": [
    "sdf.to_stare_resolution(resolution=6, clear_to_resolution=False)"
   ]
  },
  {
   "cell_type": "markdown",
   "id": "a8114d63",
   "metadata": {},
   "source": [
    "## Clear Resolution"
   ]
  },
  {
   "cell_type": "code",
   "execution_count": 4,
   "id": "dd624e61",
   "metadata": {},
   "outputs": [
    {
     "data": {
      "text/plain": [
       "array([2299437254470270985, 2299435055447015433, 2299564797819093001])"
      ]
     },
     "execution_count": 4,
     "metadata": {},
     "output_type": "execute_result"
    }
   ],
   "source": [
    "sdf.clear_to_resolution(inplace=False)"
   ]
  },
  {
   "cell_type": "markdown",
   "id": "ddff362a",
   "metadata": {},
   "source": [
    "## To single resolution"
   ]
  },
  {
   "cell_type": "code",
   "execution_count": 5,
   "id": "1127d79a",
   "metadata": {},
   "outputs": [],
   "source": [
    "world = geopandas.read_file(geopandas.datasets.get_path('naturalearth_lowres'))\n",
    "europe  = world[world.continent=='Europe']\n",
    "europe = starepandas.STAREDataFrame(europe, add_stare=True, level=7, add_trixels=True)"
   ]
  },
  {
   "cell_type": "code",
   "execution_count": 6,
   "id": "cdd4d5dd",
   "metadata": {},
   "outputs": [],
   "source": [
    "sids = europe.to_stare_singleres()\n",
    "europe2 = europe.set_stare(sids)\n",
    "europe2.set_trixels(inplace=True)"
   ]
  },
  {
   "cell_type": "code",
   "execution_count": null,
   "id": "35c2875b",
   "metadata": {},
   "outputs": [],
   "source": [
    "fig, ax = plt.subplots(1, 2, dpi=200, figsize=(6,6))\n",
    "ax[0].grid(True)\n",
    "ax[1].grid(True)\n",
    "            \n",
    "europe[europe.name=='Germany'].plot(ax=ax[0], trixels=True)\n",
    "europe2[europe2.name=='Germany'].plot(ax=ax[1], trixels=True)\n",
    "\n",
    "ax[0].set_aspect('equal')\n",
    "ax[1].set_aspect('equal')"
   ]
  }
 ],
 "metadata": {
  "kernelspec": {
   "display_name": "Python 3",
   "language": "python",
   "name": "python3"
  },
  "language_info": {
   "codemirror_mode": {
    "name": "ipython",
    "version": 3
   },
   "file_extension": ".py",
   "mimetype": "text/x-python",
   "name": "python",
   "nbconvert_exporter": "python",
   "pygments_lexer": "ipython3",
   "version": "3.8.5"
  }
 },
 "nbformat": 4,
 "nbformat_minor": 5
}
