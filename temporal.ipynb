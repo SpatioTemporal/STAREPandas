{
 "cells": [
  {
   "cell_type": "markdown",
   "id": "thermal-perspective",
   "metadata": {},
   "source": [
    "# Temporal"
   ]
  },
  {
   "cell_type": "code",
   "execution_count": 7,
   "id": "controlled-quality",
   "metadata": {},
   "outputs": [],
   "source": [
    "import starepandas\n",
    "import pystare\n",
    "import pandas"
   ]
  },
  {
   "cell_type": "code",
   "execution_count": 17,
   "id": "light-district",
   "metadata": {},
   "outputs": [],
   "source": [
    "dates = ['2021-09-03 12:48', '2021-07-17 11:16']\n",
    "dates = pandas.to_datetime(dates)\n",
    "df = starepandas.STAREDataFrame({'dates': dates})"
   ]
  },
  {
   "cell_type": "code",
   "execution_count": 20,
   "id": "bearing-sphere",
   "metadata": {},
   "outputs": [
    {
     "data": {
      "text/plain": [
       "0   2021-09-03 12:48:00\n",
       "1   2021-07-17 11:16:00\n",
       "Name: dates, dtype: datetime64[ns]"
      ]
     },
     "execution_count": 20,
     "metadata": {},
     "output_type": "execute_result"
    }
   ],
   "source": [
    "df['dates']"
   ]
  },
  {
   "cell_type": "code",
   "execution_count": null,
   "id": "curious-college",
   "metadata": {},
   "outputs": [],
   "source": []
  }
 ],
 "metadata": {
  "kernelspec": {
   "display_name": "Python 3",
   "language": "python",
   "name": "python3"
  },
  "language_info": {
   "codemirror_mode": {
    "name": "ipython",
    "version": 3
   },
   "file_extension": ".py",
   "mimetype": "text/x-python",
   "name": "python",
   "nbconvert_exporter": "python",
   "pygments_lexer": "ipython3",
   "version": "3.8.10"
  }
 },
 "nbformat": 4,
 "nbformat_minor": 5
}
